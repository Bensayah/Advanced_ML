{
  "nbformat": 4,
  "nbformat_minor": 0,
  "metadata": {
    "colab": {
      "name": "WOA7015_Wk2.ipynb",
      "provenance": [],
      "collapsed_sections": [],
      "authorship_tag": "ABX9TyNzH5HtW3hFnnjy3RNNp/gt",
      "include_colab_link": true
    },
    "kernelspec": {
      "name": "python3",
      "display_name": "Python 3"
    },
    "language_info": {
      "name": "python"
    }
  },
  "cells": [
    {
      "cell_type": "markdown",
      "metadata": {
        "id": "view-in-github",
        "colab_type": "text"
      },
      "source": [
        "<a href=\"https://colab.research.google.com/github/shiernee/Advanced_ML/blob/main/Week2/WOA7015_Wk2.ipynb\" target=\"_parent\"><img src=\"https://colab.research.google.com/assets/colab-badge.svg\" alt=\"Open In Colab\"/></a>"
      ]
    },
    {
      "cell_type": "markdown",
      "metadata": {
        "id": "HLjtuMaImRla"
      },
      "source": [
        "# Welcome to WOA7015 Advance Machine Learning Lab - Week 2 \n",
        "This code is generated for the purpose of WOA7015 module.\n",
        "The code is available in github https://github.com/shiernee/Advanced_ML \n"
      ]
    },
    {
      "cell_type": "markdown",
      "metadata": {
        "id": "Jxdp_95lYsoV"
      },
      "source": [
        "# The Gaussian Distribution\n",
        "\n",
        "The p.d.f of random variable $Z$ with a gaussian / normal distribution is shown below\n",
        "\n",
        "$$ p(z) = \\frac{1}{\\sqrt{2\\pi}} e^{-z^2 / 2}. $$\n",
        "\n",
        "It is defined for all real values $z$, from $-\\infty$ to $\\infty$.\n",
        "\n",
        "The distribution looks like this:"
      ]
    },
    {
      "cell_type": "code",
      "metadata": {
        "id": "MPLuZCPQZ9cK"
      },
      "source": [
        "# import symbulate https://dlsun.github.io/symbulate/index.html \n",
        "\n",
        "!pip install -q symbulate\n",
        "from symbulate import *"
      ],
      "execution_count": null,
      "outputs": []
    },
    {
      "cell_type": "code",
      "metadata": {
        "colab": {
          "base_uri": "https://localhost:8080/",
          "height": 257
        },
        "id": "QBS_72HxYozq",
        "outputId": "b94749e3-3ad8-4bba-f810-a7e6c316944b"
      },
      "source": [
        "Normal().plot()"
      ],
      "execution_count": null,
      "outputs": [
        {
          "output_type": "display_data",
          "data": {
            "image/png": "[encoded data removed]",
            "text/plain": [
              "<Figure size 432x288 with 1 Axes>"
            ]
          },
          "metadata": {
            "needs_background": "light"
          }
        }
      ]
    },
    {
      "cell_type": "markdown",
      "metadata": {
        "id": "4jjeZ6B4ZNfI"
      },
      "source": [
        "### Expected Value\n",
        "\n",
        "The expected value of a standard normal random variable, $E[Z]$, is...\n"
      ]
    },
    {
      "cell_type": "code",
      "metadata": {
        "colab": {
          "base_uri": "https://localhost:8080/"
        },
        "id": "mt-8KUGKZRct",
        "outputId": "b22f01ea-38bf-4094-f959-efcd62d9243c"
      },
      "source": [
        "Normal().mean()"
      ],
      "execution_count": null,
      "outputs": [
        {
          "output_type": "execute_result",
          "data": {
            "text/plain": [
              "0.0"
            ]
          },
          "metadata": {},
          "execution_count": 135
        }
      ]
    },
    {
      "cell_type": "markdown",
      "metadata": {
        "id": "IR_V8vj5ZS5s"
      },
      "source": [
        "### Variance\n",
        "\n",
        "The variance of a standard normal random variable, $\\text{Var}[Z]$, is..."
      ]
    },
    {
      "cell_type": "code",
      "metadata": {
        "colab": {
          "base_uri": "https://localhost:8080/"
        },
        "id": "hcrji_ZGZU-u",
        "outputId": "1d370efb-1c29-40e7-c205-82599c161118"
      },
      "source": [
        "Normal().var()"
      ],
      "execution_count": null,
      "outputs": [
        {
          "output_type": "execute_result",
          "data": {
            "text/plain": [
              "1.0"
            ]
          },
          "metadata": {},
          "execution_count": 136
        }
      ]
    },
    {
      "cell_type": "markdown",
      "metadata": {
        "id": "K0RWPxPoZYT1"
      },
      "source": [
        "## The (General) Normal Distribution\n",
        "\n",
        "The standard normal distribution is centered at 0 with a variance of 1. In general, we can\n",
        "- scale the bell shape to be as wide as we want, \n",
        "- shift the bell shape to be centered wherever we want.\n",
        "\n",
        "If $Z$ is standard normal, then \n",
        "$$ X = \\mu + \\sigma Z $$\n",
        "is $\\text{Normal}(\\mu, \\sigma)$. The parameter $\\mu$ is the expected value, and the parameter $\\sigma$ is the standard deviation. (So $\\sigma^2$ is the variance.)"
      ]
    },
    {
      "cell_type": "markdown",
      "metadata": {
        "id": "-vWADOjsbZ4i"
      },
      "source": [
        "## Exercise 1\n",
        "Generate a normal distribution with \n",
        "1. mean=1, stdev=0.25\n",
        "2. mean=1, stdev=0.5\n",
        "3. mean=1, stdev=0.75\n",
        "4. mean=3, stdev=0.25\n",
        "5. mean=3, stdev=0.5\n",
        "6. mean=3, stdev=0.75\n",
        "\n",
        "in the same plot with different colors with legends."
      ]
    },
    {
      "cell_type": "code",
      "metadata": {
        "id": "R6kAL_mAekJp"
      },
      "source": [
        "# Your code here"
      ],
      "execution_count": null,
      "outputs": []
    },
    {
      "cell_type": "code",
      "metadata": {
        "id": "3Hyw2KPXfobM",
        "cellView": "form"
      },
      "source": [
        "#@title ## Exercise 1 Solution - Try yourself first.\n",
        "\n",
        "legend_list = []\n",
        "for m in [1, 3]:\n",
        "  for sd in [0.25, 0.5, 0.75]:\n",
        "    Normal(mean=m, sd=sd).plot()\n",
        "    legend_list.append([\"mean=%d sd=%0.2f\" %(m, sd)])\n",
        "\n",
        "\n",
        "import matplotlib.pyplot as plt\n",
        "plt.legend(legend_list)"
      ],
      "execution_count": null,
      "outputs": []
    },
    {
      "cell_type": "markdown",
      "metadata": {
        "id": "70GimY8YZDsW"
      },
      "source": [
        "# Probability\n",
        "\n",
        "To calculate probabilities, we integrate the p.d.f. over the relevant region. For example,\n",
        "\n",
        "$$ P(Z \\leq 1) = \\int_{-\\infty}^1 \\frac{1}{\\sqrt{2\\pi}} e^{-z^2 / 2}\\,dz. $$\n",
        "\n",
        "Unlike other continuous distributions we have studied, the p.d.f. $p(z)$ has no elementary antiderivative. That means that you will not be able to evaluate this integral by paper and pencil, using techniques you learned in calculus. It has to be evaluated numerically. Fortunately, you can do this easily in Symbulate. \n",
        "\n",
        "For example, $P(Z \\leq 1)$ is just the c.d.f. evaluated at $1$. The c.d.f. of the standard normal distribution is often represented by $\\Phi(z)$. So we need to calculate $\\Phi(1)$."
      ]
    },
    {
      "cell_type": "code",
      "metadata": {
        "colab": {
          "base_uri": "https://localhost:8080/"
        },
        "id": "VdEJLbBhZJFx",
        "outputId": "74de02d2-bd7a-4f32-9be6-71bf95e204e6"
      },
      "source": [
        "Normal().cdf(1)"
      ],
      "execution_count": null,
      "outputs": [
        {
          "output_type": "execute_result",
          "data": {
            "text/plain": [
              "0.8413447460685429"
            ]
          },
          "metadata": {},
          "execution_count": 139
        }
      ]
    },
    {
      "cell_type": "markdown",
      "metadata": {
        "id": "SM7-6Y98ZK3f"
      },
      "source": [
        "## Exercise 2:\n",
        "How would you calculate $P(-2 < Z < 2)$?"
      ]
    },
    {
      "cell_type": "code",
      "metadata": {
        "id": "BJCxH08IZOBx"
      },
      "source": [
        "# YOUR CODE HERE\n"
      ],
      "execution_count": null,
      "outputs": []
    },
    {
      "cell_type": "code",
      "metadata": {
        "id": "7DJQ7MKMgLYs",
        "cellView": "form"
      },
      "source": [
        "#@title Solution 2 - Try yourself first \n",
        "# P(-2 < Z < 2) = P(Z < 2) - P(Z < -2)\n",
        "\n",
        "Normal().cdf([2]) - Normal().cdf([-2]) \n"
      ],
      "execution_count": null,
      "outputs": []
    },
    {
      "cell_type": "markdown",
      "metadata": {
        "id": "qplX9C0R2xiO"
      },
      "source": [
        "# Monte Carlo Approximation \n",
        "\n",
        "## Example 1: Coin Flip Example\n",
        "\n",
        "The probability of head for a fair coin is 1/2. Monte-Carlo method to simulate the coin-flipping iteratively 5000 times to find out why the probability of a head or tail is always 1/2. \n",
        "\n",
        "<img src=\"https://raw.githubusercontent.com/shiernee/Advanced_ML/main/Week2/CoinFlip.png\" width=\"256\"/>"
      ]
    },
    {
      "cell_type": "code",
      "metadata": {
        "id": "VDZ8iQzRDetH"
      },
      "source": [
        "# import require libraries\n",
        "import random\n",
        "import numpy as np\n",
        "import matplotlib.pyplot as plt\n"
      ],
      "execution_count": null,
      "outputs": []
    },
    {
      "cell_type": "code",
      "metadata": {
        "colab": {
          "base_uri": "https://localhost:8080/"
        },
        "id": "E51dVvVuDlCv",
        "outputId": "becec468-6c3b-4609-aa30-d1c2d0fba436"
      },
      "source": [
        "# coin flip function:\n",
        "# 0 --> Head\n",
        "# 1 --> Tail\n",
        "\n",
        "def coin_flip():\n",
        "  return random.randint(0, 1)\n",
        "\n",
        "# check the output of coin_flip\n",
        "for i in range(10):\n",
        "  print('iteration' + str(i) + '--> ' + str(coin_flip()))"
      ],
      "execution_count": null,
      "outputs": [
        {
          "output_type": "stream",
          "name": "stdout",
          "text": [
            "iteration0--> 0\n",
            "iteration1--> 0\n",
            "iteration2--> 0\n",
            "iteration3--> 1\n",
            "iteration4--> 1\n",
            "iteration5--> 1\n",
            "iteration6--> 0\n",
            "iteration7--> 1\n",
            "iteration8--> 0\n",
            "iteration9--> 1\n"
          ]
        }
      ]
    },
    {
      "cell_type": "code",
      "metadata": {
        "id": "FNTszy01EA7C"
      },
      "source": [
        "# Monte Carlo Simulation\n",
        "list1= []\n",
        "\n",
        "def monte_carlo(n):\n",
        "  results = 0\n",
        "  plt.axhline(y=0.5, color='r', linestyle='-')\n",
        "\n",
        "  for i in range(n):\n",
        "    flip_result = coin_flip()\n",
        "    results = results + flip_result\n",
        "\n",
        "    # calculate probabibility valuue\n",
        "    prob_value = results / (i+1)\n",
        "\n",
        "    # append probability to list1\n",
        "    list1.append(prob_value)\n",
        "\n",
        "    # plot results    \n",
        "    plt.xlabel('iteration')\n",
        "    plt.ylabel('probability')\n",
        "    plt.plot(list1)\n",
        "\n",
        "  return results / n"
      ],
      "execution_count": null,
      "outputs": []
    },
    {
      "cell_type": "code",
      "metadata": {
        "colab": {
          "base_uri": "https://localhost:8080/",
          "height": 296
        },
        "id": "OIgkm927Eiml",
        "outputId": "0180a949-7242-4688-a3dd-0c142394258c"
      },
      "source": [
        "# call monte carlo functioiin\n",
        "answer = monte_carlo(10000)\n",
        "print('final value of probability: ', answer)"
      ],
      "execution_count": null,
      "outputs": [
        {
          "output_type": "stream",
          "name": "stdout",
          "text": [
            "final value of probability:  0.5077\n"
          ]
        },
        {
          "output_type": "display_data",
          "data": {
            "image/png": "[encoded data removed]",
            "text/plain": [
              "<Figure size 432x288 with 1 Axes>"
            ]
          },
          "metadata": {
            "needs_background": "light"
          }
        }
      ]
    },
    {
      "cell_type": "markdown",
      "metadata": {
        "id": "uq4nxGfCI5U9"
      },
      "source": [
        "# Example 2: Estimating Pi from Circle and Square\n",
        "\n",
        "To estimate the value of Pi, we can use the area of circle and square. \n",
        "$$ \\frac{Area \\ Circle}{Area \\ Square} = \\frac{\\pi*r^2}{2r * 2r}  $$ <br>\n",
        "$$ \\frac{Area \\ Circle}{Area \\ Square} = \\frac{\\pi}{4}  $$ <br>\n",
        "\n",
        "$\\pi$ value can be estimate using the following formula\n",
        "$$ \\pi = 4* \\frac{Area \\ Circle}{Area \\ Square} $$\n",
        "\n",
        "\n",
        "<img src=\"https://raw.githubusercontent.com/shiernee/Advanced_ML/main/Week2/EstimatePiFromCircleSquare.png\" width=\"256\"> \n",
        "\n",
        "Assuming r = 0.5\n",
        "\n",
        "length_of_field = 2r = 1.0\n"
      ]
    },
    {
      "cell_type": "code",
      "metadata": {
        "id": "IDsUuJvXNsHl"
      },
      "source": [
        "import turtle\n",
        "from random import random \n",
        "import matplotlib.pyplot as plt\n",
        "import math"
      ],
      "execution_count": 3,
      "outputs": []
    },
    {
      "cell_type": "code",
      "metadata": {
        "id": "YC4A6swHNwUK"
      },
      "source": [
        "# simulate raindrop \n",
        "# return x and y coordinates of raindrop\n",
        "\n",
        "def rain_drop(length_of_field=1):\n",
        "    \"\"\"\n",
        "    Simulate a random rain drop\n",
        "    \"\"\"\n",
        "    return [(.5 - random()) * length_of_field, (.5 - random()) * length_of_field]\n"
      ],
      "execution_count": 4,
      "outputs": []
    },
    {
      "cell_type": "code",
      "metadata": {
        "id": "FSjfm-qKOBo7"
      },
      "source": [
        "# check if raindrop fall in circle by using circle formula \n",
        "\n",
        "def is_point_in_circle(point, length_of_field=1):\n",
        "    \"\"\"\n",
        "    Return True if point is in inscribed circle\n",
        "    Use circle formula --> x^2 + y^2 <= r^2\n",
        "    \"\"\"\n",
        "    return (point[0]) ** 2 + (point[1]) ** 2 <= (length_of_field / 2) ** 2"
      ],
      "execution_count": 5,
      "outputs": []
    },
    {
      "cell_type": "code",
      "metadata": {
        "id": "Siq4wlDBOCf4"
      },
      "source": [
        "def plot_rain_drops(drops_in_circle, drops_out_of_circle, length_of_field=1, format='pdf'):\n",
        "    \"\"\" Function to draw rain drops \"\"\"\n",
        "    number_of_drops_in_circle = len(drops_in_circle)\n",
        "    number_of_drops_out_of_circle = len(drops_out_of_circle)\n",
        "    number_of_drops = number_of_drops_in_circle + number_of_drops_out_of_circle\n",
        "    plt.figure()\n",
        "    plt.xlim(-length_of_field / 2, length_of_field / 2)\n",
        "    plt.ylim(-length_of_field / 2, length_of_field / 2)\n",
        "    plt.scatter([e[0] for e in drops_in_circle], [e[1] for e in drops_in_circle], color='blue', label=\"Drops in circle\")\n",
        "    plt.scatter([e[0] for e in drops_out_of_circle], [e[1] for e in drops_out_of_circle], color='black', label=\"Drops out of circle\")\n",
        "    plt.legend(loc=\"center\")\n",
        "    plt.title(\"%s drops: %s landed in circle, estimating $\\pi$ as %.4f.\" % (number_of_drops, number_of_drops_in_circle, 4 * number_of_drops_in_circle / number_of_drops))\n",
        "    plt.savefig(\"%s_drops.%s\" % (number_of_drops, format))\n"
      ],
      "execution_count": 6,
      "outputs": []
    },
    {
      "cell_type": "code",
      "metadata": {
        "id": "6J5qnEUKOFQS"
      },
      "source": [
        "# simulate raindrop \n",
        "# return total number of raindrop in circle and in square\n",
        "\n",
        "def rain(number_of_drops=1000, length_of_field=1, plot=True, format='pdf', dynamic=False):\n",
        "    \"\"\"\n",
        "    Function to make rain drops.\n",
        "    \"\"\"\n",
        "    number_of_drops_in_circle = 0\n",
        "    drops_in_circle = []\n",
        "    drops_out_of_circle = []\n",
        "    pi_estimate = []\n",
        "    for k in range(number_of_drops):\n",
        "        d = (rain_drop(length_of_field))\n",
        "        if is_point_in_circle(d, length_of_field):\n",
        "            drops_in_circle.append(d)\n",
        "            number_of_drops_in_circle += 1\n",
        "        else:\n",
        "            drops_out_of_circle.append(d)\n",
        "        if dynamic:  # The dynamic option if set to True will plot every new drop (this can be used to create animations of the simulation)\n",
        "            print(\"Plotting drop number: %s\" % (k + 1))\n",
        "            plot_rain_drops(drops_in_circle, drops_out_of_circle, length_of_field, format)\n",
        "        pi_estimate.append(4 * number_of_drops_in_circle / (k + 1))  # This updates the list with the newest estimate for pi.\n",
        "    # Plot the pi estimates\n",
        "    plt.figure()\n",
        "    plt.scatter(range(1, number_of_drops + 1), pi_estimate)\n",
        "    max_x = plt.xlim()[1]\n",
        "    plt.hlines(math.pi, 0, max_x, color='black')\n",
        "    plt.xlim(0, max_x)\n",
        "    plt.title(\"$\\pi$ estimate against number of rain drops\")\n",
        "    plt.xlabel(\"Number of rain drops\")\n",
        "    plt.ylabel(\"$\\pi$\")\n",
        "    # plt.savefig(\"Pi_estimate_for_%s_drops_thrown.pdf\" % number_of_drops)\n",
        "\n",
        "    if plot and not dynamic:\n",
        "        # If the plot option is passed and matplotlib is installed this plots\n",
        "        # the final set of drops\n",
        "        plot_rain_drops(drops_in_circle, drops_out_of_circle, length_of_field, format)\n",
        "\n",
        "    return [number_of_drops_in_circle, number_of_drops]\n"
      ],
      "execution_count": 9,
      "outputs": []
    },
    {
      "cell_type": "code",
      "metadata": {
        "id": "yLLV4UstOHQ7"
      },
      "source": [
        "# call the function \n",
        "number_of_drops = 10\n",
        "r = rain(number_of_drops, plot=True, format='png', dynamic=False)\n",
        "\n",
        "print(\"----------------------\")\n",
        "print(\"%s drops\" % number_of_drops)\n",
        "print(\"pi estimated as: %s \" % (4 * r[0] / r[1]))\n",
        "print(\"----------------------\")"
      ],
      "execution_count": null,
      "outputs": []
    },
    {
      "cell_type": "markdown",
      "metadata": {
        "id": "Si-mUBcUSuJr"
      },
      "source": [
        "## Now try increasing number_of_drops and check the value of $\\pi$. \n",
        "\n",
        "## At what value of number_of_drops does the $\\pi$ value approaches 3.14? Write down your answer below. "
      ]
    },
    {
      "cell_type": "code",
      "metadata": {
        "id": "Fu1QGY8gTHxa"
      },
      "source": [
        "# write your answer here. \n"
      ],
      "execution_count": null,
      "outputs": []
    },
    {
      "cell_type": "markdown",
      "metadata": {
        "id": "gcHiPdooiubi"
      },
      "source": [
        "# ***Let's go back to power point - slide 11***"
      ]
    },
    {
      "cell_type": "markdown",
      "metadata": {
        "id": "0-_f8CZnVmYO"
      },
      "source": [
        "# Multivariate Gaussian Distribution\n",
        "\n",
        "For two continuous random variables, plot type density uses the simulated $ (x,y)$  to estimate the joint probability density function and plot it.\n",
        "\n",
        "### Example. Assume  <br>\n",
        "mean of X = 1, mean of Y = 2 <br>\n",
        "variance of X = 2, variance of Y = 4 <br>\n",
        "covariance of xy and yx = 1"
      ]
    },
    {
      "cell_type": "code",
      "metadata": {
        "id": "lY6YpCNPVpsk"
      },
      "source": [
        "mu    = [1, 2]\n",
        "Sigma = [[2, 1],\n",
        "         [1, 4]]\n",
        "\n",
        "X, Y = RV(MultivariateNormal(mean = mu, cov = Sigma))\n",
        "Z = X + Y\n"
      ],
      "execution_count": null,
      "outputs": []
    },
    {
      "cell_type": "code",
      "metadata": {
        "colab": {
          "base_uri": "https://localhost:8080/"
        },
        "id": "9FVnrgThbEyw",
        "outputId": "5d2eb090-2f18-49cf-e98c-11d2880e6622"
      },
      "source": [
        "# understand each output \n",
        "\n",
        "x = X.sim(10000)\n",
        "y = Y.sim(10000)\n",
        "z = Z.sim(10000)\n",
        "print('X mean:', x.mean())\n",
        "print('Y mean:', y.mean())\n",
        "print('Z mean:', z.mean())\n",
        "print('X variance:', x.sd()**2)\n",
        "print('Y variance:', y.sd()**2)\n",
        "print('Z variance:', z.sd()**2)\n"
      ],
      "execution_count": null,
      "outputs": [
        {
          "output_type": "stream",
          "name": "stdout",
          "text": [
            "X mean: 0.9885159994686478\n",
            "Y mean: 1.9943487202568226\n",
            "Z mean: 3.0099520820856447\n",
            "X variance: 1.9858561508002956\n",
            "Y variance: 4.003230178696508\n",
            "Z variance: 7.880201780233529\n"
          ]
        }
      ]
    },
    {
      "cell_type": "code",
      "metadata": {
        "colab": {
          "base_uri": "https://localhost:8080/",
          "height": 271
        },
        "id": "BP6E_Ytdd7Km",
        "outputId": "ce7b943a-da71-44b2-868e-471d64f43a0b"
      },
      "source": [
        "(X & Y).sim(10000).plot(type=\"density\")"
      ],
      "execution_count": null,
      "outputs": [
        {
          "output_type": "display_data",
          "data": {
            "image/png": "[encoded data removed]",
            "text/plain": [
              "<Figure size 432x288 with 2 Axes>"
            ]
          },
          "metadata": {
            "needs_background": "light"
          }
        }
      ]
    },
    {
      "cell_type": "markdown",
      "metadata": {
        "id": "VPiOeOD1a-FF"
      },
      "source": [
        "# Exercise 3  \n",
        "Generate the Multivariate Gaussian as shown below given variance of X = 2, variance of Y = 4\n",
        "\n",
        "<img src=\"https://raw.githubusercontent.com/shiernee/Advanced_ML/main/Week2/Exercise3_Multivariate_Image.png\" width=\"512\"> "
      ]
    },
    {
      "cell_type": "code",
      "metadata": {
        "id": "0fYiOs5_lVBl"
      },
      "source": [
        "# your code here"
      ],
      "execution_count": null,
      "outputs": []
    },
    {
      "cell_type": "code",
      "metadata": {
        "cellView": "form",
        "id": "kF_99p4Jg4AP"
      },
      "source": [
        "#@title Solution - Try yourself first\n",
        "mu    = [4, 2]\n",
        "Sigma = [[2, -1],\n",
        "         [-1, 4]]\n",
        "\n",
        "X, Y = RV(MultivariateNormal(mean = mu, cov = Sigma))\n",
        "(X & Y).sim(10000).plot(type=\"density\")"
      ],
      "execution_count": null,
      "outputs": []
    },
    {
      "cell_type": "markdown",
      "metadata": {
        "id": "pQXygBZFK9MJ"
      },
      "source": [
        "# Regularization \n",
        "\n",
        "Here we examine how regularizer in Ridge regression help in reducing overfitting. "
      ]
    },
    {
      "cell_type": "code",
      "metadata": {
        "id": "p0abOD4LK8oO"
      },
      "source": [
        "import numpy as np\n",
        "import matplotlib.pyplot as plt\n",
        "\n",
        "from sklearn.preprocessing import PolynomialFeatures\n",
        "from sklearn.linear_model import Ridge\n",
        "from sklearn.preprocessing import MinMaxScaler \n",
        "from sklearn.metrics import mean_squared_error as mse\n"
      ],
      "execution_count": null,
      "outputs": []
    },
    {
      "cell_type": "code",
      "metadata": {
        "id": "1HxAoiAGL3VY"
      },
      "source": [
        "# generate 1d regression data \n",
        "def make_1dregression_data(n=21):\n",
        "    np.random.seed(0)\n",
        "    xtrain = np.linspace(0.0, 20, n)\n",
        "    xtest = np.arange(0.0, 20, 0.1)\n",
        "    sigma2 = 4\n",
        "    w = np.array([-1.5, 1/9.])\n",
        "    fun = lambda x: w[0]*x + w[1]*np.square(x)\n",
        "    ytrain = fun(xtrain) + np.random.normal(0, 1, xtrain.shape) * \\\n",
        "        np.sqrt(sigma2)\n",
        "    ytest= fun(xtest) + np.random.normal(0, 1, xtest.shape) * \\\n",
        "        np.sqrt(sigma2)\n",
        "    return xtrain, ytrain, xtest, ytest\n"
      ],
      "execution_count": null,
      "outputs": []
    },
    {
      "cell_type": "code",
      "metadata": {
        "id": "Kd-943vgL-Gp"
      },
      "source": [
        "# split data into train and test\n",
        "xtrain, ytrain, xtest, ytest = make_1dregression_data(n=21)\n",
        "\n",
        "#Rescaling data\n",
        "scaler = MinMaxScaler(feature_range=(-1, 1))\n",
        "Xtrain = scaler.fit_transform(xtrain.reshape(-1, 1))\n",
        "Xtest = scaler.transform(xtest.reshape(-1, 1))\n"
      ],
      "execution_count": null,
      "outputs": []
    },
    {
      "cell_type": "code",
      "metadata": {
        "id": "A_qzH6A8MCdJ"
      },
      "source": [
        "# fit Ridge model with different regularizer strength\n",
        "deg = 14\n",
        "alphas = np.logspace(-10, 1.3, 10)  # Regularization strength\n",
        "nalphas = len(alphas)\n",
        "mse_train = np.empty(nalphas)\n",
        "mse_test = np.empty(nalphas)\n",
        "ytest_pred_stored = dict()\n",
        "\n",
        "\n",
        "for i, alpha in enumerate(alphas):\n",
        "    model = Ridge(alpha=alpha, fit_intercept=False)\n",
        "    poly_features = PolynomialFeatures(degree=deg, include_bias=False)\n",
        "    Xtrain_poly = poly_features.fit_transform(Xtrain)\n",
        "    model.fit(Xtrain_poly, ytrain)\n",
        "    ytrain_pred = model.predict(Xtrain_poly)\n",
        "    Xtest_poly = poly_features.transform(Xtest)\n",
        "    ytest_pred = model.predict(Xtest_poly)\n",
        "    mse_train[i] = mse(ytrain_pred, ytrain) \n",
        "    mse_test[i] = mse(ytest_pred, ytest)\n",
        "    ytest_pred_stored[alpha] = ytest_pred\n",
        "    \n"
      ],
      "execution_count": null,
      "outputs": []
    },
    {
      "cell_type": "code",
      "metadata": {
        "colab": {
          "base_uri": "https://localhost:8080/",
          "height": 283
        },
        "id": "B8Tbv5RrMmRe",
        "outputId": "db465e72-8dd4-4743-f21d-99f5f10bf524"
      },
      "source": [
        "# Plot MSE vs degree\n",
        "fig, ax = plt.subplots()\n",
        "mask = [True]*nalphas\n",
        "ax.plot(alphas[mask], mse_test[mask], color = 'r', marker = 'x',label='test')\n",
        "ax.plot(alphas[mask], mse_train[mask], color='b', marker = 's', label='train')\n",
        "ax.set_xscale('log')\n",
        "ax.legend(loc='upper right', shadow=True)\n",
        "plt.xlabel('L2 regularizer')\n",
        "plt.ylabel('mse')\n",
        "plt.show()\n"
      ],
      "execution_count": null,
      "outputs": [
        {
          "output_type": "display_data",
          "data": {
            "image/png": "[encoded data removed]",
            "text/plain": [
              "<Figure size 432x288 with 1 Axes>"
            ]
          },
          "metadata": {
            "needs_background": "light"
          }
        }
      ]
    },
    {
      "cell_type": "code",
      "metadata": {
        "id": "Yu_yqywDMn2U"
      },
      "source": [
        "# Plot fitted functions\n",
        "chosen_alphas = alphas[[0,5,8]]\n",
        "for i, alpha in enumerate(alphas):\n",
        "    fig, ax = plt.subplots()\n",
        "    ax.scatter(xtrain, ytrain)\n",
        "    ax.plot(xtest, ytest_pred_stored[alpha])\n",
        "    plt.title('L2 regularizer {:0.5e}'.format(alpha))\n",
        "    plt.show()"
      ],
      "execution_count": null,
      "outputs": []
    },
    {
      "cell_type": "markdown",
      "metadata": {
        "id": "9ms-23NROC0Y"
      },
      "source": [
        "# Exercise 4: \n",
        "How do you choose what regularizer strength is optimal?? Explain your answer at the following cell. "
      ]
    },
    {
      "cell_type": "code",
      "metadata": {
        "id": "MxwId3RjOP2g"
      },
      "source": [
        "# your answer here\n"
      ],
      "execution_count": null,
      "outputs": []
    },
    {
      "cell_type": "code",
      "metadata": {
        "cellView": "form",
        "id": "7wHhZ-mooapM"
      },
      "source": [
        "#@title Solution \n",
        "\n",
        "Use cross validation "
      ],
      "execution_count": null,
      "outputs": []
    },
    {
      "cell_type": "markdown",
      "metadata": {
        "id": "A526m0ZjYuSc"
      },
      "source": [
        "# Exercise 5 (10%)\n",
        "\n",
        "1. Load Iris Data from sklearn. Use the following code to import iris data \n",
        "```\n",
        "from sklearn import datasets\n",
        "iris = datasets.load_iris()\n",
        "# iris.data = [(Sepal Length, Sepal Width, Petal Length, Petal Width)]\n",
        "```\n",
        "2. Use Sepal Length, Sepal Width, Petal Length as $X$ to estimate Petal Width ($Y$)\n",
        "\n",
        "3. What is the best regularizer value for Ridge regression model? "
      ]
    },
    {
      "cell_type": "code",
      "metadata": {
        "id": "sOlPgqa5fsm8"
      },
      "source": [
        "# Your code here"
      ],
      "execution_count": null,
      "outputs": []
    },
    {
      "cell_type": "markdown",
      "metadata": {
        "id": "D09dZJMzkJxy"
      },
      "source": [
        "# Submission Instructions\n",
        "Once you are finished, follow these steps:\n",
        "\n",
        "Restart the kernel and re-run this notebook from beginning to end by going to Kernel > Restart Kernel and Run All Cells.\n",
        "If this process stops halfway through, that means there was an error. Correct the error and repeat Step 1 until the notebook runs from beginning to end.\n",
        "Double check that there is a number next to each code cell and that these numbers are in order.\n",
        "Then, submit your lab as follows:\n",
        "\n",
        "Go to File > Export Notebook As > PDF.\n",
        "Double check that the entire notebook, from beginning to end, is in this PDF file. (If the notebook is cut off, try first exporting the notebook to HTML and printing to PDF.) Make sure Solution for Exercise 4 & 5 are in for marks. \n",
        "Upload the PDF to Spectrum. "
      ]
    },
    {
      "cell_type": "markdown",
      "metadata": {
        "id": "FcqpGzfGyWxL"
      },
      "source": [
        "# Acknowledgement\n",
        "\n",
        "The works are inspired from \n",
        "1. Normal Distribtion - https://colab.research.google.com/github/dlsun/Stat350F19/blob/master/Normal_Distribution.ipynb#scrollTo=4K2s06RQFP_1 \n",
        "2. Coin Flip Example - https://pub.towardsai.net/monte-carlo-simulation-an-in-depth-tutorial-with-python-bcf6eb7856c8 \n",
        "3. Estimating $\\pi$ from circle and square = https://www.youtube.com/watch?v=VJTFfIqO4TU "
      ]
    }
  ]
}