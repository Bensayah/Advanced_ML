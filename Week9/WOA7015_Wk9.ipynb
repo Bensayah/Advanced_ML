{
  "cells": [
    {
      "cell_type": "markdown",
      "metadata": {
        "id": "view-in-github",
        "colab_type": "text"
      },
      "source": [
        "<a href=\"https://colab.research.google.com/github/shiernee/Advanced_ML/blob/main/Week9/WOA7015_Wk9.ipynb\" target=\"_parent\"><img src=\"https://colab.research.google.com/assets/colab-badge.svg\" alt=\"Open In Colab\"/></a>"
      ]
    },
    {
      "cell_type": "markdown",
      "metadata": {
        "id": "KwhKoOIwVMCq"
      },
      "source": [
        "# Welcome to WOA7015 Advance Machine Learning Lab - Week 9\n",
        "This code is generated for the purpose of WOA7015 module.\n",
        "The code is available in github https://github.com/shiernee/Advanced_ML \n"
      ]
    },
    {
      "cell_type": "markdown",
      "source": [
        "# Section1 : Massage Passing\n",
        "In this section, we go through the computation we covered in Massage Passing  "
      ],
      "metadata": {
        "id": "zkCzXXnhU7QI"
      }
    },
    {
      "cell_type": "code",
      "source": [
        "import numpy as np\n",
        "from scipy.linalg import sqrtm \n",
        "from scipy.special import softmax\n",
        "from networkx.algorithms.community.modularity_max import greedy_modularity_communities\n",
        "import matplotlib.pyplot as plt\n",
        "from matplotlib import animation\n",
        "%matplotlib inline\n",
        "from IPython.display import HTML"
      ],
      "metadata": {
        "id": "1uPyrdVzU9-v"
      },
      "execution_count": null,
      "outputs": []
    },
    {
      "cell_type": "markdown",
      "source": [
        "### create adjacent matrix in slide 56. \n",
        "\n",
        "<br>\n",
        "<img src=\"https://raw.githubusercontent.com/shiernee/Advanced_ML/main/Week9/Adj_matrix.PNG\" width=\"512\"/>"
      ],
      "metadata": {
        "id": "R6D2s2E3ZvxB"
      }
    },
    {
      "cell_type": "code",
      "source": [
        "# create adjacent matrix as above\n"
      ],
      "metadata": {
        "colab": {
          "base_uri": "https://localhost:8080/"
        },
        "id": "ASfQp3a2VRij",
        "outputId": "1fd96db2-0efa-4ee7-d14e-5d073c7d3a80"
      },
      "execution_count": null,
      "outputs": [
        {
          "output_type": "execute_result",
          "data": {
            "text/plain": [
              "array([[0, 1, 0, 0, 0],\n",
              "       [1, 0, 1, 0, 0],\n",
              "       [0, 1, 0, 1, 1],\n",
              "       [0, 0, 1, 0, 0],\n",
              "       [0, 0, 1, 0, 0]])"
            ]
          },
          "metadata": {},
          "execution_count": 15
        }
      ]
    },
    {
      "cell_type": "code",
      "source": [
        "#@title Solution\n",
        "A = np.array(\n",
        "    [[0, 1, 0, 0, 0], \n",
        "     [1, 0, 1, 0, 0], \n",
        "     [0, 1, 0, 1, 1], \n",
        "     [0, 0, 1, 0, 0], \n",
        "     [0, 0, 1, 0, 0]]\n",
        ")\n",
        "A"
      ],
      "metadata": {
        "cellView": "form",
        "id": "3Xy2nY1ZbxV9"
      },
      "execution_count": null,
      "outputs": []
    },
    {
      "cell_type": "code",
      "source": [
        "# create feature vector with [1,2,3,4,5] of a shape of (5,1)\n"
      ],
      "metadata": {
        "colab": {
          "base_uri": "https://localhost:8080/"
        },
        "id": "tQYIJr-VU62h",
        "outputId": "bf229722-d669-4d61-e776-feaab5722a89"
      },
      "execution_count": null,
      "outputs": [
        {
          "output_type": "execute_result",
          "data": {
            "text/plain": [
              "array([[1],\n",
              "       [2],\n",
              "       [3],\n",
              "       [4],\n",
              "       [5]])"
            ]
          },
          "metadata": {},
          "execution_count": 16
        }
      ]
    },
    {
      "cell_type": "code",
      "source": [
        "#@title Solution\n",
        "feats = np.arange(A.shape[0]).reshape((-1,1))+1\n",
        "feats"
      ],
      "metadata": {
        "cellView": "form",
        "id": "6cDij3VNb-lk"
      },
      "execution_count": null,
      "outputs": []
    },
    {
      "cell_type": "code",
      "source": [
        "# matrix multiplication - @. \n",
        "# compute new feature vector using sum \n"
      ],
      "metadata": {
        "colab": {
          "base_uri": "https://localhost:8080/"
        },
        "id": "VGat6IsAVbE_",
        "outputId": "ccd4238d-939a-45ee-9d37-3bde44a8a1d6"
      },
      "execution_count": null,
      "outputs": [
        {
          "output_type": "execute_result",
          "data": {
            "text/plain": [
              "array([[ 2],\n",
              "       [ 4],\n",
              "       [11],\n",
              "       [ 3],\n",
              "       [ 3]])"
            ]
          },
          "metadata": {},
          "execution_count": 17
        }
      ]
    },
    {
      "cell_type": "code",
      "source": [
        "#@title Solution\n",
        "H = A @ feats\n",
        "H"
      ],
      "metadata": {
        "cellView": "form",
        "id": "4AOYIn8HcDex"
      },
      "execution_count": null,
      "outputs": []
    },
    {
      "cell_type": "markdown",
      "source": [
        "### Scale neighborhood sum by neighborhood size (i.e. average values)"
      ],
      "metadata": {
        "id": "IhVhOhayVcf7"
      }
    },
    {
      "cell_type": "code",
      "source": [
        "# create degree matrix \n"
      ],
      "metadata": {
        "colab": {
          "base_uri": "https://localhost:8080/"
        },
        "id": "rziwbzPPVdCQ",
        "outputId": "0dd3562a-db44-4ab8-f684-5ea944e8b70c"
      },
      "execution_count": null,
      "outputs": [
        {
          "output_type": "execute_result",
          "data": {
            "text/plain": [
              "array([[1., 0., 0., 0., 0.],\n",
              "       [0., 2., 0., 0., 0.],\n",
              "       [0., 0., 3., 0., 0.],\n",
              "       [0., 0., 0., 1., 0.],\n",
              "       [0., 0., 0., 0., 1.]])"
            ]
          },
          "metadata": {},
          "execution_count": 18
        }
      ]
    },
    {
      "cell_type": "code",
      "source": [
        "#@title Solution\n",
        "D = np.zeros(A.shape)\n",
        "np.fill_diagonal(D, A.sum(axis=0))\n",
        "D"
      ],
      "metadata": {
        "cellView": "form",
        "id": "qHyZYdFFcG14"
      },
      "execution_count": null,
      "outputs": []
    },
    {
      "cell_type": "code",
      "source": [
        "# compute D inverse \n"
      ],
      "metadata": {
        "colab": {
          "base_uri": "https://localhost:8080/"
        },
        "id": "EUiJXL2XVfUn",
        "outputId": "c9f308c4-b880-4cbe-8c4f-461c3eb6fa24"
      },
      "execution_count": null,
      "outputs": [
        {
          "output_type": "execute_result",
          "data": {
            "text/plain": [
              "array([[1.        , 0.        , 0.        , 0.        , 0.        ],\n",
              "       [0.        , 0.5       , 0.        , 0.        , 0.        ],\n",
              "       [0.        , 0.        , 0.33333333, 0.        , 0.        ],\n",
              "       [0.        , 0.        , 0.        , 1.        , 0.        ],\n",
              "       [0.        , 0.        , 0.        , 0.        , 1.        ]])"
            ]
          },
          "metadata": {},
          "execution_count": 19
        }
      ]
    },
    {
      "cell_type": "code",
      "source": [
        "#@title Solution\n",
        "D_inv = np.linalg.inv(D)\n",
        "D_inv"
      ],
      "metadata": {
        "cellView": "form",
        "id": "QZUlgskHcMT6"
      },
      "execution_count": null,
      "outputs": []
    },
    {
      "cell_type": "code",
      "source": [
        "# compute Scaled adjacent matrix \n"
      ],
      "metadata": {
        "id": "aH-Lz5A3VgoZ"
      },
      "execution_count": null,
      "outputs": []
    },
    {
      "cell_type": "code",
      "source": [
        "#@title Solution\n",
        "A_avg = D_inv @ A "
      ],
      "metadata": {
        "cellView": "form",
        "id": "Jaiv8bPYcPq_"
      },
      "execution_count": null,
      "outputs": []
    },
    {
      "cell_type": "code",
      "source": [
        "# compute new features vector using average \n"
      ],
      "metadata": {
        "colab": {
          "base_uri": "https://localhost:8080/"
        },
        "id": "bG5iWntgVh3_",
        "outputId": "2ae0086b-d03f-4750-a118-73b00b1ba93a"
      },
      "execution_count": null,
      "outputs": [
        {
          "output_type": "execute_result",
          "data": {
            "text/plain": [
              "array([[2.        ],\n",
              "       [2.        ],\n",
              "       [3.66666667],\n",
              "       [3.        ],\n",
              "       [3.        ]])"
            ]
          },
          "metadata": {},
          "execution_count": 38
        }
      ]
    },
    {
      "cell_type": "code",
      "source": [
        "#@title Solution\n",
        "H_avg = A_avg @ feats\n",
        "H_avg"
      ],
      "metadata": {
        "cellView": "form",
        "id": "DEkT28G_cUIL"
      },
      "execution_count": null,
      "outputs": []
    },
    {
      "cell_type": "markdown",
      "source": [
        "# Section 2: Water drop experiment using GCN "
      ],
      "metadata": {
        "id": "AofLq5plVjJG"
      }
    },
    {
      "cell_type": "code",
      "source": [
        "import networkx as nx\n",
        "\n",
        "# create a network based on matrix A\n",
        "g = nx.from_numpy_array(A)\n"
      ],
      "metadata": {
        "id": "zC47dOq-Vjkx"
      },
      "execution_count": null,
      "outputs": []
    },
    {
      "cell_type": "markdown",
      "source": [
        "### Create network and visualize the network "
      ],
      "metadata": {
        "id": "p1-Y_S2wcjDJ"
      }
    },
    {
      "cell_type": "code",
      "source": [
        "node_labels = {i: i+1 for i in range(g.number_of_nodes())}\n",
        "pos = nx.planar_layout(g)\n",
        "\n",
        "fig, ax = plt.subplots(figsize=(10,10))\n",
        "nx.draw(\n",
        "    g, pos, with_labels=True, \n",
        "    labels=node_labels, \n",
        "    node_color='#83C167', \n",
        "    ax=ax, edge_color='gray', node_size=1500, font_size=30, font_family='serif'\n",
        ")\n",
        "plt.savefig('simple_graph.png', bbox_inches='tight', transparent=True)"
      ],
      "metadata": {
        "colab": {
          "base_uri": "https://localhost:8080/",
          "height": 575
        },
        "id": "qcJ2FvHsXjc4",
        "outputId": "d61109d6-2eb7-4bf2-dc35-494a556219e5"
      },
      "execution_count": null,
      "outputs": [
        {
          "output_type": "display_data",
          "data": {
            "image/png": "[encoded data removed]",
            "text/plain": [
              "<Figure size 720x720 with 1 Axes>"
            ]
          },
          "metadata": {}
        }
      ]
    },
    {
      "cell_type": "code",
      "source": [
        "# commpute A_tilda = A + identify matrix\n",
        "print(g.number_of_nodes())\n",
        "print()\n",
        "print(np.eye(g.number_of_nodes()))\n",
        "print()\n",
        "A_tilda = A + np.eye(g.number_of_nodes())\n",
        "\n",
        "print(A_tilda)"
      ],
      "metadata": {
        "colab": {
          "base_uri": "https://localhost:8080/"
        },
        "id": "R2_MOk8oVmIB",
        "outputId": "53e8826e-10ef-4570-ba82-1724cc816539"
      },
      "execution_count": null,
      "outputs": [
        {
          "output_type": "stream",
          "name": "stdout",
          "text": [
            "5\n",
            "\n",
            "[[1. 0. 0. 0. 0.]\n",
            " [0. 1. 0. 0. 0.]\n",
            " [0. 0. 1. 0. 0.]\n",
            " [0. 0. 0. 1. 0.]\n",
            " [0. 0. 0. 0. 1.]]\n",
            "\n",
            "[[1. 1. 0. 0. 0.]\n",
            " [1. 1. 1. 0. 0.]\n",
            " [0. 1. 1. 1. 1.]\n",
            " [0. 0. 1. 1. 0.]\n",
            " [0. 0. 1. 0. 1.]]\n"
          ]
        }
      ]
    },
    {
      "cell_type": "code",
      "source": [
        "# compute D_tilda_inverse_root for A_tilda:\n",
        "\n",
        "\n",
        "# Inverse square root of D:\n"
      ],
      "metadata": {
        "colab": {
          "base_uri": "https://localhost:8080/"
        },
        "id": "4tbIfMkNWv8u",
        "outputId": "5401975a-79fb-4bfa-9075-e8a54d43c0dd"
      },
      "execution_count": null,
      "outputs": [
        {
          "output_type": "stream",
          "name": "stdout",
          "text": [
            "[[2. 0. 0. 0. 0.]\n",
            " [0. 3. 0. 0. 0.]\n",
            " [0. 0. 4. 0. 0.]\n",
            " [0. 0. 0. 2. 0.]\n",
            " [0. 0. 0. 0. 2.]]\n",
            "\n",
            "[[0.70710678 0.         0.         0.         0.        ]\n",
            " [0.         0.57735027 0.         0.         0.        ]\n",
            " [0.         0.         0.5        0.         0.        ]\n",
            " [0.         0.         0.         0.70710678 0.        ]\n",
            " [0.         0.         0.         0.         0.70710678]]\n"
          ]
        }
      ]
    },
    {
      "cell_type": "code",
      "source": [
        "#@title Solution\n",
        "# compute D_tilda_inverse_root for A_tilda:\n",
        "D_tilda = np.zeros_like(A_tilda)\n",
        "np.fill_diagonal(D_tilda, A_tilda.sum(axis=1).flatten())\n",
        "print(D_tilda)\n",
        "print()\n",
        "\n",
        "# Inverse square root of D:\n",
        "D_tilda_invroot = np.linalg.inv(sqrtm(D_tilda))\n",
        "print(D_tilda_invroot)"
      ],
      "metadata": {
        "cellView": "form",
        "id": "-hhzwRDhceP6"
      },
      "execution_count": null,
      "outputs": []
    },
    {
      "cell_type": "code",
      "source": [
        "# compute A_hat \n"
      ],
      "metadata": {
        "id": "vNGLPIsyeGvY"
      },
      "execution_count": null,
      "outputs": []
    },
    {
      "cell_type": "code",
      "source": [
        "#@title Solution\n",
        "A_hat = D_tilda_invroot @ A_tilda @ D_tilda_invroot"
      ],
      "metadata": {
        "cellView": "form",
        "id": "0DN13DJtcmzy"
      },
      "execution_count": null,
      "outputs": []
    },
    {
      "cell_type": "code",
      "source": [
        "# Perform water drop experiment. Initially, only H[0,0]= 1. Iterate 10 times. \n",
        "\n",
        "H = np.zeros((g.number_of_nodes(), 1))\n",
        "H[0,0] = 1 # the \"water drop\"\n",
        "iters = 80\n",
        "results = [H.flatten()]\n",
        "print('signal input: ' + str(H.flatten()))\n",
        "\n",
        "for i in range(iters):\n",
        "    H = A_hat @ H\n",
        "    print('--------------------------------')\n",
        "    print('iteration: ' + str(i) + ' signal output: ' + str(H.flatten()))\n",
        "    results.append(H.flatten())"
      ],
      "metadata": {
        "id": "y9wPle5TeZK7"
      },
      "execution_count": null,
      "outputs": []
    },
    {
      "cell_type": "code",
      "source": [
        "fig, ax = plt.subplots(figsize=(10, 10))\n",
        "\n",
        "kwargs = {'cmap': 'hot', 'node_size': 1500, 'edge_color': 'gray', \n",
        "          'vmin': np.array(results).min(), 'vmax': np.array(results).max()*1.1}\n",
        "\n",
        "def update(idx):\n",
        "    ax.clear()\n",
        "    colors = results[idx]\n",
        "    nx.draw(g, pos, node_color=colors, ax=ax, **kwargs)\n",
        "    ax.set_title(f\"Iter={idx}\", fontsize=20)\n",
        "\n",
        "anim = animation.FuncAnimation(fig, update, frames=len(results), interval=1000, repeat=True)\n"
      ],
      "metadata": {
        "id": "GBH3bUFaeoNe"
      },
      "execution_count": null,
      "outputs": []
    },
    {
      "cell_type": "code",
      "source": [
        "anim.save(\n",
        "    'water_drop.mp4', \n",
        "    dpi=600, bitrate=-1,\n",
        "    savefig_kwargs={'transparent': True, 'facecolor': 'none'},\n",
        ")\n",
        "\n",
        "HTML(anim.to_html5_video())"
      ],
      "metadata": {
        "id": "v5yu6EsyflhI"
      },
      "execution_count": null,
      "outputs": []
    },
    {
      "cell_type": "markdown",
      "source": [
        "# Exercise - 30min\n",
        "1. plot the graph of every node across iteration. You should have 5 graphs, which each graph represent one node. \n",
        "2. at which iteration, does the solution converge (meaning reach steady state)? \n",
        "\n"
      ],
      "metadata": {
        "id": "zwFp0JmxXqX9"
      }
    },
    {
      "cell_type": "code",
      "source": [
        "# plot your graph here "
      ],
      "metadata": {
        "id": "Q8NALaq2f4Eq"
      },
      "execution_count": null,
      "outputs": []
    },
    {
      "cell_type": "code",
      "source": [
        "#@title At what iteration the solution converge? \n",
        "Answer =\"\" #@param {type :'string'}"
      ],
      "metadata": {
        "id": "PzVj-M7VpJTB",
        "cellView": "form"
      },
      "execution_count": null,
      "outputs": []
    },
    {
      "cell_type": "code",
      "source": [
        "#@title Solution \n",
        "# plot your graph here\n",
        "import pandas as pd\n",
        "\n",
        "for i in range(5):\n",
        "  plt.plot(np.arange(iters+1), pd.DataFrame(results)[i], label=str(i))\n",
        "  plt.xlabel('iteration')\n",
        "  plt.ylabel('values in node ')\n",
        "  # plt.ylim([0.15, 0.2])\n",
        "  \n",
        "plt.grid()\n",
        "plt.legend()\n",
        "\n",
        "# check raw values \n",
        "with pd.option_context('display.max_rows', None, 'display.max_columns', None):  # more options can be specified also\n",
        "    print(pd.DataFrame(results))"
      ],
      "metadata": {
        "cellView": "form",
        "id": "gEpnvQx-pHdh"
      },
      "execution_count": null,
      "outputs": []
    },
    {
      "cell_type": "markdown",
      "metadata": {
        "id": "DuSPTmwrVPd4"
      },
      "source": [
        "# Acknowledgement\n",
        "This exercise is inspired from https://github.com/zjost/blog_code/blob/master/gcn_numpy/message_passing.ipynb "
      ]
    },
    {
      "cell_type": "markdown",
      "source": [
        "## Additional Resources for your own reading \n",
        "1. MNIST classification by GCN - https://github.com/dna1980drys/mnistGNN\n",
        "2. Traffice forecasting using Temporal GNN - https://www.youtube.com/watch?v=Rws9mf1aWUs&t=855s&ab_channel=DeepFindr \n",
        "2. other example - https://github.com/danielegrattarola/spektral/tree/31ddf0770f9dc94337ea4e8b0fa284783496b42c/examples \n"
      ],
      "metadata": {
        "id": "q7TTx2aA6oOX"
      }
    }
  ],
  "metadata": {
    "colab": {
      "name": "WOA7015_Wk9.ipynb",
      "provenance": [],
      "authorship_tag": "ABX9TyNDwZsrAtTB1Inlvf7/rKO7",
      "include_colab_link": true
    },
    "kernelspec": {
      "display_name": "Python 3",
      "name": "python3"
    },
    "language_info": {
      "name": "python"
    }
  },
  "nbformat": 4,
  "nbformat_minor": 0
}