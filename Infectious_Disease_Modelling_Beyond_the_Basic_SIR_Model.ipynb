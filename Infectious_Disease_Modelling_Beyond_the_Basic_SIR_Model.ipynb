{
  "nbformat": 4,
  "nbformat_minor": 0,
  "metadata": {
    "colab": {
      "provenance": [],
      "authorship_tag": "ABX9TyPbET0NdLPAfzye+08vLSQQ",
      "include_colab_link": true
    },
    "kernelspec": {
      "name": "python3",
      "display_name": "Python 3"
    },
    "language_info": {
      "name": "python"
    }
  },
  "cells": [
    {
      "cell_type": "markdown",
      "metadata": {
        "id": "view-in-github",
        "colab_type": "text"
      },
      "source": [
        "<a href=\"https://colab.research.google.com/github/Bensayah/Advanced_ML/blob/main/Infectious_Disease_Modelling_Beyond_the_Basic_SIR_Model.ipynb\" target=\"_parent\"><img src=\"https://colab.research.google.com/assets/colab-badge.svg\" alt=\"Open In Colab\"/></a>"
      ]
    },
    {
      "cell_type": "markdown",
      "source": [
        "# Infectious Disease Modelling: Beyond the Basic SIR Model"
      ],
      "metadata": {
        "id": "qpRxds8z4IyF"
      }
    },
    {
      "cell_type": "markdown",
      "source": [
        "## SIR model"
      ],
      "metadata": {
        "id": "WAyl2TOl4ScR"
      }
    },
    {
      "cell_type": "markdown",
      "source": [
        "## System of EDO mathematical model"
      ],
      "metadata": {
        "id": "Nk_ePuqd4vdJ"
      }
    },
    {
      "cell_type": "code",
      "execution_count": null,
      "metadata": {
        "id": "aXvOl_Zx4Fdf"
      },
      "outputs": [],
      "source": []
    },
    {
      "cell_type": "code",
      "metadata": {
        "id": "cUPFapW1XhAt",
        "colab": {
          "base_uri": "https://localhost:8080/"
        },
        "outputId": "d6b4bbaa-2f6c-43c4-8f99-5f95a2e418cd"
      },
      "source": [
        "from scipy.integrate import odeint\n",
        "import numpy as np\n",
        "import matplotlib.pyplot as plt\n",
        "%matplotlib inline \n",
        "!pip install mpld3\n",
        "import mpld3\n",
        "mpld3.enable_notebook()"
      ],
      "execution_count": null,
      "outputs": [
        {
          "output_type": "stream",
          "name": "stdout",
          "text": [
            "Looking in indexes: https://pypi.org/simple, https://us-python.pkg.dev/colab-wheels/public/simple/\n",
            "Collecting mpld3\n",
            "  Downloading mpld3-0.5.9-py3-none-any.whl (201 kB)\n",
            "\u001b[K     |████████████████████████████████| 201 kB 5.0 MB/s \n",
            "\u001b[?25hRequirement already satisfied: matplotlib in /usr/local/lib/python3.8/dist-packages (from mpld3) (3.2.2)\n",
            "Requirement already satisfied: jinja2 in /usr/local/lib/python3.8/dist-packages (from mpld3) (2.11.3)\n",
            "Requirement already satisfied: MarkupSafe>=0.23 in /usr/local/lib/python3.8/dist-packages (from jinja2->mpld3) (2.0.1)\n",
            "Requirement already satisfied: python-dateutil>=2.1 in /usr/local/lib/python3.8/dist-packages (from matplotlib->mpld3) (2.8.2)\n",
            "Requirement already satisfied: kiwisolver>=1.0.1 in /usr/local/lib/python3.8/dist-packages (from matplotlib->mpld3) (1.4.4)\n",
            "Requirement already satisfied: pyparsing!=2.0.4,!=2.1.2,!=2.1.6,>=2.0.1 in /usr/local/lib/python3.8/dist-packages (from matplotlib->mpld3) (3.0.9)\n",
            "Requirement already satisfied: numpy>=1.11 in /usr/local/lib/python3.8/dist-packages (from matplotlib->mpld3) (1.21.6)\n",
            "Requirement already satisfied: cycler>=0.10 in /usr/local/lib/python3.8/dist-packages (from matplotlib->mpld3) (0.11.0)\n",
            "Requirement already satisfied: six>=1.5 in /usr/local/lib/python3.8/dist-packages (from python-dateutil>=2.1->matplotlib->mpld3) (1.15.0)\n",
            "Installing collected packages: mpld3\n",
            "Successfully installed mpld3-0.5.9\n"
          ]
        }
      ]
    },
    {
      "cell_type": "code",
      "metadata": {
        "id": "vOpPgwCIVnOm"
      },
      "source": [
        "def deriv(y, t, N, beta, gamma):\n",
        "    S, I, R = y\n",
        "    dSdt = -beta * S * I / N\n",
        "    dIdt = beta * S * I / N - gamma * I\n",
        "    dRdt = gamma * I\n",
        "    return dSdt, dIdt, dRdt"
      ],
      "execution_count": null,
      "outputs": []
    },
    {
      "cell_type": "code",
      "metadata": {
        "id": "W2SeK18JVq8G"
      },
      "source": [
        "N = 1000\n",
        "beta = 1.0  # infected person infects 1 other person per day\n",
        "D = 4.0 # infections lasts four days\n",
        "gamma = 1.0/D\n",
        "\n",
        "S0, I0, R0 = 999, 1, 0  # initial conditions: one infected, rest susceptible"
      ],
      "execution_count": null,
      "outputs": []
    },
    {
      "cell_type": "code",
      "metadata": {
        "id": "7xFSx7CTXkgh"
      },
      "source": [
        "t = np.linspace(0, 49, 50) # Grid of time points (in days)\n",
        "y0 = S0, I0, R0 # Initial conditions vector\n",
        "\n",
        "# Integrate the SIR equations over the time grid, t.\n",
        "ret = odeint(deriv, y0, t, args=(N, beta, gamma))\n",
        "S, I, R = ret.T"
      ],
      "execution_count": null,
      "outputs": []
    },
    {
      "cell_type": "code",
      "metadata": {
        "id": "CYkwiAeaYGgr"
      },
      "source": [
        "def plotsir(t, S, I, R):\n",
        "  f, ax = plt.subplots(1,1,figsize=(10,4))\n",
        "  ax.plot(t, S, 'b', alpha=0.7, linewidth=2, label='Susceptible')\n",
        "  ax.plot(t, I, 'y', alpha=0.7, linewidth=2, label='Infected')\n",
        "  ax.plot(t, R, 'g', alpha=0.7, linewidth=2, label='Recovered')\n",
        "\n",
        "  ax.set_xlabel('Time (days)')\n",
        "\n",
        "  ax.yaxis.set_tick_params(length=0)\n",
        "  ax.xaxis.set_tick_params(length=0)\n",
        "  ax.grid(b=True, which='major', c='w', lw=2, ls='-')\n",
        "  legend = ax.legend()\n",
        "  legend.get_frame().set_alpha(0.5)\n",
        "  for spine in ('top', 'right', 'bottom', 'left'):\n",
        "      ax.spines[spine].set_visible(False)\n",
        "  plt.show();"
      ],
      "execution_count": null,
      "outputs": []
    },
    {
      "cell_type": "code",
      "metadata": {
        "id": "Std7-P7OYIF9",
        "outputId": "906f43fe-f958-4563-891b-a1fbd6c103e6",
        "colab": {
          "base_uri": "https://localhost:8080/",
          "height": 308
        }
      },
      "source": [
        "plotsir(t, S, I, R)"
      ],
      "execution_count": null,
      "outputs": [
        {
          "output_type": "display_data",
          "data": {
            "image/png": "[encoded data removed]",
            "text/html": [
              "\n",
              "\n",
              "<style>\n",
              "\n",
              "</style>\n",
              "\n",
              "<div id=\"fig_el1221405736142630407789165787\"></div>\n",
              "<script>\n",
              "function mpld3_load_lib(url, callback){\n",
              "  var s = document.createElement('script');\n",
              "  s.src = url;\n",
              "  s.async = true;\n",
              "  s.onreadystatechange = s.onload = callback;\n",
              "  s.onerror = function(){console.warn(\"failed to load library \" + url);};\n",
              "  document.getElementsByTagName(\"head\")[0].appendChild(s);\n",
              "}\n",
              "\n",
              "if(typeof(mpld3) !== \"undefined\" && mpld3._mpld3IsLoaded){\n",
              "   // already loaded: just create the figure\n",
              "   !function(mpld3){\n",
              "       \n",
              "       mpld3.draw_figure(\"fig_el1221405736142630407789165787\", {\"width\": 720.0, \"height\": 288.0, \"axes\": [{\"bbox\": [0.125, 0.125, 0.775, 0.755], \"xlim\": [-2.5, 52.5], \"ylim\": [-49.95, 1048.95], \"xdomain\": [-2.5, 52.5], \"ydomain\": [-49.95, 1048.95], \"xscale\": \"linear\", \"yscale\": \"linear\", \"axes\": [{\"position\": \"bottom\", \"nticks\": 8, \"tickvalues\": null, \"tickformat\": null, \"scale\": \"linear\", \"fontsize\": 10.0, \"grid\": {\"gridOn\": true, \"color\": \"#FFFFFF\", \"dasharray\": \"none\", \"alpha\": 1.0}, \"visible\": true}, {\"position\": \"left\", \"nticks\": 8, \"tickvalues\": null, \"tickformat\": null, \"scale\": \"linear\", \"fontsize\": 10.0, \"grid\": {\"gridOn\": true, \"color\": \"#FFFFFF\", \"dasharray\": \"none\", \"alpha\": 1.0}, \"visible\": true}], \"axesbg\": \"#FFFFFF\", \"axesbgalpha\": null, \"zoomable\": true, \"id\": \"el122140573614185552\", \"lines\": [{\"data\": \"data01\", \"xindex\": 0, \"yindex\": 1, \"coordinates\": \"data\", \"id\": \"el122140573614077376\", \"color\": \"#0000FF\", \"linewidth\": 2.0, \"dasharray\": \"none\", \"alpha\": 0.7, \"zorder\": 2, \"drawstyle\": \"default\"}, {\"data\": \"data01\", \"xindex\": 0, \"yindex\": 2, \"coordinates\": \"data\", \"id\": \"el122140573614077656\", \"color\": \"#BFBF00\", \"linewidth\": 2.0, \"dasharray\": \"none\", \"alpha\": 0.7, \"zorder\": 2, \"drawstyle\": \"default\"}, {\"data\": \"data01\", \"xindex\": 0, \"yindex\": 3, \"coordinates\": \"data\", \"id\": \"el122140573614078496\", \"color\": \"#007F00\", \"linewidth\": 2.0, \"dasharray\": \"none\", \"alpha\": 0.7, \"zorder\": 2, \"drawstyle\": \"default\"}, {\"data\": \"data02\", \"xindex\": 0, \"yindex\": 1, \"coordinates\": \"axes\", \"id\": \"el122140573614151048\", \"color\": \"#0000FF\", \"linewidth\": 2.0, \"dasharray\": \"none\", \"alpha\": 0.7, \"zorder\": 1000002.0, \"drawstyle\": \"default\"}, {\"data\": \"data02\", \"xindex\": 0, \"yindex\": 2, \"coordinates\": \"axes\", \"id\": \"el122140573614152112\", \"color\": \"#BFBF00\", \"linewidth\": 2.0, \"dasharray\": \"none\", \"alpha\": 0.7, \"zorder\": 1000002.0, \"drawstyle\": \"default\"}, {\"data\": \"data02\", \"xindex\": 0, \"yindex\": 3, \"coordinates\": \"axes\", \"id\": \"el122140573614153176\", \"color\": \"#007F00\", \"linewidth\": 2.0, \"dasharray\": \"none\", \"alpha\": 0.7, \"zorder\": 1000002.0, \"drawstyle\": \"default\"}], \"paths\": [{\"data\": \"data03\", \"xindex\": 0, \"yindex\": 1, \"coordinates\": \"axes\", \"pathcodes\": [\"M\", \"L\", \"S\", \"L\", \"S\", \"L\", \"S\", \"L\", \"S\", \"Z\"], \"id\": \"el122140573614150096\", \"dasharray\": \"none\", \"alpha\": 0.5, \"facecolor\": \"#FFFFFF\", \"edgecolor\": \"#CCCCCC\", \"edgewidth\": 1.0, \"zorder\": 1000000.0}], \"markers\": [], \"texts\": [{\"text\": \"Time (days)\", \"position\": [0.5, -0.08048197203826342], \"coordinates\": \"axes\", \"h_anchor\": \"middle\", \"v_baseline\": \"hanging\", \"rotation\": -0.0, \"fontsize\": 10.0, \"color\": \"#000000\", \"alpha\": 1, \"zorder\": 3, \"id\": \"el122140573614182808\"}, {\"text\": \"Susceptible\", \"position\": [0.8803763440860216, 0.5551876379690949], \"coordinates\": \"axes\", \"h_anchor\": \"start\", \"v_baseline\": \"auto\", \"rotation\": -0.0, \"fontsize\": 10.0, \"color\": \"#000000\", \"alpha\": 1, \"zorder\": 1000003.0, \"id\": \"el122140573614150544\"}, {\"text\": \"Infected\", \"position\": [0.8803763440860216, 0.48620309050772625], \"coordinates\": \"axes\", \"h_anchor\": \"start\", \"v_baseline\": \"auto\", \"rotation\": -0.0, \"fontsize\": 10.0, \"color\": \"#000000\", \"alpha\": 1, \"zorder\": 1000003.0, \"id\": \"el122140573614151664\"}, {\"text\": \"Recovered\", \"position\": [0.8803763440860216, 0.41721854304635764], \"coordinates\": \"axes\", \"h_anchor\": \"start\", \"v_baseline\": \"auto\", \"rotation\": -0.0, \"fontsize\": 10.0, \"color\": \"#000000\", \"alpha\": 1, \"zorder\": 1000003.0, \"id\": \"el122140573614152728\"}], \"collections\": [], \"images\": [], \"sharex\": [], \"sharey\": []}], \"data\": {\"data01\": [[0.0, 999.0, 1.0, 0.0], [1.0204081632653061, 997.4711042919595, 2.1459960977787187, 0.3828996102619708], [2.0408163265306123, 994.201812663591, 4.5945468886540235, 1.203640447755247], [3.0612244897959187, 987.2555704530575, 9.787970497011548, 2.956459049931237], [4.081632653061225, 972.6953888254875, 20.633658761014594, 6.670952413498157], [5.1020408163265305, 943.0216133650888, 42.56199239527101, 14.416394239640692], [6.122448979591837, 885.8550481681197, 84.09459113983004, 30.050360692050717], [7.142857142857143, 786.6882737783405, 153.58105223423698, 59.7306739874229], [8.16326530612245, 641.9474008353599, 247.49049508183424, 110.56210408280636], [9.183673469387756, 475.0425391114636, 339.119852802999, 185.83760808553794], [10.204081632653061, 325.44332236202854, 394.1650642117259, 280.391613426246], [11.224489795918368, 216.0775410778787, 401.1430939662858, 382.779364955836], [12.244897959183675, 145.27411171623828, 372.6927910293503, 482.033097254412], [13.26530612244898, 101.58047172238815, 326.9436664732492, 571.4758618043633], [14.285714285714286, 74.64869493660423, 276.8608710514609, 648.4904340119355], [15.306122448979592, 57.67980306877148, 229.35827015643605, 712.9619267747931], [16.3265306122449, 46.65684677875852, 187.3593762461368, 765.9837769751055], [17.346938775510203, 39.26735340514572, 151.64231477991962, 809.0903318149353], [18.367346938775512, 34.16790822161616, 121.96510128337984, 843.8669904950048], [19.387755102040817, 30.558859096005936, 97.66609419110569, 871.7750467128891], [20.408163265306122, 27.94966984540808, 77.9629724610777, 894.087357693515], [21.42857142857143, 26.029847413865312, 62.0924135529367, 911.8777390331987], [22.448979591836736, 24.596814046330564, 49.36871388841125, 926.0344720652588], [23.46938775510204, 23.514626619856273, 39.202330019390104, 937.2830433607543], [24.48979591836735, 22.689704898296952, 31.099416497584674, 946.210878604119], [25.510204081632654, 22.056157678259826, 24.65309656380096, 953.2907457579399], [26.53061224489796, 21.566665570244115, 19.531848716148893, 958.9014857136077], [27.551020408163264, 21.186664840395125, 15.46762576504302, 963.3457093945624], [28.571428571428573, 20.890542425496005, 12.244892019186302, 966.8645655553182], [29.591836734693878, 20.65908706666894, 9.691030865089054, 969.6498820682425], [30.612244897959183, 20.477743552429104, 7.668209919874533, 971.8540465276968], [31.63265306122449, 20.335392560923193, 6.0666179289757105, 973.5979895101016], [32.6530612244898, 20.22348184600516, 4.798916932313547, 974.9776012216818], [33.673469387755105, 20.13539727645179, 3.795733568332205, 976.0688691552165], [34.69387755102041, 20.066000821496104, 3.0020193123477767, 976.9319798661566], [35.714285714285715, 20.011286805528627, 2.3741266047441907, 977.6145865897275], [36.734693877551024, 19.96812333986161, 1.8774686021156988, 978.154408058023], [37.755102040816325, 19.93405610245294, 1.4846512814843469, 978.581292616063], [38.775510204081634, 19.907158228825917, 1.1739856488094387, 978.918856122365], [39.79591836734694, 19.885914735886345, 0.9283045937570672, 979.1857806703571], [40.816326530612244, 19.869133101301344, 0.7340232655369031, 979.3968436331622], [41.83673469387755, 19.85587375892382, 0.580393481479153, 979.5637327595974], [42.85714285714286, 19.845395901110177, 0.4589126085642731, 979.695691490326], [43.87755102040816, 19.8371150945189, 0.3628551725189751, 979.8000297329626], [44.89795918367347, 19.83057005821959, 0.28690186747808905, 979.8825280743029], [45.91836734693878, 19.82539658141567, 0.22684585495719528, 979.9477575636276], [46.93877551020408, 19.821307012790466, 0.17936028216992952, 979.99933270504], [47.95918367346939, 19.81807411545125, 0.14181432175051675, 980.0401115627986], [48.9795918367347, 19.815518346110483, 0.11212762699393251, 980.072354026896], [50.0, 19.813497824278734, 0.08865518888189992, 980.0978469868398]], \"data02\": [[0.8301971326164875, 0.5712840323767475, 0.5022994849153789, 0.43331493745401034], [0.8660394265232976, 0.5712840323767475, 0.5022994849153789, 0.43331493745401034]], \"data03\": [[0.8266129032258065, 0.38962472406181015], [0.9874551971326165, 0.38962472406181015], [0.9910394265232975, 0.38962472406181015], [0.9910394265232975, 0.398822663723326], [0.9910394265232975, 0.601177336276674], [0.9910394265232975, 0.6103752759381899], [0.9874551971326165, 0.6103752759381899], [0.8266129032258065, 0.6103752759381899], [0.8230286738351255, 0.6103752759381899], [0.8230286738351255, 0.601177336276674], [0.8230286738351255, 0.398822663723326], [0.8230286738351255, 0.38962472406181015], [0.8266129032258065, 0.38962472406181015]]}, \"id\": \"el122140573614263040\", \"plugins\": [{\"type\": \"reset\"}, {\"type\": \"zoom\", \"button\": true, \"enabled\": false}, {\"type\": \"boxzoom\", \"button\": true, \"enabled\": false}]});\n",
              "   }(mpld3);\n",
              "}else if(typeof define === \"function\" && define.amd){\n",
              "   // require.js is available: use it to load d3/mpld3\n",
              "   require.config({paths: {d3: \"https://mpld3.github.io/js/d3.v3.min\"}});\n",
              "   require([\"d3\"], function(d3){\n",
              "      window.d3 = d3;\n",
              "      mpld3_load_lib(\"https://mpld3.github.io/js/mpld3.v0.3.js\", function(){\n",
              "         \n",
              "         mpld3.draw_figure(\"fig_el1221405736142630407789165787\", {\"width\": 720.0, \"height\": 288.0, \"axes\": [{\"bbox\": [0.125, 0.125, 0.775, 0.755], \"xlim\": [-2.5, 52.5], \"ylim\": [-49.95, 1048.95], \"xdomain\": [-2.5, 52.5], \"ydomain\": [-49.95, 1048.95], \"xscale\": \"linear\", \"yscale\": \"linear\", \"axes\": [{\"position\": \"bottom\", \"nticks\": 8, \"tickvalues\": null, \"tickformat\": null, \"scale\": \"linear\", \"fontsize\": 10.0, \"grid\": {\"gridOn\": true, \"color\": \"#FFFFFF\", \"dasharray\": \"none\", \"alpha\": 1.0}, \"visible\": true}, {\"position\": \"left\", \"nticks\": 8, \"tickvalues\": null, \"tickformat\": null, \"scale\": \"linear\", \"fontsize\": 10.0, \"grid\": {\"gridOn\": true, \"color\": \"#FFFFFF\", \"dasharray\": \"none\", \"alpha\": 1.0}, \"visible\": true}], \"axesbg\": \"#FFFFFF\", \"axesbgalpha\": null, \"zoomable\": true, \"id\": \"el122140573614185552\", \"lines\": [{\"data\": \"data01\", \"xindex\": 0, \"yindex\": 1, \"coordinates\": \"data\", \"id\": \"el122140573614077376\", \"color\": \"#0000FF\", \"linewidth\": 2.0, \"dasharray\": \"none\", \"alpha\": 0.7, \"zorder\": 2, \"drawstyle\": \"default\"}, {\"data\": \"data01\", \"xindex\": 0, \"yindex\": 2, \"coordinates\": \"data\", \"id\": \"el122140573614077656\", \"color\": \"#BFBF00\", \"linewidth\": 2.0, \"dasharray\": \"none\", \"alpha\": 0.7, \"zorder\": 2, \"drawstyle\": \"default\"}, {\"data\": \"data01\", \"xindex\": 0, \"yindex\": 3, \"coordinates\": \"data\", \"id\": \"el122140573614078496\", \"color\": \"#007F00\", \"linewidth\": 2.0, \"dasharray\": \"none\", \"alpha\": 0.7, \"zorder\": 2, \"drawstyle\": \"default\"}, {\"data\": \"data02\", \"xindex\": 0, \"yindex\": 1, \"coordinates\": \"axes\", \"id\": \"el122140573614151048\", \"color\": \"#0000FF\", \"linewidth\": 2.0, \"dasharray\": \"none\", \"alpha\": 0.7, \"zorder\": 1000002.0, \"drawstyle\": \"default\"}, {\"data\": \"data02\", \"xindex\": 0, \"yindex\": 2, \"coordinates\": \"axes\", \"id\": \"el122140573614152112\", \"color\": \"#BFBF00\", \"linewidth\": 2.0, \"dasharray\": \"none\", \"alpha\": 0.7, \"zorder\": 1000002.0, \"drawstyle\": \"default\"}, {\"data\": \"data02\", \"xindex\": 0, \"yindex\": 3, \"coordinates\": \"axes\", \"id\": \"el122140573614153176\", \"color\": \"#007F00\", \"linewidth\": 2.0, \"dasharray\": \"none\", \"alpha\": 0.7, \"zorder\": 1000002.0, \"drawstyle\": \"default\"}], \"paths\": [{\"data\": \"data03\", \"xindex\": 0, \"yindex\": 1, \"coordinates\": \"axes\", \"pathcodes\": [\"M\", \"L\", \"S\", \"L\", \"S\", \"L\", \"S\", \"L\", \"S\", \"Z\"], \"id\": \"el122140573614150096\", \"dasharray\": \"none\", \"alpha\": 0.5, \"facecolor\": \"#FFFFFF\", \"edgecolor\": \"#CCCCCC\", \"edgewidth\": 1.0, \"zorder\": 1000000.0}], \"markers\": [], \"texts\": [{\"text\": \"Time (days)\", \"position\": [0.5, -0.08048197203826342], \"coordinates\": \"axes\", \"h_anchor\": \"middle\", \"v_baseline\": \"hanging\", \"rotation\": -0.0, \"fontsize\": 10.0, \"color\": \"#000000\", \"alpha\": 1, \"zorder\": 3, \"id\": \"el122140573614182808\"}, {\"text\": \"Susceptible\", \"position\": [0.8803763440860216, 0.5551876379690949], \"coordinates\": \"axes\", \"h_anchor\": \"start\", \"v_baseline\": \"auto\", \"rotation\": -0.0, \"fontsize\": 10.0, \"color\": \"#000000\", \"alpha\": 1, \"zorder\": 1000003.0, \"id\": \"el122140573614150544\"}, {\"text\": \"Infected\", \"position\": [0.8803763440860216, 0.48620309050772625], \"coordinates\": \"axes\", \"h_anchor\": \"start\", \"v_baseline\": \"auto\", \"rotation\": -0.0, \"fontsize\": 10.0, \"color\": \"#000000\", \"alpha\": 1, \"zorder\": 1000003.0, \"id\": \"el122140573614151664\"}, {\"text\": \"Recovered\", \"position\": [0.8803763440860216, 0.41721854304635764], \"coordinates\": \"axes\", \"h_anchor\": \"start\", \"v_baseline\": \"auto\", \"rotation\": -0.0, \"fontsize\": 10.0, \"color\": \"#000000\", \"alpha\": 1, \"zorder\": 1000003.0, \"id\": \"el122140573614152728\"}], \"collections\": [], \"images\": [], \"sharex\": [], \"sharey\": []}], \"data\": {\"data01\": [[0.0, 999.0, 1.0, 0.0], [1.0204081632653061, 997.4711042919595, 2.1459960977787187, 0.3828996102619708], [2.0408163265306123, 994.201812663591, 4.5945468886540235, 1.203640447755247], [3.0612244897959187, 987.2555704530575, 9.787970497011548, 2.956459049931237], [4.081632653061225, 972.6953888254875, 20.633658761014594, 6.670952413498157], [5.1020408163265305, 943.0216133650888, 42.56199239527101, 14.416394239640692], [6.122448979591837, 885.8550481681197, 84.09459113983004, 30.050360692050717], [7.142857142857143, 786.6882737783405, 153.58105223423698, 59.7306739874229], [8.16326530612245, 641.9474008353599, 247.49049508183424, 110.56210408280636], [9.183673469387756, 475.0425391114636, 339.119852802999, 185.83760808553794], [10.204081632653061, 325.44332236202854, 394.1650642117259, 280.391613426246], [11.224489795918368, 216.0775410778787, 401.1430939662858, 382.779364955836], [12.244897959183675, 145.27411171623828, 372.6927910293503, 482.033097254412], [13.26530612244898, 101.58047172238815, 326.9436664732492, 571.4758618043633], [14.285714285714286, 74.64869493660423, 276.8608710514609, 648.4904340119355], [15.306122448979592, 57.67980306877148, 229.35827015643605, 712.9619267747931], [16.3265306122449, 46.65684677875852, 187.3593762461368, 765.9837769751055], [17.346938775510203, 39.26735340514572, 151.64231477991962, 809.0903318149353], [18.367346938775512, 34.16790822161616, 121.96510128337984, 843.8669904950048], [19.387755102040817, 30.558859096005936, 97.66609419110569, 871.7750467128891], [20.408163265306122, 27.94966984540808, 77.9629724610777, 894.087357693515], [21.42857142857143, 26.029847413865312, 62.0924135529367, 911.8777390331987], [22.448979591836736, 24.596814046330564, 49.36871388841125, 926.0344720652588], [23.46938775510204, 23.514626619856273, 39.202330019390104, 937.2830433607543], [24.48979591836735, 22.689704898296952, 31.099416497584674, 946.210878604119], [25.510204081632654, 22.056157678259826, 24.65309656380096, 953.2907457579399], [26.53061224489796, 21.566665570244115, 19.531848716148893, 958.9014857136077], [27.551020408163264, 21.186664840395125, 15.46762576504302, 963.3457093945624], [28.571428571428573, 20.890542425496005, 12.244892019186302, 966.8645655553182], [29.591836734693878, 20.65908706666894, 9.691030865089054, 969.6498820682425], [30.612244897959183, 20.477743552429104, 7.668209919874533, 971.8540465276968], [31.63265306122449, 20.335392560923193, 6.0666179289757105, 973.5979895101016], [32.6530612244898, 20.22348184600516, 4.798916932313547, 974.9776012216818], [33.673469387755105, 20.13539727645179, 3.795733568332205, 976.0688691552165], [34.69387755102041, 20.066000821496104, 3.0020193123477767, 976.9319798661566], [35.714285714285715, 20.011286805528627, 2.3741266047441907, 977.6145865897275], [36.734693877551024, 19.96812333986161, 1.8774686021156988, 978.154408058023], [37.755102040816325, 19.93405610245294, 1.4846512814843469, 978.581292616063], [38.775510204081634, 19.907158228825917, 1.1739856488094387, 978.918856122365], [39.79591836734694, 19.885914735886345, 0.9283045937570672, 979.1857806703571], [40.816326530612244, 19.869133101301344, 0.7340232655369031, 979.3968436331622], [41.83673469387755, 19.85587375892382, 0.580393481479153, 979.5637327595974], [42.85714285714286, 19.845395901110177, 0.4589126085642731, 979.695691490326], [43.87755102040816, 19.8371150945189, 0.3628551725189751, 979.8000297329626], [44.89795918367347, 19.83057005821959, 0.28690186747808905, 979.8825280743029], [45.91836734693878, 19.82539658141567, 0.22684585495719528, 979.9477575636276], [46.93877551020408, 19.821307012790466, 0.17936028216992952, 979.99933270504], [47.95918367346939, 19.81807411545125, 0.14181432175051675, 980.0401115627986], [48.9795918367347, 19.815518346110483, 0.11212762699393251, 980.072354026896], [50.0, 19.813497824278734, 0.08865518888189992, 980.0978469868398]], \"data02\": [[0.8301971326164875, 0.5712840323767475, 0.5022994849153789, 0.43331493745401034], [0.8660394265232976, 0.5712840323767475, 0.5022994849153789, 0.43331493745401034]], \"data03\": [[0.8266129032258065, 0.38962472406181015], [0.9874551971326165, 0.38962472406181015], [0.9910394265232975, 0.38962472406181015], [0.9910394265232975, 0.398822663723326], [0.9910394265232975, 0.601177336276674], [0.9910394265232975, 0.6103752759381899], [0.9874551971326165, 0.6103752759381899], [0.8266129032258065, 0.6103752759381899], [0.8230286738351255, 0.6103752759381899], [0.8230286738351255, 0.601177336276674], [0.8230286738351255, 0.398822663723326], [0.8230286738351255, 0.38962472406181015], [0.8266129032258065, 0.38962472406181015]]}, \"id\": \"el122140573614263040\", \"plugins\": [{\"type\": \"reset\"}, {\"type\": \"zoom\", \"button\": true, \"enabled\": false}, {\"type\": \"boxzoom\", \"button\": true, \"enabled\": false}]});\n",
              "      });\n",
              "    });\n",
              "}else{\n",
              "    // require.js not available: dynamically load d3 & mpld3\n",
              "    mpld3_load_lib(\"https://mpld3.github.io/js/d3.v3.min.js\", function(){\n",
              "         mpld3_load_lib(\"https://mpld3.github.io/js/mpld3.v0.3.js\", function(){\n",
              "                 \n",
              "                 mpld3.draw_figure(\"fig_el1221405736142630407789165787\", {\"width\": 720.0, \"height\": 288.0, \"axes\": [{\"bbox\": [0.125, 0.125, 0.775, 0.755], \"xlim\": [-2.5, 52.5], \"ylim\": [-49.95, 1048.95], \"xdomain\": [-2.5, 52.5], \"ydomain\": [-49.95, 1048.95], \"xscale\": \"linear\", \"yscale\": \"linear\", \"axes\": [{\"position\": \"bottom\", \"nticks\": 8, \"tickvalues\": null, \"tickformat\": null, \"scale\": \"linear\", \"fontsize\": 10.0, \"grid\": {\"gridOn\": true, \"color\": \"#FFFFFF\", \"dasharray\": \"none\", \"alpha\": 1.0}, \"visible\": true}, {\"position\": \"left\", \"nticks\": 8, \"tickvalues\": null, \"tickformat\": null, \"scale\": \"linear\", \"fontsize\": 10.0, \"grid\": {\"gridOn\": true, \"color\": \"#FFFFFF\", \"dasharray\": \"none\", \"alpha\": 1.0}, \"visible\": true}], \"axesbg\": \"#FFFFFF\", \"axesbgalpha\": null, \"zoomable\": true, \"id\": \"el122140573614185552\", \"lines\": [{\"data\": \"data01\", \"xindex\": 0, \"yindex\": 1, \"coordinates\": \"data\", \"id\": \"el122140573614077376\", \"color\": \"#0000FF\", \"linewidth\": 2.0, \"dasharray\": \"none\", \"alpha\": 0.7, \"zorder\": 2, \"drawstyle\": \"default\"}, {\"data\": \"data01\", \"xindex\": 0, \"yindex\": 2, \"coordinates\": \"data\", \"id\": \"el122140573614077656\", \"color\": \"#BFBF00\", \"linewidth\": 2.0, \"dasharray\": \"none\", \"alpha\": 0.7, \"zorder\": 2, \"drawstyle\": \"default\"}, {\"data\": \"data01\", \"xindex\": 0, \"yindex\": 3, \"coordinates\": \"data\", \"id\": \"el122140573614078496\", \"color\": \"#007F00\", \"linewidth\": 2.0, \"dasharray\": \"none\", \"alpha\": 0.7, \"zorder\": 2, \"drawstyle\": \"default\"}, {\"data\": \"data02\", \"xindex\": 0, \"yindex\": 1, \"coordinates\": \"axes\", \"id\": \"el122140573614151048\", \"color\": \"#0000FF\", \"linewidth\": 2.0, \"dasharray\": \"none\", \"alpha\": 0.7, \"zorder\": 1000002.0, \"drawstyle\": \"default\"}, {\"data\": \"data02\", \"xindex\": 0, \"yindex\": 2, \"coordinates\": \"axes\", \"id\": \"el122140573614152112\", \"color\": \"#BFBF00\", \"linewidth\": 2.0, \"dasharray\": \"none\", \"alpha\": 0.7, \"zorder\": 1000002.0, \"drawstyle\": \"default\"}, {\"data\": \"data02\", \"xindex\": 0, \"yindex\": 3, \"coordinates\": \"axes\", \"id\": \"el122140573614153176\", \"color\": \"#007F00\", \"linewidth\": 2.0, \"dasharray\": \"none\", \"alpha\": 0.7, \"zorder\": 1000002.0, \"drawstyle\": \"default\"}], \"paths\": [{\"data\": \"data03\", \"xindex\": 0, \"yindex\": 1, \"coordinates\": \"axes\", \"pathcodes\": [\"M\", \"L\", \"S\", \"L\", \"S\", \"L\", \"S\", \"L\", \"S\", \"Z\"], \"id\": \"el122140573614150096\", \"dasharray\": \"none\", \"alpha\": 0.5, \"facecolor\": \"#FFFFFF\", \"edgecolor\": \"#CCCCCC\", \"edgewidth\": 1.0, \"zorder\": 1000000.0}], \"markers\": [], \"texts\": [{\"text\": \"Time (days)\", \"position\": [0.5, -0.08048197203826342], \"coordinates\": \"axes\", \"h_anchor\": \"middle\", \"v_baseline\": \"hanging\", \"rotation\": -0.0, \"fontsize\": 10.0, \"color\": \"#000000\", \"alpha\": 1, \"zorder\": 3, \"id\": \"el122140573614182808\"}, {\"text\": \"Susceptible\", \"position\": [0.8803763440860216, 0.5551876379690949], \"coordinates\": \"axes\", \"h_anchor\": \"start\", \"v_baseline\": \"auto\", \"rotation\": -0.0, \"fontsize\": 10.0, \"color\": \"#000000\", \"alpha\": 1, \"zorder\": 1000003.0, \"id\": \"el122140573614150544\"}, {\"text\": \"Infected\", \"position\": [0.8803763440860216, 0.48620309050772625], \"coordinates\": \"axes\", \"h_anchor\": \"start\", \"v_baseline\": \"auto\", \"rotation\": -0.0, \"fontsize\": 10.0, \"color\": \"#000000\", \"alpha\": 1, \"zorder\": 1000003.0, \"id\": \"el122140573614151664\"}, {\"text\": \"Recovered\", \"position\": [0.8803763440860216, 0.41721854304635764], \"coordinates\": \"axes\", \"h_anchor\": \"start\", \"v_baseline\": \"auto\", \"rotation\": -0.0, \"fontsize\": 10.0, \"color\": \"#000000\", \"alpha\": 1, \"zorder\": 1000003.0, \"id\": \"el122140573614152728\"}], \"collections\": [], \"images\": [], \"sharex\": [], \"sharey\": []}], \"data\": {\"data01\": [[0.0, 999.0, 1.0, 0.0], [1.0204081632653061, 997.4711042919595, 2.1459960977787187, 0.3828996102619708], [2.0408163265306123, 994.201812663591, 4.5945468886540235, 1.203640447755247], [3.0612244897959187, 987.2555704530575, 9.787970497011548, 2.956459049931237], [4.081632653061225, 972.6953888254875, 20.633658761014594, 6.670952413498157], [5.1020408163265305, 943.0216133650888, 42.56199239527101, 14.416394239640692], [6.122448979591837, 885.8550481681197, 84.09459113983004, 30.050360692050717], [7.142857142857143, 786.6882737783405, 153.58105223423698, 59.7306739874229], [8.16326530612245, 641.9474008353599, 247.49049508183424, 110.56210408280636], [9.183673469387756, 475.0425391114636, 339.119852802999, 185.83760808553794], [10.204081632653061, 325.44332236202854, 394.1650642117259, 280.391613426246], [11.224489795918368, 216.0775410778787, 401.1430939662858, 382.779364955836], [12.244897959183675, 145.27411171623828, 372.6927910293503, 482.033097254412], [13.26530612244898, 101.58047172238815, 326.9436664732492, 571.4758618043633], [14.285714285714286, 74.64869493660423, 276.8608710514609, 648.4904340119355], [15.306122448979592, 57.67980306877148, 229.35827015643605, 712.9619267747931], [16.3265306122449, 46.65684677875852, 187.3593762461368, 765.9837769751055], [17.346938775510203, 39.26735340514572, 151.64231477991962, 809.0903318149353], [18.367346938775512, 34.16790822161616, 121.96510128337984, 843.8669904950048], [19.387755102040817, 30.558859096005936, 97.66609419110569, 871.7750467128891], [20.408163265306122, 27.94966984540808, 77.9629724610777, 894.087357693515], [21.42857142857143, 26.029847413865312, 62.0924135529367, 911.8777390331987], [22.448979591836736, 24.596814046330564, 49.36871388841125, 926.0344720652588], [23.46938775510204, 23.514626619856273, 39.202330019390104, 937.2830433607543], [24.48979591836735, 22.689704898296952, 31.099416497584674, 946.210878604119], [25.510204081632654, 22.056157678259826, 24.65309656380096, 953.2907457579399], [26.53061224489796, 21.566665570244115, 19.531848716148893, 958.9014857136077], [27.551020408163264, 21.186664840395125, 15.46762576504302, 963.3457093945624], [28.571428571428573, 20.890542425496005, 12.244892019186302, 966.8645655553182], [29.591836734693878, 20.65908706666894, 9.691030865089054, 969.6498820682425], [30.612244897959183, 20.477743552429104, 7.668209919874533, 971.8540465276968], [31.63265306122449, 20.335392560923193, 6.0666179289757105, 973.5979895101016], [32.6530612244898, 20.22348184600516, 4.798916932313547, 974.9776012216818], [33.673469387755105, 20.13539727645179, 3.795733568332205, 976.0688691552165], [34.69387755102041, 20.066000821496104, 3.0020193123477767, 976.9319798661566], [35.714285714285715, 20.011286805528627, 2.3741266047441907, 977.6145865897275], [36.734693877551024, 19.96812333986161, 1.8774686021156988, 978.154408058023], [37.755102040816325, 19.93405610245294, 1.4846512814843469, 978.581292616063], [38.775510204081634, 19.907158228825917, 1.1739856488094387, 978.918856122365], [39.79591836734694, 19.885914735886345, 0.9283045937570672, 979.1857806703571], [40.816326530612244, 19.869133101301344, 0.7340232655369031, 979.3968436331622], [41.83673469387755, 19.85587375892382, 0.580393481479153, 979.5637327595974], [42.85714285714286, 19.845395901110177, 0.4589126085642731, 979.695691490326], [43.87755102040816, 19.8371150945189, 0.3628551725189751, 979.8000297329626], [44.89795918367347, 19.83057005821959, 0.28690186747808905, 979.8825280743029], [45.91836734693878, 19.82539658141567, 0.22684585495719528, 979.9477575636276], [46.93877551020408, 19.821307012790466, 0.17936028216992952, 979.99933270504], [47.95918367346939, 19.81807411545125, 0.14181432175051675, 980.0401115627986], [48.9795918367347, 19.815518346110483, 0.11212762699393251, 980.072354026896], [50.0, 19.813497824278734, 0.08865518888189992, 980.0978469868398]], \"data02\": [[0.8301971326164875, 0.5712840323767475, 0.5022994849153789, 0.43331493745401034], [0.8660394265232976, 0.5712840323767475, 0.5022994849153789, 0.43331493745401034]], \"data03\": [[0.8266129032258065, 0.38962472406181015], [0.9874551971326165, 0.38962472406181015], [0.9910394265232975, 0.38962472406181015], [0.9910394265232975, 0.398822663723326], [0.9910394265232975, 0.601177336276674], [0.9910394265232975, 0.6103752759381899], [0.9874551971326165, 0.6103752759381899], [0.8266129032258065, 0.6103752759381899], [0.8230286738351255, 0.6103752759381899], [0.8230286738351255, 0.601177336276674], [0.8230286738351255, 0.398822663723326], [0.8230286738351255, 0.38962472406181015], [0.8266129032258065, 0.38962472406181015]]}, \"id\": \"el122140573614263040\", \"plugins\": [{\"type\": \"reset\"}, {\"type\": \"zoom\", \"button\": true, \"enabled\": false}, {\"type\": \"boxzoom\", \"button\": true, \"enabled\": false}]});\n",
              "            })\n",
              "         });\n",
              "}\n",
              "</script>"
            ],
            "text/plain": [
              "<Figure size 720x288 with 1 Axes>"
            ]
          },
          "metadata": {
            "tags": []
          }
        }
      ]
    },
    {
      "cell_type": "markdown",
      "source": [
        "## Modeling by a system of fractional derivative equations"
      ],
      "metadata": {
        "id": "GFFxuG7C5TYK"
      }
    },
    {
      "cell_type": "code",
      "source": [],
      "metadata": {
        "id": "rxWTWJBb5y-5"
      },
      "execution_count": null,
      "outputs": []
    },
    {
      "cell_type": "markdown",
      "source": [
        "### Tricked ide.py to handle the kernel:  $s^{(p-1)}(t-s)^{(q-1)}, p,q > 1$.\n",
        "\n",
        "- add the line: \n",
        "import scipy as sc\n",
        "- replace the line: \n",
        "self.quad_x, self.quad_w = np.polynomial.legendre.leggauss(quad_deg)\n",
        "\n",
        "> by \n",
        "\n",
        "> self.quad_x, self.quad_w = sc.special.roots_jacobi(quad_deg,q-1,p-1)\n",
        "\n",
        "- replace the line: return self.quad_w * x / 2\n",
        "> by\n",
        "\n",
        "> return self.quad_w * (x / 2)**(p+q-1)\n",
        "- declare the function K = 1 i.e., \n",
        "\n",
        "> def kernel(x, s):\n",
        ">>    return 1\n",
        "\n",
        "\n",
        "\n",
        "\n",
        "\n",
        "          "
      ],
      "metadata": {
        "id": "kWpen9KjEspe"
      }
    },
    {
      "cell_type": "code",
      "source": [
        "!pip install deepxde\n",
        "import deepxde as dde\n",
        "import matplotlib.pyplot as plt\n",
        "import numpy as np\n",
        "from deepxde.backend import tf"
      ],
      "metadata": {
        "colab": {
          "base_uri": "https://localhost:8080/"
        },
        "id": "VjhkNMZaqO1S",
        "outputId": "935dbbba-7424-4070-dace-e942e0ed11ba"
      },
      "execution_count": 1,
      "outputs": [
        {
          "output_type": "stream",
          "name": "stdout",
          "text": [
            "Looking in indexes: https://pypi.org/simple, https://us-python.pkg.dev/colab-wheels/public/simple/\n",
            "Requirement already satisfied: deepxde in /usr/local/lib/python3.8/dist-packages (1.7.2)\n",
            "Requirement already satisfied: scikit-learn in /usr/local/lib/python3.8/dist-packages (from deepxde) (1.0.2)\n",
            "Requirement already satisfied: numpy in /usr/local/lib/python3.8/dist-packages (from deepxde) (1.21.6)\n",
            "Requirement already satisfied: scipy in /usr/local/lib/python3.8/dist-packages (from deepxde) (1.7.3)\n",
            "Requirement already satisfied: scikit-optimize>=0.9.0 in /usr/local/lib/python3.8/dist-packages (from deepxde) (0.9.0)\n",
            "Requirement already satisfied: matplotlib in /usr/local/lib/python3.8/dist-packages (from deepxde) (3.2.2)\n",
            "Requirement already satisfied: pyaml>=16.9 in /usr/local/lib/python3.8/dist-packages (from scikit-optimize>=0.9.0->deepxde) (21.10.1)\n",
            "Requirement already satisfied: joblib>=0.11 in /usr/local/lib/python3.8/dist-packages (from scikit-optimize>=0.9.0->deepxde) (1.2.0)\n",
            "Requirement already satisfied: PyYAML in /usr/local/lib/python3.8/dist-packages (from pyaml>=16.9->scikit-optimize>=0.9.0->deepxde) (6.0)\n",
            "Requirement already satisfied: threadpoolctl>=2.0.0 in /usr/local/lib/python3.8/dist-packages (from scikit-learn->deepxde) (3.1.0)\n",
            "Requirement already satisfied: pyparsing!=2.0.4,!=2.1.2,!=2.1.6,>=2.0.1 in /usr/local/lib/python3.8/dist-packages (from matplotlib->deepxde) (3.0.9)\n",
            "Requirement already satisfied: cycler>=0.10 in /usr/local/lib/python3.8/dist-packages (from matplotlib->deepxde) (0.11.0)\n",
            "Requirement already satisfied: python-dateutil>=2.1 in /usr/local/lib/python3.8/dist-packages (from matplotlib->deepxde) (2.8.2)\n",
            "Requirement already satisfied: kiwisolver>=1.0.1 in /usr/local/lib/python3.8/dist-packages (from matplotlib->deepxde) (1.4.4)\n",
            "Requirement already satisfied: six>=1.5 in /usr/local/lib/python3.8/dist-packages (from python-dateutil>=2.1->matplotlib->deepxde) (1.15.0)\n"
          ]
        },
        {
          "output_type": "stream",
          "name": "stderr",
          "text": [
            "Using backend: tensorflow.compat.v1\n",
            "\n",
            "WARNING:tensorflow:From /usr/local/lib/python3.8/dist-packages/tensorflow/python/compat/v2_compat.py:107: disable_resource_variables (from tensorflow.python.ops.variable_scope) is deprecated and will be removed in a future version.\n",
            "Instructions for updating:\n",
            "non-resource variables are not supported in the long term\n",
            "WARNING:tensorflow:From /usr/local/lib/python3.8/dist-packages/deepxde/nn/initializers.py:118: The name tf.keras.initializers.he_normal is deprecated. Please use tf.compat.v1.keras.initializers.he_normal instead.\n",
            "\n"
          ]
        }
      ]
    },
    {
      "cell_type": "code",
      "execution_count": 2,
      "metadata": {
        "colab": {
          "base_uri": "https://localhost:8080/",
          "height": 1000
        },
        "outputId": "a707189b-25a9-4fb7-ef60-900e58fd78e1",
        "id": "neHcNl7XYsFg"
      },
      "outputs": [
        {
          "output_type": "stream",
          "name": "stdout",
          "text": [
            "Compiling model...\n",
            "Building feed-forward neural network...\n",
            "'build' took 0.139064 s\n",
            "\n"
          ]
        },
        {
          "output_type": "stream",
          "name": "stderr",
          "text": [
            "/usr/local/lib/python3.8/dist-packages/deepxde/nn/tensorflow_compat_v1/fnn.py:103: UserWarning: `tf.layers.dense` is deprecated and will be removed in a future version. Please use `tf.keras.layers.Dense` instead.\n",
            "  return tf.layers.dense(\n"
          ]
        },
        {
          "output_type": "stream",
          "name": "stdout",
          "text": [
            "'compile' took 0.990753 s\n",
            "\n",
            "Initializing variables...\n",
            "Training model...\n",
            "\n",
            "Step      Train loss                                                      Test loss                                                       Test metric\n",
            "0         [7.47e+05, 7.22e+05, 5.81e+02, 0.00e+00, 0.00e+00, 0.00e+00]    [7.47e+05, 7.22e+05, 5.81e+02, 0.00e+00, 0.00e+00, 0.00e+00]    []  \n",
            "1000      [2.25e+02, 3.05e+00, 3.63e+02, 0.00e+00, 0.00e+00, 0.00e+00]    [2.25e+02, 3.05e+00, 3.63e+02, 0.00e+00, 0.00e+00, 0.00e+00]    []  \n",
            "2000      [7.23e+01, 5.72e+01, 3.40e+02, 0.00e+00, 0.00e+00, 0.00e+00]    [7.23e+01, 5.72e+01, 3.40e+02, 0.00e+00, 0.00e+00, 0.00e+00]    []  \n",
            "3000      [7.02e+01, 5.61e+01, 3.13e+02, 0.00e+00, 0.00e+00, 0.00e+00]    [7.02e+01, 5.61e+01, 3.13e+02, 0.00e+00, 0.00e+00, 0.00e+00]    []  \n",
            "4000      [6.72e+01, 5.42e+01, 2.85e+02, 0.00e+00, 0.00e+00, 0.00e+00]    [6.72e+01, 5.42e+01, 2.85e+02, 0.00e+00, 0.00e+00, 0.00e+00]    []  \n",
            "5000      [6.26e+01, 5.12e+01, 2.53e+02, 0.00e+00, 0.00e+00, 0.00e+00]    [6.26e+01, 5.12e+01, 2.53e+02, 0.00e+00, 0.00e+00, 0.00e+00]    []  \n",
            "6000      [5.60e+01, 4.66e+01, 2.17e+02, 0.00e+00, 0.00e+00, 0.00e+00]    [5.60e+01, 4.66e+01, 2.17e+02, 0.00e+00, 0.00e+00, 0.00e+00]    []  \n",
            "7000      [4.70e+01, 3.98e+01, 1.75e+02, 0.00e+00, 0.00e+00, 0.00e+00]    [4.70e+01, 3.98e+01, 1.75e+02, 0.00e+00, 0.00e+00, 0.00e+00]    []  \n",
            "8000      [3.57e+01, 3.05e+01, 1.27e+02, 0.00e+00, 0.00e+00, 0.00e+00]    [3.57e+01, 3.05e+01, 1.27e+02, 0.00e+00, 0.00e+00, 0.00e+00]    []  \n",
            "9000      [2.28e+01, 1.93e+01, 7.72e+01, 0.00e+00, 0.00e+00, 0.00e+00]    [2.28e+01, 1.93e+01, 7.72e+01, 0.00e+00, 0.00e+00, 0.00e+00]    []  \n",
            "10000     [1.11e+01, 8.72e+00, 3.40e+01, 0.00e+00, 0.00e+00, 0.00e+00]    [1.11e+01, 8.72e+00, 3.40e+01, 0.00e+00, 0.00e+00, 0.00e+00]    []  \n",
            "11000     [3.55e+00, 2.17e+00, 8.46e+00, 0.00e+00, 0.00e+00, 0.00e+00]    [3.55e+00, 2.17e+00, 8.46e+00, 0.00e+00, 0.00e+00, 0.00e+00]    []  \n",
            "12000     [9.07e-01, 1.97e-01, 8.28e-01, 0.00e+00, 0.00e+00, 0.00e+00]    [9.07e-01, 1.97e-01, 8.28e-01, 0.00e+00, 0.00e+00, 0.00e+00]    []  \n",
            "13000     [4.76e-01, 5.05e-02, 1.09e-01, 0.00e+00, 0.00e+00, 0.00e+00]    [4.76e-01, 5.05e-02, 1.09e-01, 0.00e+00, 0.00e+00, 0.00e+00]    []  \n",
            "14000     [3.70e-01, 4.14e-02, 9.51e-02, 0.00e+00, 0.00e+00, 0.00e+00]    [3.70e-01, 4.14e-02, 9.51e-02, 0.00e+00, 0.00e+00, 0.00e+00]    []  \n",
            "15000     [2.81e-01, 5.11e-02, 8.56e-02, 0.00e+00, 0.00e+00, 0.00e+00]    [2.81e-01, 5.11e-02, 8.56e-02, 0.00e+00, 0.00e+00, 0.00e+00]    []  \n",
            "16000     [2.11e-01, 6.43e-02, 7.43e-02, 0.00e+00, 0.00e+00, 0.00e+00]    [2.11e-01, 6.43e-02, 7.43e-02, 0.00e+00, 0.00e+00, 0.00e+00]    []  \n",
            "17000     [1.61e-01, 6.85e-02, 6.01e-02, 0.00e+00, 0.00e+00, 0.00e+00]    [1.61e-01, 6.85e-02, 6.01e-02, 0.00e+00, 0.00e+00, 0.00e+00]    []  \n",
            "18000     [1.23e-01, 6.03e-02, 4.23e-02, 0.00e+00, 0.00e+00, 0.00e+00]    [1.23e-01, 6.03e-02, 4.23e-02, 0.00e+00, 0.00e+00, 0.00e+00]    []  \n",
            "19000     [9.13e-02, 4.38e-02, 2.34e-02, 0.00e+00, 0.00e+00, 0.00e+00]    [9.13e-02, 4.38e-02, 2.34e-02, 0.00e+00, 0.00e+00, 0.00e+00]    []  \n",
            "20000     [6.34e-02, 2.47e-02, 8.98e-03, 0.00e+00, 0.00e+00, 0.00e+00]    [6.34e-02, 2.47e-02, 8.98e-03, 0.00e+00, 0.00e+00, 0.00e+00]    []  \n",
            "21000     [3.84e-02, 1.01e-02, 3.29e-03, 0.00e+00, 0.00e+00, 0.00e+00]    [3.84e-02, 1.01e-02, 3.29e-03, 0.00e+00, 0.00e+00, 0.00e+00]    []  \n",
            "22000     [1.57e-02, 4.42e-03, 3.69e-03, 0.00e+00, 0.00e+00, 0.00e+00]    [1.57e-02, 4.42e-03, 3.69e-03, 0.00e+00, 0.00e+00, 0.00e+00]    []  \n",
            "23000     [5.69e-03, 3.18e-03, 3.50e-03, 0.00e+00, 0.00e+00, 0.00e+00]    [5.69e-03, 3.18e-03, 3.50e-03, 0.00e+00, 0.00e+00, 0.00e+00]    []  \n",
            "24000     [3.17e-03, 1.62e-03, 1.88e-03, 0.00e+00, 0.00e+00, 0.00e+00]    [3.17e-03, 1.62e-03, 1.88e-03, 0.00e+00, 0.00e+00, 0.00e+00]    []  \n",
            "25000     [1.62e-03, 5.79e-04, 7.47e-04, 0.00e+00, 0.00e+00, 0.00e+00]    [1.62e-03, 5.79e-04, 7.47e-04, 0.00e+00, 0.00e+00, 0.00e+00]    []  \n",
            "26000     [6.08e-04, 2.46e-04, 3.03e-04, 0.00e+00, 0.00e+00, 0.00e+00]    [6.08e-04, 2.46e-04, 3.03e-04, 0.00e+00, 0.00e+00, 0.00e+00]    []  \n",
            "27000     [2.03e-04, 2.04e-04, 1.98e-04, 0.00e+00, 0.00e+00, 0.00e+00]    [2.03e-04, 2.04e-04, 1.98e-04, 0.00e+00, 0.00e+00, 0.00e+00]    []  \n",
            "28000     [1.14e-04, 1.57e-04, 1.65e-04, 0.00e+00, 0.00e+00, 0.00e+00]    [1.14e-04, 1.57e-04, 1.65e-04, 0.00e+00, 0.00e+00, 0.00e+00]    []  \n",
            "29000     [1.01e-04, 1.10e-04, 1.31e-04, 0.00e+00, 0.00e+00, 0.00e+00]    [1.01e-04, 1.10e-04, 1.31e-04, 0.00e+00, 0.00e+00, 0.00e+00]    []  \n",
            "30000     [9.10e-05, 8.97e-05, 9.97e-05, 0.00e+00, 0.00e+00, 0.00e+00]    [9.10e-05, 8.97e-05, 9.97e-05, 0.00e+00, 0.00e+00, 0.00e+00]    []  \n",
            "31000     [7.21e-05, 7.88e-05, 7.59e-05, 0.00e+00, 0.00e+00, 0.00e+00]    [7.21e-05, 7.88e-05, 7.59e-05, 0.00e+00, 0.00e+00, 0.00e+00]    []  \n",
            "32000     [4.84e-05, 6.89e-05, 5.96e-05, 0.00e+00, 0.00e+00, 0.00e+00]    [4.84e-05, 6.89e-05, 5.96e-05, 0.00e+00, 0.00e+00, 0.00e+00]    []  \n",
            "33000     [2.93e-05, 6.08e-05, 4.99e-05, 0.00e+00, 0.00e+00, 0.00e+00]    [2.93e-05, 6.08e-05, 4.99e-05, 0.00e+00, 0.00e+00, 0.00e+00]    []  \n",
            "34000     [1.85e-05, 5.48e-05, 4.38e-05, 0.00e+00, 0.00e+00, 0.00e+00]    [1.85e-05, 5.48e-05, 4.38e-05, 0.00e+00, 0.00e+00, 0.00e+00]    []  \n",
            "35000     [1.35e-05, 5.02e-05, 3.93e-05, 0.00e+00, 0.00e+00, 0.00e+00]    [1.35e-05, 5.02e-05, 3.93e-05, 0.00e+00, 0.00e+00, 0.00e+00]    []  \n",
            "36000     [1.14e-05, 4.63e-05, 3.52e-05, 0.00e+00, 0.00e+00, 0.00e+00]    [1.14e-05, 4.63e-05, 3.52e-05, 0.00e+00, 0.00e+00, 0.00e+00]    []  \n",
            "37000     [1.03e-05, 4.31e-05, 3.14e-05, 0.00e+00, 0.00e+00, 0.00e+00]    [1.03e-05, 4.31e-05, 3.14e-05, 0.00e+00, 0.00e+00, 0.00e+00]    []  \n",
            "38000     [9.59e-06, 4.03e-05, 2.79e-05, 0.00e+00, 0.00e+00, 0.00e+00]    [9.59e-06, 4.03e-05, 2.79e-05, 0.00e+00, 0.00e+00, 0.00e+00]    []  \n",
            "39000     [8.90e-06, 3.79e-05, 2.49e-05, 0.00e+00, 0.00e+00, 0.00e+00]    [8.90e-06, 3.79e-05, 2.49e-05, 0.00e+00, 0.00e+00, 0.00e+00]    []  \n",
            "40000     [8.16e-06, 3.55e-05, 2.21e-05, 0.00e+00, 0.00e+00, 0.00e+00]    [8.16e-06, 3.55e-05, 2.21e-05, 0.00e+00, 0.00e+00, 0.00e+00]    []  \n",
            "41000     [7.46e-06, 3.34e-05, 1.97e-05, 0.00e+00, 0.00e+00, 0.00e+00]    [7.46e-06, 3.34e-05, 1.97e-05, 0.00e+00, 0.00e+00, 0.00e+00]    []  \n",
            "42000     [6.78e-06, 3.15e-05, 1.75e-05, 0.00e+00, 0.00e+00, 0.00e+00]    [6.78e-06, 3.15e-05, 1.75e-05, 0.00e+00, 0.00e+00, 0.00e+00]    []  \n",
            "43000     [6.17e-06, 2.97e-05, 1.57e-05, 0.00e+00, 0.00e+00, 0.00e+00]    [6.17e-06, 2.97e-05, 1.57e-05, 0.00e+00, 0.00e+00, 0.00e+00]    []  \n",
            "44000     [5.61e-06, 2.81e-05, 1.40e-05, 0.00e+00, 0.00e+00, 0.00e+00]    [5.61e-06, 2.81e-05, 1.40e-05, 0.00e+00, 0.00e+00, 0.00e+00]    []  \n",
            "45000     [5.11e-06, 2.67e-05, 1.26e-05, 0.00e+00, 0.00e+00, 0.00e+00]    [5.11e-06, 2.67e-05, 1.26e-05, 0.00e+00, 0.00e+00, 0.00e+00]    []  \n",
            "46000     [4.62e-06, 2.53e-05, 1.12e-05, 0.00e+00, 0.00e+00, 0.00e+00]    [4.62e-06, 2.53e-05, 1.12e-05, 0.00e+00, 0.00e+00, 0.00e+00]    []  \n",
            "47000     [4.19e-06, 2.40e-05, 1.00e-05, 0.00e+00, 0.00e+00, 0.00e+00]    [4.19e-06, 2.40e-05, 1.00e-05, 0.00e+00, 0.00e+00, 0.00e+00]    []  \n",
            "48000     [3.89e-06, 2.29e-05, 9.09e-06, 0.00e+00, 0.00e+00, 0.00e+00]    [3.89e-06, 2.29e-05, 9.09e-06, 0.00e+00, 0.00e+00, 0.00e+00]    []  \n",
            "49000     [3.57e-06, 2.19e-05, 8.21e-06, 0.00e+00, 0.00e+00, 0.00e+00]    [3.57e-06, 2.19e-05, 8.21e-06, 0.00e+00, 0.00e+00, 0.00e+00]    []  \n",
            "50000     [6.78e-06, 2.35e-05, 1.64e-05, 0.00e+00, 0.00e+00, 0.00e+00]    [6.78e-06, 2.35e-05, 1.64e-05, 0.00e+00, 0.00e+00, 0.00e+00]    []  \n",
            "51000     [2.98e-06, 2.00e-05, 6.71e-06, 0.00e+00, 0.00e+00, 0.00e+00]    [2.98e-06, 2.00e-05, 6.71e-06, 0.00e+00, 0.00e+00, 0.00e+00]    []  \n",
            "52000     [2.73e-06, 1.91e-05, 6.10e-06, 0.00e+00, 0.00e+00, 0.00e+00]    [2.73e-06, 1.91e-05, 6.10e-06, 0.00e+00, 0.00e+00, 0.00e+00]    []  \n",
            "53000     [2.53e-06, 1.83e-05, 5.51e-06, 0.00e+00, 0.00e+00, 0.00e+00]    [2.53e-06, 1.83e-05, 5.51e-06, 0.00e+00, 0.00e+00, 0.00e+00]    []  \n",
            "54000     [2.38e-06, 1.75e-05, 5.03e-06, 0.00e+00, 0.00e+00, 0.00e+00]    [2.38e-06, 1.75e-05, 5.03e-06, 0.00e+00, 0.00e+00, 0.00e+00]    []  \n",
            "55000     [2.25e-06, 1.69e-05, 4.66e-06, 0.00e+00, 0.00e+00, 0.00e+00]    [2.25e-06, 1.69e-05, 4.66e-06, 0.00e+00, 0.00e+00, 0.00e+00]    []  \n",
            "56000     [2.12e-06, 1.63e-05, 4.27e-06, 0.00e+00, 0.00e+00, 0.00e+00]    [2.12e-06, 1.63e-05, 4.27e-06, 0.00e+00, 0.00e+00, 0.00e+00]    []  \n",
            "57000     [2.03e-06, 1.58e-05, 3.99e-06, 0.00e+00, 0.00e+00, 0.00e+00]    [2.03e-06, 1.58e-05, 3.99e-06, 0.00e+00, 0.00e+00, 0.00e+00]    []  \n",
            "58000     [1.93e-06, 1.52e-05, 3.67e-06, 0.00e+00, 0.00e+00, 0.00e+00]    [1.93e-06, 1.52e-05, 3.67e-06, 0.00e+00, 0.00e+00, 0.00e+00]    []  \n",
            "59000     [1.87e-06, 1.48e-05, 3.47e-06, 0.00e+00, 0.00e+00, 0.00e+00]    [1.87e-06, 1.48e-05, 3.47e-06, 0.00e+00, 0.00e+00, 0.00e+00]    []  \n",
            "60000     [1.80e-06, 1.42e-05, 3.22e-06, 0.00e+00, 0.00e+00, 0.00e+00]    [1.80e-06, 1.42e-05, 3.22e-06, 0.00e+00, 0.00e+00, 0.00e+00]    []  \n",
            "61000     [1.75e-06, 1.38e-05, 3.04e-06, 0.00e+00, 0.00e+00, 0.00e+00]    [1.75e-06, 1.38e-05, 3.04e-06, 0.00e+00, 0.00e+00, 0.00e+00]    []  \n",
            "62000     [1.70e-06, 1.33e-05, 2.83e-06, 0.00e+00, 0.00e+00, 0.00e+00]    [1.70e-06, 1.33e-05, 2.83e-06, 0.00e+00, 0.00e+00, 0.00e+00]    []  \n",
            "63000     [1.67e-06, 1.30e-05, 2.70e-06, 0.00e+00, 0.00e+00, 0.00e+00]    [1.67e-06, 1.30e-05, 2.70e-06, 0.00e+00, 0.00e+00, 0.00e+00]    []  \n",
            "64000     [2.11e-06, 3.92e-05, 4.59e-05, 0.00e+00, 0.00e+00, 0.00e+00]    [2.11e-06, 3.92e-05, 4.59e-05, 0.00e+00, 0.00e+00, 0.00e+00]    []  \n",
            "65000     [1.62e-06, 1.23e-05, 2.42e-06, 0.00e+00, 0.00e+00, 0.00e+00]    [1.62e-06, 1.23e-05, 2.42e-06, 0.00e+00, 0.00e+00, 0.00e+00]    []  \n",
            "66000     [1.60e-06, 1.20e-05, 2.29e-06, 0.00e+00, 0.00e+00, 0.00e+00]    [1.60e-06, 1.20e-05, 2.29e-06, 0.00e+00, 0.00e+00, 0.00e+00]    []  \n",
            "67000     [1.58e-06, 1.17e-05, 2.20e-06, 0.00e+00, 0.00e+00, 0.00e+00]    [1.58e-06, 1.17e-05, 2.20e-06, 0.00e+00, 0.00e+00, 0.00e+00]    []  \n",
            "68000     [1.57e-06, 1.14e-05, 2.10e-06, 0.00e+00, 0.00e+00, 0.00e+00]    [1.57e-06, 1.14e-05, 2.10e-06, 0.00e+00, 0.00e+00, 0.00e+00]    []  \n",
            "69000     [1.56e-06, 1.11e-05, 2.01e-06, 0.00e+00, 0.00e+00, 0.00e+00]    [1.56e-06, 1.11e-05, 2.01e-06, 0.00e+00, 0.00e+00, 0.00e+00]    []  \n",
            "70000     [1.56e-06, 1.07e-05, 1.91e-06, 0.00e+00, 0.00e+00, 0.00e+00]    [1.56e-06, 1.07e-05, 1.91e-06, 0.00e+00, 0.00e+00, 0.00e+00]    []  \n",
            "71000     [1.56e-06, 1.05e-05, 1.85e-06, 0.00e+00, 0.00e+00, 0.00e+00]    [1.56e-06, 1.05e-05, 1.85e-06, 0.00e+00, 0.00e+00, 0.00e+00]    []  \n",
            "72000     [1.55e-06, 1.03e-05, 1.78e-06, 0.00e+00, 0.00e+00, 0.00e+00]    [1.55e-06, 1.03e-05, 1.78e-06, 0.00e+00, 0.00e+00, 0.00e+00]    []  \n",
            "73000     [1.56e-06, 1.01e-05, 1.72e-06, 0.00e+00, 0.00e+00, 0.00e+00]    [1.56e-06, 1.01e-05, 1.72e-06, 0.00e+00, 0.00e+00, 0.00e+00]    []  \n",
            "74000     [1.56e-06, 9.82e-06, 1.66e-06, 0.00e+00, 0.00e+00, 0.00e+00]    [1.56e-06, 9.82e-06, 1.66e-06, 0.00e+00, 0.00e+00, 0.00e+00]    []  \n",
            "75000     [1.56e-06, 9.64e-06, 1.62e-06, 0.00e+00, 0.00e+00, 0.00e+00]    [1.56e-06, 9.64e-06, 1.62e-06, 0.00e+00, 0.00e+00, 0.00e+00]    []  \n",
            "76000     [1.56e-06, 9.44e-06, 1.57e-06, 0.00e+00, 0.00e+00, 0.00e+00]    [1.56e-06, 9.44e-06, 1.57e-06, 0.00e+00, 0.00e+00, 0.00e+00]    []  \n",
            "77000     [1.57e-06, 9.22e-06, 1.53e-06, 0.00e+00, 0.00e+00, 0.00e+00]    [1.57e-06, 9.22e-06, 1.53e-06, 0.00e+00, 0.00e+00, 0.00e+00]    []  \n",
            "78000     [1.57e-06, 9.06e-06, 1.49e-06, 0.00e+00, 0.00e+00, 0.00e+00]    [1.57e-06, 9.06e-06, 1.49e-06, 0.00e+00, 0.00e+00, 0.00e+00]    []  \n",
            "79000     [1.58e-06, 8.84e-06, 1.44e-06, 0.00e+00, 0.00e+00, 0.00e+00]    [1.58e-06, 8.84e-06, 1.44e-06, 0.00e+00, 0.00e+00, 0.00e+00]    []  \n",
            "80000     [1.58e-06, 8.72e-06, 1.42e-06, 0.00e+00, 0.00e+00, 0.00e+00]    [1.58e-06, 8.72e-06, 1.42e-06, 0.00e+00, 0.00e+00, 0.00e+00]    []  \n",
            "81000     [1.58e-06, 8.53e-06, 1.38e-06, 0.00e+00, 0.00e+00, 0.00e+00]    [1.58e-06, 8.53e-06, 1.38e-06, 0.00e+00, 0.00e+00, 0.00e+00]    []  \n",
            "82000     [1.59e-06, 8.37e-06, 1.35e-06, 0.00e+00, 0.00e+00, 0.00e+00]    [1.59e-06, 8.37e-06, 1.35e-06, 0.00e+00, 0.00e+00, 0.00e+00]    []  \n",
            "83000     [1.59e-06, 8.23e-06, 1.32e-06, 0.00e+00, 0.00e+00, 0.00e+00]    [1.59e-06, 8.23e-06, 1.32e-06, 0.00e+00, 0.00e+00, 0.00e+00]    []  \n",
            "84000     [1.60e-06, 8.05e-06, 1.29e-06, 0.00e+00, 0.00e+00, 0.00e+00]    [1.60e-06, 8.05e-06, 1.29e-06, 0.00e+00, 0.00e+00, 0.00e+00]    []  \n",
            "85000     [1.60e-06, 7.95e-06, 1.27e-06, 0.00e+00, 0.00e+00, 0.00e+00]    [1.60e-06, 7.95e-06, 1.27e-06, 0.00e+00, 0.00e+00, 0.00e+00]    []  \n",
            "86000     [1.60e-06, 7.80e-06, 1.24e-06, 0.00e+00, 0.00e+00, 0.00e+00]    [1.60e-06, 7.80e-06, 1.24e-06, 0.00e+00, 0.00e+00, 0.00e+00]    []  \n",
            "87000     [1.60e-06, 7.65e-06, 1.21e-06, 0.00e+00, 0.00e+00, 0.00e+00]    [1.60e-06, 7.65e-06, 1.21e-06, 0.00e+00, 0.00e+00, 0.00e+00]    []  \n",
            "88000     [1.61e-06, 7.57e-06, 1.20e-06, 0.00e+00, 0.00e+00, 0.00e+00]    [1.61e-06, 7.57e-06, 1.20e-06, 0.00e+00, 0.00e+00, 0.00e+00]    []  \n",
            "89000     [1.61e-06, 7.44e-06, 1.18e-06, 0.00e+00, 0.00e+00, 0.00e+00]    [1.61e-06, 7.44e-06, 1.18e-06, 0.00e+00, 0.00e+00, 0.00e+00]    []  \n",
            "90000     [1.62e-06, 7.30e-06, 1.16e-06, 0.00e+00, 0.00e+00, 0.00e+00]    [1.62e-06, 7.30e-06, 1.16e-06, 0.00e+00, 0.00e+00, 0.00e+00]    []  \n",
            "91000     [1.62e-06, 7.23e-06, 1.14e-06, 0.00e+00, 0.00e+00, 0.00e+00]    [1.62e-06, 7.23e-06, 1.14e-06, 0.00e+00, 0.00e+00, 0.00e+00]    []  \n",
            "92000     [1.62e-06, 7.10e-06, 1.12e-06, 0.00e+00, 0.00e+00, 0.00e+00]    [1.62e-06, 7.10e-06, 1.12e-06, 0.00e+00, 0.00e+00, 0.00e+00]    []  \n",
            "93000     [1.62e-06, 6.97e-06, 1.10e-06, 0.00e+00, 0.00e+00, 0.00e+00]    [1.62e-06, 6.97e-06, 1.10e-06, 0.00e+00, 0.00e+00, 0.00e+00]    []  \n",
            "94000     [1.62e-06, 6.89e-06, 1.09e-06, 0.00e+00, 0.00e+00, 0.00e+00]    [1.62e-06, 6.89e-06, 1.09e-06, 0.00e+00, 0.00e+00, 0.00e+00]    []  \n",
            "95000     [1.62e-06, 6.75e-06, 1.07e-06, 0.00e+00, 0.00e+00, 0.00e+00]    [1.62e-06, 6.75e-06, 1.07e-06, 0.00e+00, 0.00e+00, 0.00e+00]    []  \n",
            "96000     [1.62e-06, 6.65e-06, 1.05e-06, 0.00e+00, 0.00e+00, 0.00e+00]    [1.62e-06, 6.65e-06, 1.05e-06, 0.00e+00, 0.00e+00, 0.00e+00]    []  \n",
            "97000     [1.62e-06, 6.58e-06, 1.04e-06, 0.00e+00, 0.00e+00, 0.00e+00]    [1.62e-06, 6.58e-06, 1.04e-06, 0.00e+00, 0.00e+00, 0.00e+00]    []  \n",
            "98000     [1.62e-06, 6.45e-06, 1.03e-06, 0.00e+00, 0.00e+00, 0.00e+00]    [1.62e-06, 6.45e-06, 1.03e-06, 0.00e+00, 0.00e+00, 0.00e+00]    []  \n",
            "99000     [1.62e-06, 6.37e-06, 1.01e-06, 0.00e+00, 0.00e+00, 0.00e+00]    [1.62e-06, 6.37e-06, 1.01e-06, 0.00e+00, 0.00e+00, 0.00e+00]    []  \n",
            "100000    [1.62e-06, 6.30e-06, 1.00e-06, 0.00e+00, 0.00e+00, 0.00e+00]    [1.62e-06, 6.30e-06, 1.00e-06, 0.00e+00, 0.00e+00, 0.00e+00]    []  \n",
            "101000    [1.62e-06, 6.17e-06, 9.84e-07, 0.00e+00, 0.00e+00, 0.00e+00]    [1.62e-06, 6.17e-06, 9.84e-07, 0.00e+00, 0.00e+00, 0.00e+00]    []  \n",
            "102000    [1.62e-06, 6.12e-06, 9.75e-07, 0.00e+00, 0.00e+00, 0.00e+00]    [1.62e-06, 6.12e-06, 9.75e-07, 0.00e+00, 0.00e+00, 0.00e+00]    []  \n",
            "103000    [1.61e-06, 6.03e-06, 9.64e-07, 0.00e+00, 0.00e+00, 0.00e+00]    [1.61e-06, 6.03e-06, 9.64e-07, 0.00e+00, 0.00e+00, 0.00e+00]    []  \n",
            "104000    [1.61e-06, 5.92e-06, 9.47e-07, 0.00e+00, 0.00e+00, 0.00e+00]    [1.61e-06, 5.92e-06, 9.47e-07, 0.00e+00, 0.00e+00, 0.00e+00]    []  \n",
            "105000    [1.61e-06, 5.88e-06, 9.40e-07, 0.00e+00, 0.00e+00, 0.00e+00]    [1.61e-06, 5.88e-06, 9.40e-07, 0.00e+00, 0.00e+00, 0.00e+00]    []  \n",
            "106000    [1.61e-06, 5.80e-06, 9.30e-07, 0.00e+00, 0.00e+00, 0.00e+00]    [1.61e-06, 5.80e-06, 9.30e-07, 0.00e+00, 0.00e+00, 0.00e+00]    []  \n",
            "107000    [1.61e-06, 5.70e-06, 9.16e-07, 0.00e+00, 0.00e+00, 0.00e+00]    [1.61e-06, 5.70e-06, 9.16e-07, 0.00e+00, 0.00e+00, 0.00e+00]    []  \n",
            "108000    [1.60e-06, 5.65e-06, 9.11e-07, 0.00e+00, 0.00e+00, 0.00e+00]    [1.60e-06, 5.65e-06, 9.11e-07, 0.00e+00, 0.00e+00, 0.00e+00]    []  \n",
            "109000    [1.60e-06, 5.58e-06, 9.01e-07, 0.00e+00, 0.00e+00, 0.00e+00]    [1.60e-06, 5.58e-06, 9.01e-07, 0.00e+00, 0.00e+00, 0.00e+00]    []  \n",
            "110000    [1.59e-06, 5.49e-06, 8.88e-07, 0.00e+00, 0.00e+00, 0.00e+00]    [1.59e-06, 5.49e-06, 8.88e-07, 0.00e+00, 0.00e+00, 0.00e+00]    []  \n",
            "111000    [1.59e-06, 5.44e-06, 8.82e-07, 0.00e+00, 0.00e+00, 0.00e+00]    [1.59e-06, 5.44e-06, 8.82e-07, 0.00e+00, 0.00e+00, 0.00e+00]    []  \n",
            "112000    [1.58e-06, 5.36e-06, 8.72e-07, 0.00e+00, 0.00e+00, 0.00e+00]    [1.58e-06, 5.36e-06, 8.72e-07, 0.00e+00, 0.00e+00, 0.00e+00]    []  \n",
            "113000    [1.58e-06, 5.29e-06, 8.62e-07, 0.00e+00, 0.00e+00, 0.00e+00]    [1.58e-06, 5.29e-06, 8.62e-07, 0.00e+00, 0.00e+00, 0.00e+00]    []  \n",
            "114000    [1.58e-06, 5.24e-06, 8.55e-07, 0.00e+00, 0.00e+00, 0.00e+00]    [1.58e-06, 5.24e-06, 8.55e-07, 0.00e+00, 0.00e+00, 0.00e+00]    []  \n",
            "115000    [1.57e-06, 5.16e-06, 8.44e-07, 0.00e+00, 0.00e+00, 0.00e+00]    [1.57e-06, 5.16e-06, 8.44e-07, 0.00e+00, 0.00e+00, 0.00e+00]    []  \n",
            "116000    [1.57e-06, 5.10e-06, 8.36e-07, 0.00e+00, 0.00e+00, 0.00e+00]    [1.57e-06, 5.10e-06, 8.36e-07, 0.00e+00, 0.00e+00, 0.00e+00]    []  \n",
            "117000    [1.56e-06, 5.02e-06, 8.25e-07, 0.00e+00, 0.00e+00, 0.00e+00]    [1.56e-06, 5.02e-06, 8.25e-07, 0.00e+00, 0.00e+00, 0.00e+00]    []  \n",
            "118000    [1.55e-06, 4.97e-06, 8.19e-07, 0.00e+00, 0.00e+00, 0.00e+00]    [1.55e-06, 4.97e-06, 8.19e-07, 0.00e+00, 0.00e+00, 0.00e+00]    []  \n",
            "119000    [1.55e-06, 4.92e-06, 8.13e-07, 0.00e+00, 0.00e+00, 0.00e+00]    [1.55e-06, 4.92e-06, 8.14e-07, 0.00e+00, 0.00e+00, 0.00e+00]    []  \n",
            "120000    [1.54e-06, 4.86e-06, 8.05e-07, 0.00e+00, 0.00e+00, 0.00e+00]    [1.54e-06, 4.86e-06, 8.05e-07, 0.00e+00, 0.00e+00, 0.00e+00]    []  \n",
            "121000    [1.53e-06, 4.80e-06, 7.97e-07, 0.00e+00, 0.00e+00, 0.00e+00]    [1.53e-06, 4.80e-06, 7.97e-07, 0.00e+00, 0.00e+00, 0.00e+00]    []  \n",
            "122000    [1.53e-06, 4.76e-06, 7.92e-07, 0.00e+00, 0.00e+00, 0.00e+00]    [1.53e-06, 4.76e-06, 7.92e-07, 0.00e+00, 0.00e+00, 0.00e+00]    []  \n",
            "123000    [1.52e-06, 4.70e-06, 7.84e-07, 0.00e+00, 0.00e+00, 0.00e+00]    [1.52e-06, 4.70e-06, 7.84e-07, 0.00e+00, 0.00e+00, 0.00e+00]    []  \n",
            "124000    [1.51e-06, 4.64e-06, 7.77e-07, 0.00e+00, 0.00e+00, 0.00e+00]    [1.51e-06, 4.64e-06, 7.77e-07, 0.00e+00, 0.00e+00, 0.00e+00]    []  \n",
            "125000    [1.51e-06, 4.61e-06, 7.72e-07, 0.00e+00, 0.00e+00, 0.00e+00]    [1.51e-06, 4.61e-06, 7.72e-07, 0.00e+00, 0.00e+00, 0.00e+00]    []  \n",
            "126000    [1.50e-06, 4.55e-06, 7.64e-07, 0.00e+00, 0.00e+00, 0.00e+00]    [1.50e-06, 4.55e-06, 7.64e-07, 0.00e+00, 0.00e+00, 0.00e+00]    []  \n",
            "127000    [1.49e-06, 4.51e-06, 7.57e-07, 0.00e+00, 0.00e+00, 0.00e+00]    [1.49e-06, 4.51e-06, 7.57e-07, 0.00e+00, 0.00e+00, 0.00e+00]    []  \n",
            "128000    [1.49e-06, 4.47e-06, 7.54e-07, 0.00e+00, 0.00e+00, 0.00e+00]    [1.49e-06, 4.47e-06, 7.54e-07, 0.00e+00, 0.00e+00, 0.00e+00]    []  \n",
            "129000    [1.48e-06, 4.42e-06, 7.47e-07, 0.00e+00, 0.00e+00, 0.00e+00]    [1.48e-06, 4.42e-06, 7.47e-07, 0.00e+00, 0.00e+00, 0.00e+00]    []  \n",
            "130000    [1.48e-06, 4.36e-06, 7.39e-07, 0.00e+00, 0.00e+00, 0.00e+00]    [1.48e-06, 4.36e-06, 7.39e-07, 0.00e+00, 0.00e+00, 0.00e+00]    []  \n",
            "131000    [1.47e-06, 4.33e-06, 7.37e-07, 0.00e+00, 0.00e+00, 0.00e+00]    [1.47e-06, 4.33e-06, 7.37e-07, 0.00e+00, 0.00e+00, 0.00e+00]    []  \n",
            "132000    [1.47e-06, 4.30e-06, 7.33e-07, 0.00e+00, 0.00e+00, 0.00e+00]    [1.47e-06, 4.30e-06, 7.33e-07, 0.00e+00, 0.00e+00, 0.00e+00]    []  \n",
            "133000    [1.87e-06, 4.41e-06, 1.46e-06, 0.00e+00, 0.00e+00, 0.00e+00]    [1.87e-06, 4.41e-06, 1.46e-06, 0.00e+00, 0.00e+00, 0.00e+00]    []  \n",
            "134000    [1.45e-06, 4.21e-06, 7.22e-07, 0.00e+00, 0.00e+00, 0.00e+00]    [1.45e-06, 4.21e-06, 7.22e-07, 0.00e+00, 0.00e+00, 0.00e+00]    []  \n",
            "135000    [1.44e-06, 4.17e-06, 7.16e-07, 0.00e+00, 0.00e+00, 0.00e+00]    [1.44e-06, 4.17e-06, 7.16e-07, 0.00e+00, 0.00e+00, 0.00e+00]    []  \n",
            "136000    [1.44e-06, 4.12e-06, 7.10e-07, 0.00e+00, 0.00e+00, 0.00e+00]    [1.44e-06, 4.12e-06, 7.10e-07, 0.00e+00, 0.00e+00, 0.00e+00]    []  \n",
            "137000    [1.43e-06, 4.10e-06, 7.08e-07, 0.00e+00, 0.00e+00, 0.00e+00]    [1.43e-06, 4.10e-06, 7.08e-07, 0.00e+00, 0.00e+00, 0.00e+00]    []  \n",
            "138000    [1.42e-06, 4.07e-06, 7.04e-07, 0.00e+00, 0.00e+00, 0.00e+00]    [1.42e-06, 4.07e-06, 7.04e-07, 0.00e+00, 0.00e+00, 0.00e+00]    []  \n",
            "139000    [1.53e-06, 4.04e-06, 8.42e-07, 0.00e+00, 0.00e+00, 0.00e+00]    [1.53e-06, 4.04e-06, 8.42e-07, 0.00e+00, 0.00e+00, 0.00e+00]    []  \n",
            "140000    [1.41e-06, 4.00e-06, 6.95e-07, 0.00e+00, 0.00e+00, 0.00e+00]    [1.41e-06, 4.00e-06, 6.95e-07, 0.00e+00, 0.00e+00, 0.00e+00]    []  \n",
            "141000    [1.40e-06, 3.97e-06, 6.91e-07, 0.00e+00, 0.00e+00, 0.00e+00]    [1.40e-06, 3.97e-06, 6.91e-07, 0.00e+00, 0.00e+00, 0.00e+00]    []  \n",
            "142000    [1.40e-06, 3.92e-06, 6.85e-07, 0.00e+00, 0.00e+00, 0.00e+00]    [1.40e-06, 3.92e-06, 6.85e-07, 0.00e+00, 0.00e+00, 0.00e+00]    []  \n",
            "143000    [1.39e-06, 3.90e-06, 6.83e-07, 0.00e+00, 0.00e+00, 0.00e+00]    [1.39e-06, 3.90e-06, 6.83e-07, 0.00e+00, 0.00e+00, 0.00e+00]    []  \n",
            "144000    [1.39e-06, 3.87e-06, 6.80e-07, 0.00e+00, 0.00e+00, 0.00e+00]    [1.39e-06, 3.87e-06, 6.80e-07, 0.00e+00, 0.00e+00, 0.00e+00]    []  \n",
            "145000    [1.38e-06, 3.83e-06, 6.75e-07, 0.00e+00, 0.00e+00, 0.00e+00]    [1.38e-06, 3.83e-06, 6.75e-07, 0.00e+00, 0.00e+00, 0.00e+00]    []  \n",
            "146000    [1.37e-06, 3.81e-06, 6.72e-07, 0.00e+00, 0.00e+00, 0.00e+00]    [1.37e-06, 3.81e-06, 6.72e-07, 0.00e+00, 0.00e+00, 0.00e+00]    []  \n",
            "147000    [1.36e-06, 3.78e-06, 6.69e-07, 0.00e+00, 0.00e+00, 0.00e+00]    [1.36e-06, 3.78e-06, 6.69e-07, 0.00e+00, 0.00e+00, 0.00e+00]    []  \n",
            "148000    [1.35e-06, 3.73e-06, 6.64e-07, 0.00e+00, 0.00e+00, 0.00e+00]    [1.35e-06, 3.73e-06, 6.64e-07, 0.00e+00, 0.00e+00, 0.00e+00]    []  \n",
            "149000    [1.35e-06, 3.71e-06, 6.60e-07, 0.00e+00, 0.00e+00, 0.00e+00]    [1.35e-06, 3.71e-06, 6.60e-07, 0.00e+00, 0.00e+00, 0.00e+00]    []  \n",
            "150000    [1.34e-06, 3.69e-06, 6.58e-07, 0.00e+00, 0.00e+00, 0.00e+00]    [1.34e-06, 3.69e-06, 6.58e-07, 0.00e+00, 0.00e+00, 0.00e+00]    []  \n",
            "151000    [1.33e-06, 3.65e-06, 6.54e-07, 0.00e+00, 0.00e+00, 0.00e+00]    [1.33e-06, 3.65e-06, 6.54e-07, 0.00e+00, 0.00e+00, 0.00e+00]    []  \n",
            "152000    [1.32e-06, 3.62e-06, 6.51e-07, 0.00e+00, 0.00e+00, 0.00e+00]    [1.32e-06, 3.62e-06, 6.50e-07, 0.00e+00, 0.00e+00, 0.00e+00]    []  \n",
            "153000    [1.32e-06, 3.60e-06, 6.49e-07, 0.00e+00, 0.00e+00, 0.00e+00]    [1.32e-06, 3.60e-06, 6.49e-07, 0.00e+00, 0.00e+00, 0.00e+00]    []  \n",
            "154000    [1.31e-06, 3.57e-06, 6.45e-07, 0.00e+00, 0.00e+00, 0.00e+00]    [1.31e-06, 3.57e-06, 6.45e-07, 0.00e+00, 0.00e+00, 0.00e+00]    []  \n",
            "155000    [1.30e-06, 3.54e-06, 6.41e-07, 0.00e+00, 0.00e+00, 0.00e+00]    [1.30e-06, 3.54e-06, 6.41e-07, 0.00e+00, 0.00e+00, 0.00e+00]    []  \n",
            "156000    [1.30e-06, 3.53e-06, 6.40e-07, 0.00e+00, 0.00e+00, 0.00e+00]    [1.30e-06, 3.53e-06, 6.40e-07, 0.00e+00, 0.00e+00, 0.00e+00]    []  \n",
            "157000    [1.29e-06, 3.50e-06, 6.37e-07, 0.00e+00, 0.00e+00, 0.00e+00]    [1.29e-06, 3.50e-06, 6.37e-07, 0.00e+00, 0.00e+00, 0.00e+00]    []  \n",
            "158000    [1.72e-04, 1.07e-05, 5.88e-05, 0.00e+00, 0.00e+00, 0.00e+00]    [1.72e-04, 1.07e-05, 5.88e-05, 0.00e+00, 0.00e+00, 0.00e+00]    []  \n",
            "159000    [1.27e-06, 3.45e-06, 6.31e-07, 0.00e+00, 0.00e+00, 0.00e+00]    [1.27e-06, 3.45e-06, 6.31e-07, 0.00e+00, 0.00e+00, 0.00e+00]    []  \n",
            "160000    [1.27e-06, 3.43e-06, 6.29e-07, 0.00e+00, 0.00e+00, 0.00e+00]    [1.27e-06, 3.43e-06, 6.29e-07, 0.00e+00, 0.00e+00, 0.00e+00]    []  \n",
            "161000    [1.26e-06, 3.40e-06, 6.25e-07, 0.00e+00, 0.00e+00, 0.00e+00]    [1.26e-06, 3.40e-06, 6.25e-07, 0.00e+00, 0.00e+00, 0.00e+00]    []  \n",
            "162000    [1.26e-06, 3.38e-06, 6.23e-07, 0.00e+00, 0.00e+00, 0.00e+00]    [1.26e-06, 3.38e-06, 6.23e-07, 0.00e+00, 0.00e+00, 0.00e+00]    []  \n",
            "163000    [1.25e-06, 3.37e-06, 6.22e-07, 0.00e+00, 0.00e+00, 0.00e+00]    [1.25e-06, 3.37e-06, 6.22e-07, 0.00e+00, 0.00e+00, 0.00e+00]    []  \n",
            "164000    [1.24e-06, 3.34e-06, 6.18e-07, 0.00e+00, 0.00e+00, 0.00e+00]    [1.24e-06, 3.34e-06, 6.18e-07, 0.00e+00, 0.00e+00, 0.00e+00]    []  \n",
            "165000    [1.23e-06, 3.32e-06, 6.15e-07, 0.00e+00, 0.00e+00, 0.00e+00]    [1.23e-06, 3.32e-06, 6.15e-07, 0.00e+00, 0.00e+00, 0.00e+00]    []  \n",
            "166000    [1.22e-06, 3.30e-06, 6.14e-07, 0.00e+00, 0.00e+00, 0.00e+00]    [1.22e-06, 3.30e-06, 6.14e-07, 0.00e+00, 0.00e+00, 0.00e+00]    []  \n",
            "167000    [1.21e-06, 3.28e-06, 6.11e-07, 0.00e+00, 0.00e+00, 0.00e+00]    [1.21e-06, 3.28e-06, 6.11e-07, 0.00e+00, 0.00e+00, 0.00e+00]    []  \n",
            "168000    [3.14e-06, 7.52e-06, 1.14e-05, 0.00e+00, 0.00e+00, 0.00e+00]    [3.14e-06, 7.52e-06, 1.14e-05, 0.00e+00, 0.00e+00, 0.00e+00]    []  \n",
            "169000    [1.20e-06, 3.23e-06, 6.06e-07, 0.00e+00, 0.00e+00, 0.00e+00]    [1.20e-06, 3.23e-06, 6.06e-07, 0.00e+00, 0.00e+00, 0.00e+00]    []  \n",
            "170000    [1.19e-06, 3.22e-06, 6.04e-07, 0.00e+00, 0.00e+00, 0.00e+00]    [1.19e-06, 3.22e-06, 6.04e-07, 0.00e+00, 0.00e+00, 0.00e+00]    []  \n",
            "171000    [1.18e-06, 3.19e-06, 6.01e-07, 0.00e+00, 0.00e+00, 0.00e+00]    [1.18e-06, 3.19e-06, 6.01e-07, 0.00e+00, 0.00e+00, 0.00e+00]    []  \n",
            "172000    [1.17e-06, 3.18e-06, 5.98e-07, 0.00e+00, 0.00e+00, 0.00e+00]    [1.17e-06, 3.18e-06, 5.98e-07, 0.00e+00, 0.00e+00, 0.00e+00]    []  \n",
            "173000    [1.17e-06, 3.16e-06, 5.97e-07, 0.00e+00, 0.00e+00, 0.00e+00]    [1.17e-06, 3.16e-06, 5.97e-07, 0.00e+00, 0.00e+00, 0.00e+00]    []  \n",
            "174000    [1.16e-06, 3.14e-06, 5.95e-07, 0.00e+00, 0.00e+00, 0.00e+00]    [1.16e-06, 3.14e-06, 5.95e-07, 0.00e+00, 0.00e+00, 0.00e+00]    []  \n",
            "175000    [1.15e-06, 3.12e-06, 5.91e-07, 0.00e+00, 0.00e+00, 0.00e+00]    [1.15e-06, 3.12e-06, 5.91e-07, 0.00e+00, 0.00e+00, 0.00e+00]    []  \n",
            "176000    [1.14e-06, 3.11e-06, 5.90e-07, 0.00e+00, 0.00e+00, 0.00e+00]    [1.14e-06, 3.11e-06, 5.90e-07, 0.00e+00, 0.00e+00, 0.00e+00]    []  \n",
            "177000    [1.13e-06, 3.09e-06, 5.88e-07, 0.00e+00, 0.00e+00, 0.00e+00]    [1.13e-06, 3.09e-06, 5.88e-07, 0.00e+00, 0.00e+00, 0.00e+00]    []  \n",
            "178000    [1.62e-06, 3.15e-06, 5.90e-07, 0.00e+00, 0.00e+00, 0.00e+00]    [1.62e-06, 3.15e-06, 5.90e-07, 0.00e+00, 0.00e+00, 0.00e+00]    []  \n",
            "179000    [1.12e-06, 3.05e-06, 5.84e-07, 0.00e+00, 0.00e+00, 0.00e+00]    [1.12e-06, 3.05e-06, 5.84e-07, 0.00e+00, 0.00e+00, 0.00e+00]    []  \n",
            "180000    [1.11e-06, 3.04e-06, 5.82e-07, 0.00e+00, 0.00e+00, 0.00e+00]    [1.11e-06, 3.04e-06, 5.82e-07, 0.00e+00, 0.00e+00, 0.00e+00]    []  \n",
            "181000    [1.10e-06, 3.02e-06, 5.80e-07, 0.00e+00, 0.00e+00, 0.00e+00]    [1.10e-06, 3.02e-06, 5.80e-07, 0.00e+00, 0.00e+00, 0.00e+00]    []  \n",
            "182000    [1.10e-06, 3.00e-06, 5.77e-07, 0.00e+00, 0.00e+00, 0.00e+00]    [1.10e-06, 3.00e-06, 5.77e-07, 0.00e+00, 0.00e+00, 0.00e+00]    []  \n",
            "183000    [1.09e-06, 2.99e-06, 5.76e-07, 0.00e+00, 0.00e+00, 0.00e+00]    [1.09e-06, 2.99e-06, 5.76e-07, 0.00e+00, 0.00e+00, 0.00e+00]    []  \n",
            "184000    [1.08e-06, 2.97e-06, 5.74e-07, 0.00e+00, 0.00e+00, 0.00e+00]    [1.08e-06, 2.97e-06, 5.74e-07, 0.00e+00, 0.00e+00, 0.00e+00]    []  \n",
            "185000    [1.07e-06, 2.96e-06, 5.71e-07, 0.00e+00, 0.00e+00, 0.00e+00]    [1.07e-06, 2.96e-06, 5.71e-07, 0.00e+00, 0.00e+00, 0.00e+00]    []  \n",
            "186000    [1.07e-06, 2.95e-06, 5.71e-07, 0.00e+00, 0.00e+00, 0.00e+00]    [1.07e-06, 2.95e-06, 5.71e-07, 0.00e+00, 0.00e+00, 0.00e+00]    []  \n",
            "187000    [1.07e-06, 2.93e-06, 5.69e-07, 0.00e+00, 0.00e+00, 0.00e+00]    [1.07e-06, 2.93e-06, 5.69e-07, 0.00e+00, 0.00e+00, 0.00e+00]    []  \n",
            "188000    [1.06e-06, 2.91e-06, 5.66e-07, 0.00e+00, 0.00e+00, 0.00e+00]    [1.06e-06, 2.91e-06, 5.66e-07, 0.00e+00, 0.00e+00, 0.00e+00]    []  \n",
            "189000    [1.06e-06, 2.90e-06, 5.65e-07, 0.00e+00, 0.00e+00, 0.00e+00]    [1.06e-06, 2.90e-06, 5.65e-07, 0.00e+00, 0.00e+00, 0.00e+00]    []  \n",
            "190000    [1.05e-06, 2.89e-06, 5.64e-07, 0.00e+00, 0.00e+00, 0.00e+00]    [1.05e-06, 2.89e-06, 5.64e-07, 0.00e+00, 0.00e+00, 0.00e+00]    []  \n",
            "191000    [1.04e-06, 2.87e-06, 5.62e-07, 0.00e+00, 0.00e+00, 0.00e+00]    [1.04e-06, 2.87e-06, 5.62e-07, 0.00e+00, 0.00e+00, 0.00e+00]    []  \n",
            "192000    [1.03e-06, 2.85e-06, 5.59e-07, 0.00e+00, 0.00e+00, 0.00e+00]    [1.03e-06, 2.85e-06, 5.59e-07, 0.00e+00, 0.00e+00, 0.00e+00]    []  \n",
            "193000    [1.03e-06, 2.85e-06, 5.59e-07, 0.00e+00, 0.00e+00, 0.00e+00]    [1.03e-06, 2.85e-06, 5.59e-07, 0.00e+00, 0.00e+00, 0.00e+00]    []  \n",
            "194000    [1.02e-06, 2.83e-06, 5.58e-07, 0.00e+00, 0.00e+00, 0.00e+00]    [1.02e-06, 2.83e-06, 5.58e-07, 0.00e+00, 0.00e+00, 0.00e+00]    []  \n",
            "195000    [1.01e-06, 2.81e-06, 5.55e-07, 0.00e+00, 0.00e+00, 0.00e+00]    [1.01e-06, 2.81e-06, 5.55e-07, 0.00e+00, 0.00e+00, 0.00e+00]    []  \n",
            "196000    [1.01e-06, 2.80e-06, 5.53e-07, 0.00e+00, 0.00e+00, 0.00e+00]    [1.01e-06, 2.80e-06, 5.53e-07, 0.00e+00, 0.00e+00, 0.00e+00]    []  \n",
            "197000    [1.01e-06, 2.80e-06, 5.53e-07, 0.00e+00, 0.00e+00, 0.00e+00]    [1.01e-06, 2.80e-06, 5.53e-07, 0.00e+00, 0.00e+00, 0.00e+00]    []  \n",
            "198000    [1.00e-06, 2.78e-06, 5.51e-07, 0.00e+00, 0.00e+00, 0.00e+00]    [1.00e-06, 2.78e-06, 5.51e-07, 0.00e+00, 0.00e+00, 0.00e+00]    []  \n",
            "199000    [1.01e-06, 2.76e-06, 5.71e-07, 0.00e+00, 0.00e+00, 0.00e+00]    [1.01e-06, 2.76e-06, 5.71e-07, 0.00e+00, 0.00e+00, 0.00e+00]    []  \n",
            "200000    [9.88e-07, 2.75e-06, 5.47e-07, 0.00e+00, 0.00e+00, 0.00e+00]    [9.88e-07, 2.75e-06, 5.47e-07, 0.00e+00, 0.00e+00, 0.00e+00]    []  \n",
            "\n",
            "Best model at step 200000:\n",
            "  train loss: 4.29e-06\n",
            "  test loss: 4.29e-06\n",
            "  test metric: []\n",
            "\n",
            "'train' took 1009.895357 s\n",
            "\n"
          ]
        },
        {
          "output_type": "display_data",
          "data": {
            "text/plain": [
              "<Figure size 432x288 with 1 Axes>"
            ],
            "image/png": "[encoded data removed]"
          },
          "metadata": {
            "needs_background": "light"
          }
        }
      ],
      "source": [
        "\"\"\"Backend supported: tensorflow.compat.v1, tensorflow, pytorch, paddle\"\"\"\n",
        "import deepxde as dde\n",
        "import matplotlib.pyplot as plt\n",
        "import numpy as np\n",
        "from scipy import integrate\n",
        "# Import tf if using backend tensorflow.compat.v1 or tensorflow\n",
        "from deepxde.backend import tf\n",
        "# Import torch if using backend pytorch\n",
        "# import torch\n",
        "# Import paddle if using backend paddle\n",
        "# import paddle\n",
        "\n",
        "from scipy.special import gamma\n",
        "\n",
        "# constants\n",
        "Nb = 1\n",
        "beta = 1  # infected person infects 1 other person per day 0.8\n",
        "D = 4.0 # infections lasts four days\n",
        "gamm = 0.25 # 0.05\n",
        "\n",
        "S0, I0, R0 =  0.999, 0.001, 0  # initial conditions: one infected, rest susceptible\n",
        "# right hand side functions\n",
        "G1 = lambda S,I,R: - beta * S * I/Nb\n",
        "G2 = lambda S,I,R: beta * S * I/Nb - gamm * I \n",
        "G3 = lambda S,I,R: gamm * I\n",
        "# definitions of parameters interval [0,T]\n",
        "T=50\n",
        "N=1000\n",
        "h=T/N\n",
        "pp=1;qq=0.8\n",
        "X = np.arange(0, T, h).reshape(N,1)\n",
        "c = pp/gamma(qq) \n",
        "def ide(x, y, int_mat):\n",
        "    y1=y[:,0:1]\n",
        "    y2=y[:,1:2]\n",
        "    y3=y[:,2:3]\n",
        "    rhs1 = tf.matmul(int_mat, G1(y1,y2,y3))\n",
        "    rhs2 = tf.matmul(int_mat, G2(y1,y2,y3))\n",
        "    rhs3 = tf.matmul(int_mat, G3(y1,y2,y3))\n",
        "    eq1 = y1[: tf.size(rhs1)] - S0 - c*rhs1\n",
        "    eq2 = y2[: tf.size(rhs2)] - I0 - c*rhs2 \n",
        "    eq3 = y3[: tf.size(rhs3)] - R0 - c*rhs3\n",
        "    \n",
        "    #return [eq1,eq2,eq3]\n",
        "    return [eq1,eq2,eq3]\n",
        "\n",
        "def kernel(x, s):\n",
        "    return 1\n",
        "#def boundary(_, on_initial):\n",
        "#    return on_initial\n",
        "def boundary(x, on_initial):\n",
        "    return on_initial and np.isclose(x[0], 0)\n",
        "def func(x):\n",
        "    return np.exp(-x) * np.cosh(x)\n",
        "\n",
        "\n",
        "geom = dde.geometry.TimeDomain(0, 50)\n",
        "#ic = dde.icbc.IC(geom, lambda x: 1, boundary, component=0)\n",
        "\n",
        "#ic = dde.icbc.IC(geom,func, lambda _, on_initial: on_initial)\n",
        "#ic1 = dde.icbc.IC(geom, lambda x: 1000, boundary, component=0)\n",
        "#ic2 = dde.icbc.IC(geom, lambda x: 0.001, boundary, component=1)\n",
        "ic1 = dde.icbc.IC(geom, lambda x: S0, boundary, component=0)\n",
        "ic2 = dde.icbc.IC(geom, lambda x: I0, boundary, component=1)\n",
        "ic3 = dde.icbc.IC(geom, lambda x: R0, boundary, component=2)\n",
        "\n",
        "quad_deg = 20\n",
        "data = dde.data.IDE(\n",
        "    geom,\n",
        "    ide,\n",
        "    #ic,\n",
        "    [ic1,ic2,ic3],\n",
        "    #[],\n",
        "    quad_deg,\n",
        "    kernel=kernel,\n",
        "    num_domain=100,\n",
        "    num_boundary=2,\n",
        "    train_distribution=\"uniform\",\n",
        "    num_test=None\n",
        ")\n",
        "\n",
        "layer_size = [1] + [20] * 5 + [3]\n",
        "activation = \"tanh\"\n",
        "initializer = \"Glorot uniform\"\n",
        "net = dde.nn.FNN(layer_size, activation, initializer)\n",
        "\n",
        "def output_transform(x, y):\n",
        "    y1=y[:,0:1]\n",
        "    y2=y[:,1:2]\n",
        "    y3=y[:,2:3]\n",
        "    u=x*y1+0.999\n",
        "    v=x*y2+0.001\n",
        "    w=x*y3\n",
        "    #w=1000-u-v\n",
        "    return  tf.concat((u, v, w), axis=1) \n",
        "\n",
        "net.apply_output_transform(output_transform)\n",
        "\n",
        "model = dde.Model(data, net)\n",
        "\n",
        "model.compile(\"adam\", lr=0.00001,loss_weights=[0.1,0.1,0.1,0.1,1,0.1])\n",
        "#losshistory, train_state = model.train(iterations=1000)\n",
        "#model.compile(\"adam\", lr=0.001,loss_weights=[0.01,0.1,0.1])\n",
        "losshistory, train_state = model.train(iterations=200000)\n",
        "#model.compile(\"L-BFGS\",loss_weights=[0.1,0.1,0.1, 0.1,1,0.1])\n",
        "#losshistory, train_state = model.train()\n",
        "#model.compile(\"L-BFGS\")\n",
        "#losshistory, train_state = model.train()\n",
        "\n",
        "X = geom.uniform_points(1000)\n",
        "y_true = func(X)\n",
        "y_pred = model.predict(X)\n",
        "#print(\"L2 relative error:\", dde.metrics.l2_relative_error(y_true, y_pred))\n",
        "\n",
        "plt.figure()\n",
        "#plt.plot(X, y_true, \"-\")\n",
        "#plt.plot(X, y_pred, \"--\")\n",
        "plt.plot(X, y_pred[:,0],label='S(t)')\n",
        "plt.plot(X, y_pred[:,1], label='I(t)')\n",
        "plt.plot(X, y_pred[:,2], label='R(t)')\n",
        "plt.legend(loc='right')\n",
        "plt.xlabel('$t$')\n",
        "plt.title('Approximation of SIR system via Artificial Neural Networks ')\n",
        "#plt.plot(X,Y1,X,Y2)\n",
        "plt.show()\n",
        "#np.savetxt(\"test.dat\", np.hstack((X, y_true, y_pred)))"
      ]
    },
    {
      "cell_type": "code",
      "source": [
        "c\n"
      ],
      "metadata": {
        "id": "Hw5SbbK6chsg"
      },
      "execution_count": null,
      "outputs": []
    },
    {
      "cell_type": "code",
      "source": [
        "plt.figure(figsize=(10,4))\n",
        "#plt.plot(X, y_true, \"-\")\n",
        "#plt.plot(X, y_pred, \"--\")\n",
        "plt.plot(X, 1000*y_pred[:,0],label='S(t)')\n",
        "plt.plot(X, 1000*y_pred[:,1], label='I(t)')\n",
        "plt.plot(X, 1000*y_pred[:,2], label='R(t)')\n",
        "plt.legend(loc='right')\n",
        "plt.xlabel('$t$')\n",
        "plt.title('Approximation of SIR system via Artificial Neural Networks ')\n",
        "#plt.plot(X,Y1,X,Y2)\n",
        "plt.show()\n",
        "#np.savetxt(\"test.dat\", np.hstack((X, y_true, y_pred)))"
      ],
      "metadata": {
        "colab": {
          "base_uri": "https://localhost:8080/",
          "height": 297
        },
        "id": "OInhzCAEgUgU",
        "outputId": "86d004bf-2f9e-4383-9fe8-2cc4ec3fdbd8"
      },
      "execution_count": 3,
      "outputs": [
        {
          "output_type": "display_data",
          "data": {
            "text/plain": [
              "<Figure size 720x288 with 1 Axes>"
            ],
            "image/png": "[encoded data removed]"
          },
          "metadata": {
            "needs_background": "light"
          }
        }
      ]
    },
    {
      "cell_type": "code",
      "execution_count": null,
      "metadata": {
        "colab": {
          "base_uri": "https://localhost:8080/",
          "height": 855
        },
        "outputId": "d7f199e4-d0ea-4d5c-8f66-7fc485de4480",
        "id": "L09TgocTcipU"
      },
      "outputs": [
        {
          "output_type": "stream",
          "name": "stdout",
          "text": [
            "Compiling model...\n",
            "Building feed-forward neural network...\n",
            "'build' took 0.094722 s\n",
            "\n"
          ]
        },
        {
          "output_type": "stream",
          "name": "stderr",
          "text": [
            "/usr/local/lib/python3.8/dist-packages/deepxde/nn/tensorflow_compat_v1/fnn.py:103: UserWarning: `tf.layers.dense` is deprecated and will be removed in a future version. Please use `tf.keras.layers.Dense` instead.\n",
            "  return tf.layers.dense(\n"
          ]
        },
        {
          "output_type": "stream",
          "name": "stdout",
          "text": [
            "'compile' took 2.076806 s\n",
            "\n",
            "Initializing variables...\n",
            "Training model...\n",
            "\n",
            "Step      Train loss                                                      Test loss                                                       Test metric\n",
            "0         [9.87e-02, 1.06e+01, 3.43e+00, 9.98e-02, 1.00e+02, 6.40e+00]    [9.87e-02, 1.06e+01, 3.43e+00, 0.00e+00, 0.00e+00, 0.00e+00]    []  \n",
            "1000      [6.46e-06, 3.01e+00, 1.16e-01, 3.49e-06, 9.74e-06, 9.44e-04]    [6.46e-06, 3.01e+00, 1.16e-01, 0.00e+00, 0.00e+00, 0.00e+00]    []  \n",
            "2000      [1.76e-05, 1.28e-01, 1.45e-02, 6.44e-11, 4.57e-07, 1.93e-05]    [1.76e-05, 1.28e-01, 1.45e-02, 0.00e+00, 0.00e+00, 0.00e+00]    []  \n",
            "3000      [2.23e-06, 1.81e-02, 1.39e-03, 3.38e-10, 1.63e-05, 1.27e-06]    [2.23e-06, 1.81e-02, 1.39e-03, 0.00e+00, 0.00e+00, 0.00e+00]    []  \n",
            "4000      [3.51e-07, 1.16e-02, 1.39e-03, 3.26e-10, 1.73e-05, 4.83e-07]    [3.51e-07, 1.16e-02, 1.39e-03, 0.00e+00, 0.00e+00, 0.00e+00]    []  \n",
            "5000      [2.08e-07, 9.71e-03, 7.88e-03, 1.83e-09, 7.92e-05, 4.71e-05]    [2.08e-07, 9.71e-03, 7.88e-03, 0.00e+00, 0.00e+00, 0.00e+00]    []  \n",
            "6000      [1.25e-07, 5.98e-03, 1.41e-03, 7.81e-11, 1.88e-05, 7.29e-07]    [1.25e-07, 5.98e-03, 1.41e-03, 0.00e+00, 0.00e+00, 0.00e+00]    []  \n",
            "7000      [8.10e-08, 4.78e-03, 9.30e-04, 3.64e-13, 1.26e-05, 6.51e-07]    [8.10e-08, 4.78e-03, 9.30e-04, 0.00e+00, 0.00e+00, 0.00e+00]    []  \n",
            "8000      [7.98e-08, 4.83e-03, 1.09e-03, 1.48e-10, 1.14e-05, 4.06e-07]    [7.98e-08, 4.83e-03, 1.09e-03, 0.00e+00, 0.00e+00, 0.00e+00]    []  \n",
            "9000      [1.36e-07, 4.27e-03, 3.45e-03, 1.57e-09, 1.89e-05, 3.51e-06]    [1.36e-07, 4.27e-03, 3.45e-03, 0.00e+00, 0.00e+00, 0.00e+00]    []  \n",
            "10000     [1.78e-07, 4.18e-03, 8.61e-04, 3.26e-10, 6.21e-06, 4.86e-07]    [1.78e-07, 4.18e-03, 8.61e-04, 0.00e+00, 0.00e+00, 0.00e+00]    []  \n",
            "\n",
            "Best model at step 10000:\n",
            "  train loss: 5.04e-03\n",
            "  test loss: 5.04e-03\n",
            "  test metric: []\n",
            "\n",
            "'train' took 527.201414 s\n",
            "\n"
          ]
        },
        {
          "output_type": "display_data",
          "data": {
            "text/plain": [
              "<Figure size 432x288 with 1 Axes>"
            ],
            "image/png": "[encoded data removed]"
          },
          "metadata": {
            "needs_background": "light"
          }
        }
      ],
      "source": [
        "\"\"\"Backend supported: tensorflow.compat.v1, tensorflow, pytorch, paddle\"\"\"\n",
        "import deepxde as dde\n",
        "import matplotlib.pyplot as plt\n",
        "import numpy as np\n",
        "from scipy import integrate\n",
        "# Import tf if using backend tensorflow.compat.v1 or tensorflow\n",
        "from deepxde.backend import tf\n",
        "# Import torch if using backend pytorch\n",
        "# import torch\n",
        "# Import paddle if using backend paddle\n",
        "# import paddle\n",
        "\n",
        "from scipy.special import gamma\n",
        "\n",
        "# constants\n",
        "Nb = 1000\n",
        "beta = 1.0  # infected person infects 1 other person per day\n",
        "D = 4.0 # infections lasts four days\n",
        "gamm = 1.0/D\n",
        "# origine sysytem before scaling\n",
        "S_0, I_0, R_0 = 999, 1, 0  # initial conditions: one infected, rest susceptible\n",
        "# right hand side functions\n",
        "G_1 = lambda St,It,Rt: -beta * St * It/Nb\n",
        "G_2 = lambda St,It,Rt: beta * St * It/Nb - gamm * It \n",
        "G_3 = lambda St,It,Rt: gamm * It\n",
        "# scaled system\n",
        "S0, I0, R0 = 9.99, 10, 8  # initial conditions: one infected, rest susceptible\n",
        "# right hand side functions\n",
        "G1 = lambda S,I,R: -0.1*beta * S * I/Nb\n",
        "G2 = lambda S,I,R: 0.01*beta * S * I/Nb - gamm * I \n",
        "G3 = lambda S,I,R: 10*gamm * I\n",
        "# definitions of parameters interval [0,T]\n",
        "T=50\n",
        "N=1000\n",
        "h=T/N\n",
        "pp=1;qq=1\n",
        "X = np.arange(0, T, h).reshape(N,1)\n",
        "c = pp/gamma(qq) \n",
        "def ide(x, y, int_mat):\n",
        "    y1=y[:,0:1]\n",
        "    y2=y[:,1:2]\n",
        "    y3=y[:,2:3]\n",
        "    rhs1 = tf.matmul(int_mat, G1(y1,y2,y3))\n",
        "    rhs2 = tf.matmul(int_mat, G2(y1,y2,y3))\n",
        "    rhs3 = tf.matmul(int_mat, G3(y1,y2,y3))\n",
        "    eq1 = y1[: tf.size(rhs1)] - S0 - c*rhs1\n",
        "    eq2 = y2[: tf.size(rhs2)] - I0 - c*rhs2 \n",
        "    eq3 = y3[: tf.size(rhs3)] - R0 - c*rhs3\n",
        "    #eq4 = (y1[0]-1)**2\n",
        "    \n",
        "    return [eq1,eq2,eq3]\n",
        "\n",
        "def kernel(x, s):\n",
        "    return 1\n",
        "#def boundary(_, on_initial):\n",
        "#    return on_initial\n",
        "def boundary(x, on_initial):\n",
        "    return on_initial and np.isclose(x[0], 0)\n",
        "def func(x):\n",
        "    return np.exp(-x) * np.cosh(x)\n",
        "\n",
        "\n",
        "geom = dde.geometry.TimeDomain(0, 50)\n",
        "#ic = dde.icbc.IC(geom, lambda x: 1, boundary, component=0)\n",
        "\n",
        "#ic = dde.icbc.IC(geom,func, lambda _, on_initial: on_initial)\n",
        "#ic1 = dde.icbc.IC(geom, lambda x: 1000, boundary, component=0)\n",
        "#ic2 = dde.icbc.IC(geom, lambda x: 0.001, boundary, component=1)\n",
        "ic1 = dde.icbc.IC(geom, lambda x: S0, boundary, component=0)\n",
        "ic2 = dde.icbc.IC(geom, lambda x: I0, boundary, component=1)\n",
        "ic3 = dde.icbc.IC(geom, lambda x: R0, boundary, component=2)\n",
        "\n",
        "quad_deg = 20\n",
        "data = dde.data.IDE(\n",
        "    geom,\n",
        "    ide,\n",
        "    #ic,\n",
        "    [ic1,ic2,ic3],\n",
        "    #[],\n",
        "    quad_deg,\n",
        "    kernel=kernel,\n",
        "    num_domain=1000,\n",
        "    num_boundary=2,\n",
        "    train_distribution=\"uniform\",\n",
        "    num_test=None\n",
        ")\n",
        "\n",
        "layer_size = [1] + [20] * 3 + [3]\n",
        "activation = \"tanh\"\n",
        "initializer = \"Glorot uniform\"\n",
        "net = dde.nn.FNN(layer_size, activation, initializer)\n",
        "\n",
        "def output_transform(x, y):\n",
        "    y1=y[:,0:1]\n",
        "    y2=y[:,1:2]\n",
        "    y3=y[:,2:3]\n",
        "    return x *  y2 \n",
        "\n",
        "#net.apply_output_transform(output_transform)\n",
        "\n",
        "model = dde.Model(data, net)\n",
        "\n",
        "model.compile(\"adam\", lr=0.01,loss_weights=[0.001,0.1,0.1,0.001,1,0.1])\n",
        "#losshistory, train_state = model.train(iterations=1000)\n",
        "#model.compile(\"adam\", lr=0.001,loss_weights=[0.01,0.1,0.1])\n",
        "losshistory, train_state = model.train(iterations=10000)\n",
        "#model.compile(\"L-BFGS\",loss_weights=[0.01,0.1,0.1, 0.01,0.1, 0.1])\n",
        "#losshistory, train_state = model.train()\n",
        "#model.compile(\"L-BFGS\")\n",
        "#losshistory, train_state = model.train()\n",
        "\n",
        "X = geom.uniform_points(1000)\n",
        "y_true = func(X)\n",
        "y_pred = model.predict(X)\n",
        "#print(\"L2 relative error:\", dde.metrics.l2_relative_error(y_true, y_pred))\n",
        "\n",
        "plt.figure()\n",
        "#plt.plot(X, y_true, \"-\")\n",
        "#plt.plot(X, y_pred, \"--\")\n",
        "plt.plot(X, y_pred[:,0],label='S(t)')\n",
        "plt.plot(X, y_pred[:,1], label='I(t)')\n",
        "plt.plot(X, y_pred[:,2], label='R(t)')\n",
        "plt.legend(loc='right')\n",
        "plt.xlabel('$t$')\n",
        "plt.title('Approximation of SIR system via Artificial Neural Networks ')\n",
        "#plt.plot(X,Y1,X,Y2)\n",
        "plt.show()\n",
        "#np.savetxt(\"test.dat\", np.hstack((X, y_true, y_pred)))"
      ]
    },
    {
      "cell_type": "code",
      "source": [
        "\"\"\"Backend supported: tensorflow.compat.v1, tensorflow, paddle\"\"\"\n",
        "import deepxde as dde\n",
        "import numpy as np\n",
        "\n",
        "geom = dde.geometry.Interval(0, np.pi)\n",
        "\n",
        "\n",
        "# Define sine function\n",
        "if dde.backend.backend_name in [\"tensorflow.compat.v1\", \"tensorflow\"]:\n",
        "    from deepxde.backend import tf\n",
        "\n",
        "    sin = tf.sin\n",
        "elif dde.backend.backend_name == \"paddle\":\n",
        "    import paddle\n",
        "\n",
        "    sin = paddle.sin\n",
        "\n",
        "\n",
        "def pde(x, y):\n",
        "    dy_xx = dde.grad.hessian(y, x)\n",
        "    summation = sum([i * sin(i * x) for i in range(1, 5)])\n",
        "    return -dy_xx - summation - 8 * sin(8 * x)\n",
        "\n",
        "def func(x):\n",
        "    summation = sum([np.sin(i * x) / i for i in range(1, 5)])\n",
        "    return x + summation + np.sin(8 * x) / 8\n",
        "\n",
        "data = dde.data.PDE(geom, pde, [], num_domain=64, solution=func, num_test=400)\n",
        "\n",
        "layer_size = [1] + [50] * 3 + [1]\n",
        "activation = 'tanh'\n",
        "initializer = 'Glorot uniform'\n",
        "net = dde.nn.FNN(layer_size, activation, initializer)\n",
        "\n",
        "def output_transform(x, y):\n",
        "    return x * (np.pi - x) * y + x \n",
        "\n",
        "net.apply_output_transform(output_transform)\n",
        "\n",
        "model = dde.Model(data, net)\n",
        "model.compile(\"adam\", lr=1e-4, decay=(\"inverse time\", 1000, 0.3), metrics=[\"l2 relative error\"])\n",
        "\n",
        "losshistory, train_state = model.train(iterations=30000)\n",
        "\n",
        "dde.saveplot(losshistory, train_state, issave=True, isplot=True)"
      ],
      "metadata": {
        "colab": {
          "base_uri": "https://localhost:8080/",
          "height": 1000
        },
        "id": "lLAlEFkZi2DQ",
        "outputId": "fddbad8c-e22e-4009-d470-0c8c28c21806"
      },
      "execution_count": null,
      "outputs": [
        {
          "output_type": "stream",
          "name": "stderr",
          "text": [
            "Using backend: tensorflow.compat.v1\n",
            "\n",
            "WARNING:tensorflow:From /usr/local/lib/python3.8/dist-packages/tensorflow/python/compat/v2_compat.py:107: disable_resource_variables (from tensorflow.python.ops.variable_scope) is deprecated and will be removed in a future version.\n",
            "Instructions for updating:\n",
            "non-resource variables are not supported in the long term\n",
            "WARNING:tensorflow:From /usr/local/lib/python3.8/dist-packages/deepxde/nn/initializers.py:118: The name tf.keras.initializers.he_normal is deprecated. Please use tf.compat.v1.keras.initializers.he_normal instead.\n",
            "\n"
          ]
        },
        {
          "output_type": "stream",
          "name": "stdout",
          "text": [
            "Compiling model...\n",
            "Building feed-forward neural network...\n",
            "'build' took 0.078838 s\n",
            "\n"
          ]
        },
        {
          "output_type": "stream",
          "name": "stderr",
          "text": [
            "/usr/local/lib/python3.8/dist-packages/deepxde/nn/tensorflow_compat_v1/fnn.py:103: UserWarning: `tf.layers.dense` is deprecated and will be removed in a future version. Please use `tf.keras.layers.Dense` instead.\n",
            "  return tf.layers.dense(\n"
          ]
        },
        {
          "output_type": "stream",
          "name": "stdout",
          "text": [
            "'compile' took 0.812554 s\n",
            "\n",
            "Initializing variables...\n",
            "Training model...\n",
            "\n",
            "Step      Train loss    Test loss     Test metric   \n",
            "0         [6.73e+01]    [6.71e+01]    [4.82e-01]    \n",
            "1000      [3.08e+01]    [3.07e+01]    [1.10e-01]    \n",
            "2000      [2.81e+01]    [2.82e+01]    [7.37e-02]    \n",
            "3000      [1.25e+01]    [1.28e+01]    [2.89e-02]    \n",
            "4000      [1.20e+01]    [1.23e+01]    [2.92e-02]    \n",
            "5000      [9.84e+00]    [1.01e+01]    [3.31e-02]    \n",
            "6000      [4.40e+00]    [5.05e+00]    [2.00e-02]    \n",
            "7000      [9.46e-01]    [1.32e+00]    [4.49e-03]    \n",
            "8000      [4.85e-02]    [8.95e-02]    [2.00e-03]    \n",
            "9000      [9.09e-03]    [2.08e-02]    [5.13e-04]    \n",
            "10000     [3.76e-03]    [9.02e-03]    [2.08e-04]    \n",
            "11000     [1.97e-03]    [4.78e-03]    [1.10e-04]    \n",
            "12000     [1.08e-03]    [2.60e-03]    [4.63e-05]    \n",
            "13000     [6.33e-04]    [1.45e-03]    [1.02e-04]    \n",
            "14000     [3.82e-04]    [8.62e-04]    [4.22e-05]    \n",
            "15000     [2.52e-04]    [5.49e-04]    [1.87e-04]    \n",
            "16000     [1.57e-04]    [3.45e-04]    [8.29e-05]    \n",
            "17000     [1.15e-04]    [2.40e-04]    [3.95e-05]    \n",
            "18000     [9.53e-05]    [1.84e-04]    [5.00e-05]    \n",
            "19000     [8.37e-05]    [1.53e-04]    [1.30e-04]    \n",
            "20000     [7.04e-05]    [1.35e-04]    [6.73e-06]    \n",
            "21000     [6.40e-05]    [1.23e-04]    [5.10e-05]    \n",
            "22000     [7.09e-05]    [1.30e-04]    [2.18e-04]    \n",
            "23000     [5.50e-05]    [1.07e-04]    [1.61e-05]    \n",
            "24000     [5.04e-05]    [1.01e-04]    [6.76e-06]    \n",
            "25000     [4.90e-05]    [9.67e-05]    [1.22e-04]    \n",
            "26000     [4.40e-05]    [9.01e-05]    [3.51e-05]    \n",
            "27000     [4.13e-05]    [8.64e-05]    [1.24e-05]    \n",
            "28000     [3.91e-05]    [8.18e-05]    [8.49e-05]    \n",
            "29000     [3.64e-05]    [7.70e-05]    [5.40e-05]    \n",
            "30000     [3.56e-05]    [7.22e-05]    [1.51e-05]    \n",
            "\n",
            "Best model at step 30000:\n",
            "  train loss: 3.56e-05\n",
            "  test loss: 7.22e-05\n",
            "  test metric: [1.51e-05]\n",
            "\n",
            "'train' took 53.238375 s\n",
            "\n",
            "Saving loss history to /content/loss.dat ...\n",
            "Saving training data to /content/train.dat ...\n",
            "Saving test data to /content/test.dat ...\n"
          ]
        },
        {
          "output_type": "display_data",
          "data": {
            "text/plain": [
              "<Figure size 432x288 with 1 Axes>"
            ],
            "image/png": "[encoded data removed]"
          },
          "metadata": {
            "needs_background": "light"
          }
        },
        {
          "output_type": "display_data",
          "data": {
            "text/plain": [
              "<Figure size 432x288 with 1 Axes>"
            ],
            "image/png": "[encoded data removed]"
          },
          "metadata": {
            "needs_background": "light"
          }
        }
      ]
    },
    {
      "cell_type": "code",
      "source": [
        "\"\"\"Backend supported: tensorflow.compat.v1, tensorflow, pytorch, paddle\"\"\"\n",
        "import deepxde as dde\n",
        "import matplotlib.pyplot as plt\n",
        "import numpy as np\n",
        "from scipy import integrate\n",
        "# Import tf if using backend tensorflow.compat.v1 or tensorflow\n",
        "from deepxde.backend import tf\n",
        "# Import torch if using backend pytorch\n",
        "# import torch\n",
        "# Import paddle if using backend paddle\n",
        "# import paddle\n",
        "\n",
        "ub = 200\n",
        "rb = 20\n",
        "\n",
        "\n",
        "def func(t, r):\n",
        "    x, y = r\n",
        "    dx_t = 1 / ub * rb * (2.0 * ub * x - 0.04 * ub * x * ub * y)\n",
        "    dy_t = 1 / ub * rb * (0.02 * ub * x * ub * y - 1.06 * ub * y)\n",
        "    return dx_t, dy_t\n",
        "\n",
        "\n",
        "def gen_truedata():\n",
        "    t = np.linspace(0, 1, 100)\n",
        "\n",
        "    sol = integrate.solve_ivp(func, (0, 10), (100 / ub, 15 / ub), t_eval=t)\n",
        "    x_true, y_true = sol.y\n",
        "    x_true = x_true.reshape(100, 1)\n",
        "    y_true = y_true.reshape(100, 1)\n",
        "\n",
        "    return x_true, y_true\n",
        "\n",
        "\n",
        "def ode_system(x, y):\n",
        "    r = y[:, 0:1]\n",
        "    p = y[:, 1:2]\n",
        "    dr_t = dde.grad.jacobian(y, x, i=0)\n",
        "    dp_t = dde.grad.jacobian(y, x, i=1)\n",
        "    return [\n",
        "        dr_t - 1 / ub * rb * (2.0 * ub * r - 0.04 * ub * r * ub * p),\n",
        "        dp_t - 1 / ub * rb * (0.02 * r * ub * p * ub - 1.06 * p * ub),\n",
        "    ]\n",
        "\n",
        "\n",
        "geom = dde.geometry.TimeDomain(0.0, 1.0)\n",
        "data = dde.data.PDE(geom, ode_system, [], 3000, 2, num_test=3000)\n",
        "\n",
        "layer_size = [1] + [64] * 6 + [2]\n",
        "activation = \"tanh\"\n",
        "initializer = \"Glorot normal\"\n",
        "net = dde.nn.FNN(layer_size, activation, initializer)\n",
        "\n",
        "# Backend tensorflow.compat.v1 or tensorflow\n",
        "def input_transform(t):\n",
        "    return tf.concat(\n",
        "        (\n",
        "            t,\n",
        "            tf.sin(t),\n",
        "            tf.sin(2 * t),\n",
        "            tf.sin(3 * t),\n",
        "            tf.sin(4 * t),\n",
        "            tf.sin(5 * t),\n",
        "            tf.sin(6 * t),\n",
        "        ),\n",
        "        axis=1,\n",
        "    )\n",
        "# Backend pytorch\n",
        "# def input_transform(t):\n",
        "#     return torch.cat(\n",
        "#         [\n",
        "#             torch.sin(t),\n",
        "#         ],\n",
        "#         dim=1,\n",
        "#     )\n",
        "# Backend paddle\n",
        "# def input_transform(t):\n",
        "#     return paddle.concat(\n",
        "#         (\n",
        "#             t,\n",
        "#             paddle.sin(t),\n",
        "#             paddle.sin(2 * t),\n",
        "#             paddle.sin(3 * t),\n",
        "#             paddle.sin(4 * t),\n",
        "#             paddle.sin(5 * t),\n",
        "#             paddle.sin(6 * t),\n",
        "#         ),\n",
        "#         axis=1,\n",
        "#     )\n",
        "\n",
        "# hard constraints: x(0) = 100, y(0) = 15\n",
        "# Backend tensorflow.compat.v1 or tensorflow\n",
        "def output_transform(t, y):\n",
        "    y1 = y[:, 0:1]\n",
        "    y2 = y[:, 1:2]\n",
        "    return tf.concat([y1 * tf.tanh(t) + 100 / ub, y2 * tf.tanh(t) + 15 / ub], axis=1)\n",
        "# Backend pytorch\n",
        "# def output_transform(t, y):\n",
        "#     y1 = y[:, 0:1]\n",
        "#     y2 = y[:, 1:2]\n",
        "#     return torch.cat([y1 * torch.tanh(t) + 100 / ub, y2 * torch.tanh(t) + 15 / ub], dim=1)\n",
        "# Backend paddle\n",
        "# def output_transform(t, y):\n",
        "#     y1 = y[:, 0:1]\n",
        "#     y2 = y[:, 1:2]\n",
        "#     return paddle.cat([y1 * paddle.tanh(t) + 100 / ub, y2 * paddle.tanh(t) + 15 / ub], axis=1)\n",
        "\n",
        "net.apply_feature_transform(input_transform)\n",
        "net.apply_output_transform(output_transform)\n",
        "model = dde.Model(data, net)\n",
        "\n",
        "model.compile(\"adam\", lr=0.001)\n",
        "losshistory, train_state = model.train(iterations=1000)\n",
        "model.compile(\"L-BFGS\")\n",
        "losshistory, train_state = model.train()\n",
        "dde.saveplot(losshistory, train_state, issave=True, isplot=True)\n",
        "\n",
        "plt.xlabel(\"t\")\n",
        "plt.ylabel(\"population\")\n",
        "\n",
        "t = np.linspace(0, 1, 100)\n",
        "x_true, y_true = gen_truedata()\n",
        "plt.plot(t, x_true, color=\"black\", label=\"x_true\")\n",
        "plt.plot(t, y_true, color=\"blue\", label=\"y_true\")\n",
        "\n",
        "t = t.reshape(100, 1)\n",
        "sol_pred = model.predict(t)\n",
        "x_pred = sol_pred[:, 0:1]\n",
        "y_pred = sol_pred[:, 1:2]\n",
        "\n",
        "plt.plot(t, x_pred, color=\"red\", linestyle=\"dashed\", label=\"x_pred\")\n",
        "plt.plot(t, y_pred, color=\"orange\", linestyle=\"dashed\", label=\"y_pred\")\n",
        "plt.legend()\n",
        "plt.show()"
      ],
      "metadata": {
        "id": "kLMa5WdZPrzT"
      },
      "execution_count": null,
      "outputs": []
    }
  ]
}