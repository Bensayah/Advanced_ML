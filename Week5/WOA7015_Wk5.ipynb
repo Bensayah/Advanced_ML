{
  "nbformat": 4,
  "nbformat_minor": 0,
  "metadata": {
    "colab": {
      "name": "WOA7015_Wk5.ipynb",
      "provenance": [],
      "authorship_tag": "ABX9TyNn/qDa4/rskv06hAep2DN5",
      "include_colab_link": true
    },
    "kernelspec": {
      "name": "python3",
      "display_name": "Python 3"
    },
    "language_info": {
      "name": "python"
    }
  },
  "cells": [
    {
      "cell_type": "markdown",
      "metadata": {
        "id": "view-in-github",
        "colab_type": "text"
      },
      "source": [
        "<a href=\"https://colab.research.google.com/github/shiernee/Advanced_ML/blob/main/Week5/WOA7015_Wk5.ipynb\" target=\"_parent\"><img src=\"https://colab.research.google.com/assets/colab-badge.svg\" alt=\"Open In Colab\"/></a>"
      ]
    },
    {
      "cell_type": "markdown",
      "metadata": {
        "id": "-Z_E7HRInRGi"
      },
      "source": [
        "# Welcome to WOA7015 Advance Machine Learning Lab - Week 5\n",
        "This code is generated for the purpose of WOA7015 module.\n",
        "The code is available in github https://github.com/shiernee/Advanced_ML \n"
      ]
    },
    {
      "cell_type": "markdown",
      "metadata": {
        "id": "qWccdBk_nl10"
      },
      "source": [
        "## Now we do a simple SVM model training. "
      ]
    },
    {
      "cell_type": "code",
      "metadata": {
        "id": "kN9JWTFCFyGO"
      },
      "source": [
        "import matplotlib.pyplot as plt\n",
        "import numpy as np\n",
        "from sklearn.datasets import make_blobs\n",
        "from sklearn.svm import SVC\n",
        "from sklearn.model_selection import train_test_split\n",
        "from sklearn.metrics import plot_confusion_matrix, accuracy_score\n",
        "from mlxtend.plotting import plot_decision_regions\n",
        "import pandas as pd"
      ],
      "execution_count": null,
      "outputs": []
    },
    {
      "cell_type": "code",
      "metadata": {
        "id": "fNzM_JTCt5-A"
      },
      "source": [
        "# Generate data\n",
        "\n",
        "# Configuration options\n",
        "num_samples_total = 150\n",
        "cluster_centers = [(5,5), (4,3)]\n",
        "num_classes = len(cluster_centers)\n",
        "\n",
        "# Generate data\n",
        "X, y = make_blobs(n_samples = num_samples_total, centers = cluster_centers, n_features = num_classes, cluster_std = 0.80)\n",
        "plt.scatter(X[:, 0], X[:, 1], c=y)\n"
      ],
      "execution_count": null,
      "outputs": []
    },
    {
      "cell_type": "code",
      "metadata": {
        "id": "DCY87clQGdcW"
      },
      "source": [
        "# Create the SVM with linear kernel\n",
        "svm = SVC(random_state=42, kernel='linear')\n",
        "\n",
        "# Fit the data to the SVM classifier\n",
        "svm = svm.fit(X, y)\n"
      ],
      "execution_count": null,
      "outputs": []
    },
    {
      "cell_type": "code",
      "metadata": {
        "id": "DKYrn8csGkan"
      },
      "source": [
        "# Evaluate by means of a confusion matrix\n",
        "matrix = plot_confusion_matrix(svm, X, y,\n",
        "                               cmap=plt.cm.Blues)\n",
        "plt.title('Confusion matrix for linear SVM')\n",
        "plt.show(matrix)\n",
        "plt.show()"
      ],
      "execution_count": null,
      "outputs": []
    },
    {
      "cell_type": "code",
      "metadata": {
        "colab": {
          "base_uri": "https://localhost:8080/"
        },
        "id": "a4MzSymBG1un",
        "outputId": "b0097ecc-7f5f-43ec-bf6c-1147c991b76c"
      },
      "source": [
        "# Generate predictions\n",
        "y_pred = svm.predict(X)\n",
        "\n",
        "# Evaluate by means of accuracy\n",
        "accuracy = accuracy_score(y, y_pred)\n",
        "print(f'Model accuracy: {accuracy:.4f}')"
      ],
      "execution_count": null,
      "outputs": [
        {
          "output_type": "stream",
          "name": "stdout",
          "text": [
            "Model accuracy: 0.9333\n"
          ]
        }
      ]
    },
    {
      "cell_type": "code",
      "metadata": {
        "colab": {
          "base_uri": "https://localhost:8080/",
          "height": 299
        },
        "id": "PK3ZQ6gSG6Df",
        "outputId": "12b83051-4a79-4fde-d4fd-8d99fb265752"
      },
      "source": [
        "# Plot decision boundary\n",
        "plot_decision_regions(X, y, clf=svm, legend=2)\n",
        "plt.show()"
      ],
      "execution_count": null,
      "outputs": [
        {
          "output_type": "stream",
          "name": "stderr",
          "text": [
            "/usr/local/lib/python3.7/dist-packages/mlxtend/plotting/decision_regions.py:244: MatplotlibDeprecationWarning: Passing unsupported keyword arguments to axis() will raise a TypeError in 3.3.\n",
            "  ax.axis(xmin=xx.min(), xmax=xx.max(), y_min=yy.min(), y_max=yy.max())\n"
          ]
        },
        {
          "output_type": "display_data",
          "data": {
            "image/png": "[encoded data removed]",
            "text/plain": [
              "<Figure size 432x288 with 1 Axes>"
            ]
          },
          "metadata": {
            "needs_background": "light"
          }
        }
      ]
    },
    {
      "cell_type": "markdown",
      "metadata": {
        "id": "m8NnaLkeO1jZ"
      },
      "source": [
        "### How do we know if the model is good to predict future data? \n",
        "We split the data into training and testing data. \n",
        "\n",
        "Testing data serves as a future data. \n",
        "\n",
        "<img src=\"https://raw.githubusercontent.com/shiernee/Advanced_ML/main/Week5/train_test.png\" width=\"300\"/>"
      ]
    },
    {
      "cell_type": "code",
      "metadata": {
        "colab": {
          "base_uri": "https://localhost:8080/"
        },
        "id": "DyyQwdFKPN42",
        "outputId": "cbe12aa2-d05f-41a5-d301-4e0bc30274fe"
      },
      "source": [
        "# Split into training and testing data\n",
        "X_train, X_test, y_train, y_test = train_test_split(X, y, test_size=0.20, random_state=42)\n",
        "\n",
        "print('no of training data: ', len(X_train))\n",
        "print('no of testing data: ', len(X_test))"
      ],
      "execution_count": null,
      "outputs": [
        {
          "output_type": "stream",
          "name": "stdout",
          "text": [
            "no of training data:  120\n",
            "no of testing data:  30\n"
          ]
        }
      ]
    },
    {
      "cell_type": "code",
      "metadata": {
        "colab": {
          "base_uri": "https://localhost:8080/"
        },
        "id": "AmABjdVvO06H",
        "outputId": "184e465f-4cd5-4a77-c2b8-604fcb19f883"
      },
      "source": [
        "# Create the SVM with linear kernel\n",
        "svm = SVC(random_state=42, kernel='linear')\n",
        "\n",
        "# Fit the data to the SVM classifier\n",
        "svm = svm.fit(X_train, y_train)\n",
        "\n",
        "# Generate predictions\n",
        "y_pred_train = svm.predict(X_train)\n",
        "y_pred_test = svm.predict(X_test)\n",
        "\n",
        "# Evaluate by means of accuracy\n",
        "train_accuracy = accuracy_score(y_train, y_pred_train)\n",
        "test_accuracy = accuracy_score(y_test, y_pred_test)\n",
        "print(f'Model training accuracy: {train_accuracy:.4f}')\n",
        "print(f'Model testing accuracy: {test_accuracy:.4f}')"
      ],
      "execution_count": null,
      "outputs": [
        {
          "output_type": "stream",
          "name": "stdout",
          "text": [
            "Model training accuracy: 0.9500\n",
            "Model testing accuracy: 0.8667\n"
          ]
        }
      ]
    },
    {
      "cell_type": "code",
      "metadata": {
        "id": "jP-4-AofBPow"
      },
      "source": [
        "# Plot decision boundary for training data\n",
        "plot_decision_regions(X_train, y_train, clf=svm, legend=2)\n",
        "plt.title(f'training acc: {train_accuracy:.4f}')\n",
        "plt.show()\n",
        "\n",
        "# Plot decision boundary for testing data\n",
        "plot_decision_regions(X_test, y_test, clf=svm, legend=2)\n",
        "plt.title(f'testing acc: {test_accuracy:.4f}')\n",
        "plt.show()"
      ],
      "execution_count": null,
      "outputs": []
    },
    {
      "cell_type": "markdown",
      "metadata": {
        "id": "qyow97arSUt7"
      },
      "source": [
        "# To check if the model is really robust. \n",
        "# We can do cross validation.\n",
        "\n",
        "Cross validation is we seperate data into k-fold. Here, we demostrate 5-fold. <br> \n",
        "\n",
        "<img src=\"https://raw.githubusercontent.com/shiernee/Advanced_ML/main/Week5/CV.png\" width=\"512\"/>\n",
        "\n",
        "<br>\n",
        "\n",
        "**At first iteration**, \n",
        "*   Use the first four set of data for training (blue boxes) and last set of data (white box) as validation.\n",
        "*    We train the model using training data and test on the validation data. \n",
        "*    We will get *validation accuracy_1*. <br>\n",
        "\n",
        "**At second iteration**, \n",
        "*   Use the first 1, 2, 3, 5 set of data for training (blue boxes) and 4th set of data (white box) as validation.\n",
        "*    We train the model using training data and test on the validation data. \n",
        "*    We will get *validation accuracy_2*. <br>\n",
        "\n",
        "**At third iteration**, \n",
        "*   Use the first 1, 2, 4, 5 set of data for training (blue boxes) and 3rd set of data (white box) as validation.\n",
        "*    We train the model using training data and test on the validation data. \n",
        "*    We will get *validation accuracy_3*. <br>\n",
        "\n",
        "**Repeat till 5th iteration, we will have 5 validation accuracy. <br>\n",
        "Average accuracy can be computed to evaluate the model performance.**\n",
        "\n",
        "\n",
        "\n",
        "\n",
        "\n",
        "\n",
        "\n"
      ]
    },
    {
      "cell_type": "code",
      "metadata": {
        "id": "rrA_eRzWQnkj"
      },
      "source": [
        "from sklearn.model_selection import KFold\n",
        "# refer to https://scikit-learn.org/stable/modules/cross_validation.html \n",
        "\n",
        "kf = KFold(n_splits=5)\n",
        "n=1\n",
        "train_acc, val_acc = [], []\n",
        "\n",
        "for train_index, test_index in kf.split(X):\n",
        "  X_train, X_val = X[train_index], X[test_index]\n",
        "  y_train, y_val = y[train_index], y[test_index]\n",
        "\n",
        "  print('Fold ', n)\n",
        "  print('no of training data: ', len(X_train))\n",
        "  print('no of validation data: ', len(X_val))\n",
        "\n",
        "  # Create the SVM with linear kernel\n",
        "  svm = SVC(random_state=42, kernel='linear')\n",
        "\n",
        "  # Fit the data to the SVM classifier\n",
        "  svm = svm.fit(X_train, y_train)\n",
        "\n",
        "  # Generate predictions\n",
        "  y_pred_train = svm.predict(X_train)\n",
        "  y_pred_val = svm.predict(X_val)\n",
        "\n",
        "  # Evaluate by means of accuracy\n",
        "  train_accuracy = accuracy_score(y_train, y_pred_train)\n",
        "  val_accuracy = accuracy_score(y_val, y_pred_val)\n",
        "  print(f'Model training accuracy: {train_accuracy:.4f}')\n",
        "  print(f'Model testing accuracy: {val_accuracy:.4f}')\n",
        "\n",
        "  n += 1\n",
        "  train_acc.append(train_accuracy)\n",
        "  val_acc.append(val_accuracy)\n",
        "  print('------------------------------------')\n",
        "\n",
        "print(f'Validation Accuracy: {np.average(train_acc):.4f} +- {np.std(val_acc):.4f}')\n"
      ],
      "execution_count": null,
      "outputs": []
    },
    {
      "cell_type": "markdown",
      "metadata": {
        "id": "BXHN-2pNHoO1"
      },
      "source": [
        "## Hyperparameter Tuning\n",
        "\n",
        "We know that there are parameters that can be tuned. To determine the best hyperparameter, we use grid_search which uses cross validation concept to determine the best hyperparameter. \n",
        "\n",
        "\n",
        "<img src=\"https://raw.githubusercontent.com/shiernee/Advanced_ML/main/Week5/CV_test.png\" width=\"512\"/>\n",
        "\n",
        "<br>\n",
        "\n",
        "**Split the data into Train, Validation and Test**\n",
        "\n",
        "**At first iteration**, \n",
        "*   Use the first four set of data for training (blue boxes) and last set of data (white box) as validation.\n",
        "*    We train the model using training data ***using different combination of hyperparameters*** and test on the validation data. \n",
        "*    Says we tried 5 hyperparameter combinations, we will have 5 models and 5 validation accuracies. \n",
        "*    The model that give the highest validation accuracy will be chosen. \n",
        "*    We will get *validation accuracy_1* and a set of *hyperparameter_1*. <br>\n",
        "\n",
        "**At second iteration**, \n",
        "*   Use the first 1, 2, 3, 5 set of data for training (blue boxes) and 4th set of data (white box) as validation.\n",
        "*    We train the model using training data ***using different combination of hyperparameters*** and test on the validation data. \n",
        "*    Says we tried 5 hyperparameter combinations, we will have 5 models and 5 validation accuracies. \n",
        "*    We will get *validation accuracy_2* and a set of *hyperparameter_2*. <br>\n",
        "\n",
        "\n",
        "**Repeat till 5th iteration, we will have 5 validation accuracies. <br>\n",
        "The set of hyperparameters that gives the highest validation accuracy will be chosen.  <br>\n",
        "Retrain your model with all of the training + validation data using the best hyperparameter. <br>\n",
        "Evaluate your final model on test set** \n"
      ]
    },
    {
      "cell_type": "markdown",
      "metadata": {
        "id": "HpLWeAGeqlsC"
      },
      "source": [
        "### We can use GridSearchCV in which it does the procedure we described. \n",
        "https://scikit-learn.org/stable/modules/generated/sklearn.model_selection.GridSearchCV.html \n",
        "\n",
        "<img src=\"https://raw.githubusercontent.com/shiernee/Advanced_ML/main/Week5/iris.PNG\" width=\"620\"/>\n",
        "\n",
        "In this example, we use iris data. \n",
        "X has four variables. \n",
        "1. sepal length in cm \n",
        "2. sepal width in cm\n",
        "3. petal length in cm\n",
        "4. petal width in cm\n",
        "\n",
        "y has three outputs. \n",
        "*  0 -- Iris Setosa\n",
        "*  1 -- Iris Versicolour\n",
        "*  2 -- Iris Virginica\n",
        "\n",
        "\n",
        "\n"
      ]
    },
    {
      "cell_type": "code",
      "metadata": {
        "id": "Aoob2P1rHn1J",
        "colab": {
          "base_uri": "https://localhost:8080/"
        },
        "outputId": "e1a56b31-14b3-473d-d784-160ae5dea993"
      },
      "source": [
        "from sklearn.model_selection import GridSearchCV\n",
        "from sklearn import svm, datasets\n",
        "\n",
        "# use iris data\n",
        "iris = datasets.load_iris()\n",
        "X, y = iris.data, iris.target\n",
        "\n",
        "# Split into training and testing data\n",
        "X_train, X_test, y_train, y_test = train_test_split(X, y, test_size=0.20, random_state=42)\n",
        "\n",
        "print('no of training data: ', len(X_train))\n",
        "print('no of testing data: ', len(X_test))\n"
      ],
      "execution_count": null,
      "outputs": [
        {
          "output_type": "stream",
          "name": "stdout",
          "text": [
            "no of training data:  120\n",
            "no of testing data:  30\n"
          ]
        }
      ]
    },
    {
      "cell_type": "code",
      "metadata": {
        "colab": {
          "base_uri": "https://localhost:8080/",
          "height": 235
        },
        "id": "MCWVLH0DyP47",
        "outputId": "4a79a6dd-6244-492d-f9ac-6fcb9a729484"
      },
      "source": [
        "svc = SVC()\n",
        "parameters = {'kernel':('linear', 'rbf'), 'C':[0.1, 1, 10]}\n",
        "clf = GridSearchCV(svc, parameters, cv=4)\n",
        "clf.fit(X_train, y_train)\n",
        "results = clf.cv_results_\n",
        "results = pd.DataFrame.from_dict(results)\n",
        "results"
      ],
      "execution_count": null,
      "outputs": [
        {
          "output_type": "execute_result",
          "data": {
            "text/html": [
              "<div>\n",
              "<style scoped>\n",
              "    .dataframe tbody tr th:only-of-type {\n",
              "        vertical-align: middle;\n",
              "    }\n",
              "\n",
              "    .dataframe tbody tr th {\n",
              "        vertical-align: top;\n",
              "    }\n",
              "\n",
              "    .dataframe thead th {\n",
              "        text-align: right;\n",
              "    }\n",
              "</style>\n",
              "<table border=\"1\" class=\"dataframe\">\n",
              "  <thead>\n",
              "    <tr style=\"text-align: right;\">\n",
              "      <th></th>\n",
              "      <th>mean_fit_time</th>\n",
              "      <th>std_fit_time</th>\n",
              "      <th>mean_score_time</th>\n",
              "      <th>std_score_time</th>\n",
              "      <th>param_C</th>\n",
              "      <th>param_kernel</th>\n",
              "      <th>params</th>\n",
              "      <th>split0_test_score</th>\n",
              "      <th>split1_test_score</th>\n",
              "      <th>split2_test_score</th>\n",
              "      <th>split3_test_score</th>\n",
              "      <th>mean_test_score</th>\n",
              "      <th>std_test_score</th>\n",
              "      <th>rank_test_score</th>\n",
              "    </tr>\n",
              "  </thead>\n",
              "  <tbody>\n",
              "    <tr>\n",
              "      <th>0</th>\n",
              "      <td>0.001057</td>\n",
              "      <td>0.000186</td>\n",
              "      <td>0.000702</td>\n",
              "      <td>0.000078</td>\n",
              "      <td>0.1</td>\n",
              "      <td>linear</td>\n",
              "      <td>{'C': 0.1, 'kernel': 'linear'}</td>\n",
              "      <td>1.000000</td>\n",
              "      <td>0.933333</td>\n",
              "      <td>0.933333</td>\n",
              "      <td>0.966667</td>\n",
              "      <td>0.958333</td>\n",
              "      <td>0.027639</td>\n",
              "      <td>2</td>\n",
              "    </tr>\n",
              "    <tr>\n",
              "      <th>1</th>\n",
              "      <td>0.000939</td>\n",
              "      <td>0.000069</td>\n",
              "      <td>0.000440</td>\n",
              "      <td>0.000072</td>\n",
              "      <td>0.1</td>\n",
              "      <td>rbf</td>\n",
              "      <td>{'C': 0.1, 'kernel': 'rbf'}</td>\n",
              "      <td>0.966667</td>\n",
              "      <td>0.766667</td>\n",
              "      <td>0.933333</td>\n",
              "      <td>0.900000</td>\n",
              "      <td>0.891667</td>\n",
              "      <td>0.075920</td>\n",
              "      <td>6</td>\n",
              "    </tr>\n",
              "    <tr>\n",
              "      <th>2</th>\n",
              "      <td>0.000539</td>\n",
              "      <td>0.000015</td>\n",
              "      <td>0.000322</td>\n",
              "      <td>0.000029</td>\n",
              "      <td>1</td>\n",
              "      <td>linear</td>\n",
              "      <td>{'C': 1, 'kernel': 'linear'}</td>\n",
              "      <td>1.000000</td>\n",
              "      <td>0.966667</td>\n",
              "      <td>0.933333</td>\n",
              "      <td>0.966667</td>\n",
              "      <td>0.966667</td>\n",
              "      <td>0.023570</td>\n",
              "      <td>1</td>\n",
              "    </tr>\n",
              "    <tr>\n",
              "      <th>3</th>\n",
              "      <td>0.000652</td>\n",
              "      <td>0.000054</td>\n",
              "      <td>0.000355</td>\n",
              "      <td>0.000014</td>\n",
              "      <td>1</td>\n",
              "      <td>rbf</td>\n",
              "      <td>{'C': 1, 'kernel': 'rbf'}</td>\n",
              "      <td>1.000000</td>\n",
              "      <td>0.933333</td>\n",
              "      <td>0.933333</td>\n",
              "      <td>0.966667</td>\n",
              "      <td>0.958333</td>\n",
              "      <td>0.027639</td>\n",
              "      <td>2</td>\n",
              "    </tr>\n",
              "    <tr>\n",
              "      <th>4</th>\n",
              "      <td>0.000598</td>\n",
              "      <td>0.000066</td>\n",
              "      <td>0.000325</td>\n",
              "      <td>0.000039</td>\n",
              "      <td>10</td>\n",
              "      <td>linear</td>\n",
              "      <td>{'C': 10, 'kernel': 'linear'}</td>\n",
              "      <td>0.966667</td>\n",
              "      <td>0.933333</td>\n",
              "      <td>0.933333</td>\n",
              "      <td>1.000000</td>\n",
              "      <td>0.958333</td>\n",
              "      <td>0.027639</td>\n",
              "      <td>5</td>\n",
              "    </tr>\n",
              "    <tr>\n",
              "      <th>5</th>\n",
              "      <td>0.000560</td>\n",
              "      <td>0.000016</td>\n",
              "      <td>0.000333</td>\n",
              "      <td>0.000008</td>\n",
              "      <td>10</td>\n",
              "      <td>rbf</td>\n",
              "      <td>{'C': 10, 'kernel': 'rbf'}</td>\n",
              "      <td>0.966667</td>\n",
              "      <td>0.966667</td>\n",
              "      <td>0.933333</td>\n",
              "      <td>0.966667</td>\n",
              "      <td>0.958333</td>\n",
              "      <td>0.014434</td>\n",
              "      <td>2</td>\n",
              "    </tr>\n",
              "  </tbody>\n",
              "</table>\n",
              "</div>"
            ],
            "text/plain": [
              "   mean_fit_time  std_fit_time  ...  std_test_score  rank_test_score\n",
              "0       0.001057      0.000186  ...        0.027639                2\n",
              "1       0.000939      0.000069  ...        0.075920                6\n",
              "2       0.000539      0.000015  ...        0.023570                1\n",
              "3       0.000652      0.000054  ...        0.027639                2\n",
              "4       0.000598      0.000066  ...        0.027639                5\n",
              "5       0.000560      0.000016  ...        0.014434                2\n",
              "\n",
              "[6 rows x 14 columns]"
            ]
          },
          "metadata": {},
          "execution_count": 95
        }
      ]
    },
    {
      "cell_type": "code",
      "metadata": {
        "colab": {
          "base_uri": "https://localhost:8080/"
        },
        "id": "mm6e1le8zsiA",
        "outputId": "33a3ce2a-d3b6-429d-fa90-175dc2d36893"
      },
      "source": [
        "# Retrain the model with the best hyperparameter \n",
        "best_param = clf.best_params_\n",
        "print('best param: ', best_param)\n",
        "svc.set_params(**best_param)\n",
        "svc.fit(X_train, y_train)"
      ],
      "execution_count": null,
      "outputs": [
        {
          "output_type": "stream",
          "name": "stdout",
          "text": [
            "best param:  {'C': 10, 'kernel': 'linear'}\n"
          ]
        },
        {
          "output_type": "execute_result",
          "data": {
            "text/plain": [
              "SVC(C=10, break_ties=False, cache_size=200, class_weight=None, coef0=0.0,\n",
              "    decision_function_shape='ovr', degree=3, gamma='scale', kernel='linear',\n",
              "    max_iter=-1, probability=False, random_state=None, shrinking=True,\n",
              "    tol=0.001, verbose=False)"
            ]
          },
          "metadata": {},
          "execution_count": 30
        }
      ]
    },
    {
      "cell_type": "code",
      "metadata": {
        "id": "S-etmQa71aQW"
      },
      "source": [
        "# Evaluate model performance using test data\n",
        "\n",
        "# Generate predictions\n",
        "y_pred = svc.predict(X_test)\n",
        "\n",
        "# Evaluate by means of accuracy\n",
        "test_accuracy = accuracy_score(y_test, y_pred)\n",
        "print('Model CV accuracy: ', results['mean_test_score'].iloc[2])  \n",
        "print('Model testing accuracy: ', test_accuracy)\n",
        "print('Parameter used:', best_param)"
      ],
      "execution_count": null,
      "outputs": []
    },
    {
      "cell_type": "code",
      "metadata": {
        "id": "_RlS4UcS6YCR"
      },
      "source": [
        "# Evaluate by means of a confusion matrix\n",
        "from sklearn.metrics import ConfusionMatrixDisplay\n",
        "\n",
        "# Evaluate by means of a confusion matrix\n",
        "matrix = plot_confusion_matrix(svc, X_test, y_test,\n",
        "                              cmap=plt.cm.Blues, \n",
        "                               display_labels=iris.target_names)\n",
        "plt.title('Confusion matrix for linear SVM')\n",
        "plt.show(matrix)\n",
        "plt.show()"
      ],
      "execution_count": null,
      "outputs": []
    },
    {
      "cell_type": "code",
      "metadata": {
        "id": "i_9bEcmf8DbA"
      },
      "source": [
        "from sklearn.metrics import classification_report\n",
        "y_pred = svc.predict(X_test)\n",
        "print(classification_report(y_test, y_pred, target_names=iris.target_names))"
      ],
      "execution_count": null,
      "outputs": []
    },
    {
      "cell_type": "markdown",
      "metadata": {
        "id": "OJYyMgiRD9B5"
      },
      "source": [
        "## Your task (10%): Train a SVM model to best classify breast cancer data.\n",
        "\n",
        "Steps:\n",
        "1. Load data \n",
        "2. 2% - split data into 80% train, 20% test \n",
        "3. 2% - train your svm model using only the train data. \n",
        "4. 4% - Try at least 10 different hyperparameter using cross validation, obtain the validation accuracies. \n",
        "5. 2% - What do you observe? "
      ]
    },
    {
      "cell_type": "code",
      "metadata": {
        "id": "Pn-XbV7JnMX7"
      },
      "source": [
        "import pandas as pd\n",
        "import matplotlib.pyplot as plt\n",
        "from sklearn import datasets"
      ],
      "execution_count": 2,
      "outputs": []
    },
    {
      "cell_type": "code",
      "metadata": {
        "id": "NDGfHBI7nk02"
      },
      "source": [
        "# Load the breast cancer dataset\n",
        "bc = datasets.load_breast_cancer()\n",
        "X = pd.DataFrame(data=bc.data)  # 30 features\n",
        "y = bc.target"
      ],
      "execution_count": 8,
      "outputs": []
    },
    {
      "cell_type": "code",
      "metadata": {
        "id": "7ufnYnQZE9pr"
      },
      "source": [
        "# your code here #"
      ],
      "execution_count": null,
      "outputs": []
    },
    {
      "cell_type": "markdown",
      "metadata": {
        "id": "OPNrNbz1Hkwh"
      },
      "source": [
        "# Submission Instructions\n",
        "Once you are finished, follow these steps:\n",
        "\n",
        "Restart the kernel and re-run this notebook from beginning to end by going to Kernel > Restart Kernel and Run All Cells.\n",
        "If this process stops halfway through, that means there was an error. Correct the error and repeat Step 1 until the notebook runs from beginning to end.\n",
        "Double check that there is a number next to each code cell and that these numbers are in order.\n",
        "Then, submit your lab as follows:\n",
        "\n",
        "Go to File > Print > Save as PDF.\n",
        "Double check that the entire notebook, from beginning to end, is in this PDF file. Make sure Solution for Exercise 5 are in for marks. \n",
        "Upload the PDF to Spectrum. "
      ]
    }
  ]
}